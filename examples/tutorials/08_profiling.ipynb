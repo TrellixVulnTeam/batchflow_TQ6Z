{
 "cells": [
  {
   "cell_type": "markdown",
   "metadata": {},
   "source": [
    "# Profiling BatchFlow code"
   ]
  },
  {
   "cell_type": "markdown",
   "metadata": {},
   "source": [
    "A profile is a set of statistics that describes how often and for how long various parts of the program executed.\n",
    "\n",
    "This notebooks shows how to profile various parts of BatchFlow: namely, pipelines and models."
   ]
  },
  {
   "cell_type": "code",
   "execution_count": 1,
   "metadata": {
    "ExecuteTime": {
     "end_time": "2020-02-21T07:20:17.505142Z",
     "start_time": "2020-02-21T07:20:14.801351Z"
    }
   },
   "outputs": [],
   "source": [
    "import sys\n",
    "\n",
    "sys.path.append(\"../../..\")\n",
    "from batchflow import B, V, W\n",
    "from batchflow.opensets import MNIST\n",
    "from batchflow.models.torch import ResNet18"
   ]
  },
  {
   "cell_type": "code",
   "execution_count": 2,
   "metadata": {
    "ExecuteTime": {
     "end_time": "2020-02-21T07:20:19.270157Z",
     "start_time": "2020-02-21T07:20:17.507166Z"
    }
   },
   "outputs": [],
   "source": [
    "dataset = MNIST()"
   ]
  },
  {
   "cell_type": "markdown",
   "metadata": {},
   "source": [
    "To collect information about model training times (both on CPU and GPU), one must set `profile` option in the model configuration to `True`:"
   ]
  },
  {
   "cell_type": "code",
   "execution_count": 3,
   "metadata": {
    "ExecuteTime": {
     "end_time": "2020-02-21T07:20:19.317004Z",
     "start_time": "2020-02-21T07:20:19.272458Z"
    }
   },
   "outputs": [],
   "source": [
    "model_config = {\n",
    "    'inputs/labels/classes': 10,\n",
    "    'loss': 'ce',\n",
    "    'profile': True,\n",
    "    'device': 'cpu',\n",
    "    'profile': False,\n",
    "    'amp': False\n",
    "}"
   ]
  },
  {
   "cell_type": "code",
   "execution_count": 4,
   "metadata": {
    "ExecuteTime": {
     "end_time": "2020-02-21T07:20:19.362792Z",
     "start_time": "2020-02-21T07:20:19.321649Z"
    }
   },
   "outputs": [],
   "source": [
    "pipeline = (dataset.train.p\n",
    "                .init_variable('loss_history', [])\n",
    "                .to_array(channels='first', dtype='float32')\n",
    "                .multiply(multiplier=1/255., preserve_type=False)\n",
    "                .init_model('resnet', ResNet18, 'dynamic',\n",
    "                            config=model_config)\n",
    "                .train_model('resnet',\n",
    "                             B.images, B.labels,\n",
    "                             fetches='loss',\n",
    "                             save_to=V('loss_history', mode='a'))\n",
    "                )"
   ]
  },
  {
   "cell_type": "markdown",
   "metadata": {},
   "source": [
    "To gather statistics about how long each action takes, we must set `profile` to `True` inside `run` call:"
   ]
  },
  {
   "cell_type": "code",
   "execution_count": 5,
   "metadata": {
    "ExecuteTime": {
     "end_time": "2020-02-21T07:21:42.137039Z",
     "start_time": "2020-02-21T07:20:19.364601Z"
    }
   },
   "outputs": [
    {
     "name": "stderr",
     "output_type": "stream",
     "text": [
      "  0%|                                                    | 0/50 [00:00<?, ?it/s]/opt/conda/lib/python3.6/site-packages/torch/nn/functional.py:718: UserWarning: Named tensors and all their associated APIs are an experimental feature and subject to change. Please do not use them for anything important until they are released as stable. (Triggered internally at  /pytorch/c10/core/TensorImpl.h:1156.)\n",
      "  return torch.max_pool2d(input, kernel_size, stride, padding, dilation, ceil_mode)\n",
      "100%|███████████████████████████████████████████| 50/50 [00:11<00:00,  4.27it/s]\n"
     ]
    },
    {
     "data": {
      "text/plain": [
       "<batchflow.batchflow.pipeline.Pipeline at 0x7f3bced2c2e8>"
      ]
     },
     "execution_count": 5,
     "metadata": {},
     "output_type": "execute_result"
    }
   ],
   "source": [
    "BATCH_SIZE = 64\n",
    "N_ITERS = 50\n",
    "\n",
    "pipeline.run(BATCH_SIZE, n_iters=N_ITERS, bar=True, profile='d')"
   ]
  },
  {
   "cell_type": "markdown",
   "metadata": {},
   "source": [
    "# Pipeline profiling"
   ]
  },
  {
   "cell_type": "markdown",
   "metadata": {},
   "source": [
    "First of all, there is an `elapsed_time` attribute inside every instance of `Pipeline`: it stores total time of running the pipeline (even if it was used multiple times):"
   ]
  },
  {
   "cell_type": "code",
   "execution_count": 6,
   "metadata": {
    "ExecuteTime": {
     "end_time": "2020-02-21T07:21:42.185194Z",
     "start_time": "2020-02-21T07:21:42.144566Z"
    }
   },
   "outputs": [
    {
     "ename": "AttributeError",
     "evalue": "elapsed_time not found in class Pipeline",
     "output_type": "error",
     "traceback": [
      "\u001b[0;31m---------------------------------------------------------------------------\u001b[0m",
      "\u001b[0;31mAttributeError\u001b[0m                            Traceback (most recent call last)",
      "\u001b[0;32m<ipython-input-6-9c61f3238a4b>\u001b[0m in \u001b[0;36m<module>\u001b[0;34m\u001b[0m\n\u001b[0;32m----> 1\u001b[0;31m \u001b[0mpipeline\u001b[0m\u001b[0;34m.\u001b[0m\u001b[0melapsed_time\u001b[0m\u001b[0;34m\u001b[0m\u001b[0;34m\u001b[0m\u001b[0m\n\u001b[0m",
      "\u001b[0;32m/notebooks/kozhevin/faults_detector/seismiqb/seismiqb/batchflow/batchflow/pipeline.py\u001b[0m in \u001b[0;36m__getattr__\u001b[0;34m(self, name)\u001b[0m\n\u001b[1;32m    303\u001b[0m         \u001b[0;32mif\u001b[0m \u001b[0mself\u001b[0m\u001b[0;34m.\u001b[0m\u001b[0mis_method_from_ns\u001b[0m\u001b[0;34m(\u001b[0m\u001b[0mname\u001b[0m\u001b[0;34m)\u001b[0m\u001b[0;34m:\u001b[0m\u001b[0;34m\u001b[0m\u001b[0;34m\u001b[0m\u001b[0m\n\u001b[1;32m    304\u001b[0m             \u001b[0;32mreturn\u001b[0m \u001b[0mpartial\u001b[0m\u001b[0;34m(\u001b[0m\u001b[0mself\u001b[0m\u001b[0;34m.\u001b[0m\u001b[0m_add_action\u001b[0m\u001b[0;34m,\u001b[0m \u001b[0mCALL_FROM_NS_ID\u001b[0m\u001b[0;34m,\u001b[0m \u001b[0m_name\u001b[0m\u001b[0;34m=\u001b[0m\u001b[0mname\u001b[0m\u001b[0;34m)\u001b[0m\u001b[0;34m\u001b[0m\u001b[0;34m\u001b[0m\u001b[0m\n\u001b[0;32m--> 305\u001b[0;31m         \u001b[0;32mraise\u001b[0m \u001b[0mAttributeError\u001b[0m\u001b[0;34m(\u001b[0m\u001b[0;34m\"%s not found in class %s\"\u001b[0m \u001b[0;34m%\u001b[0m \u001b[0;34m(\u001b[0m\u001b[0mname\u001b[0m\u001b[0;34m,\u001b[0m \u001b[0mself\u001b[0m\u001b[0;34m.\u001b[0m\u001b[0m__class__\u001b[0m\u001b[0;34m.\u001b[0m\u001b[0m__name__\u001b[0m\u001b[0;34m)\u001b[0m\u001b[0;34m)\u001b[0m\u001b[0;34m\u001b[0m\u001b[0;34m\u001b[0m\u001b[0m\n\u001b[0m\u001b[1;32m    306\u001b[0m \u001b[0;34m\u001b[0m\u001b[0m\n\u001b[1;32m    307\u001b[0m     \u001b[0;34m@\u001b[0m\u001b[0mproperty\u001b[0m\u001b[0;34m\u001b[0m\u001b[0;34m\u001b[0m\u001b[0m\n",
      "\u001b[0;31mAttributeError\u001b[0m: elapsed_time not found in class Pipeline"
     ]
    }
   ],
   "source": [
    "pipeline.elapsed_time"
   ]
  },
  {
   "cell_type": "markdown",
   "metadata": {},
   "source": [
    "Note that `elapsed_time` attribute is created whether or not we set `profile` to `True`.\n",
    "\n",
    "After running with `profile=True`, pipeline has attribute `profile_info`: this `DataFrame` holds collected information:"
   ]
  },
  {
   "cell_type": "code",
   "execution_count": 7,
   "metadata": {
    "ExecuteTime": {
     "end_time": "2020-02-21T07:21:42.275730Z",
     "start_time": "2020-02-21T07:21:42.186969Z"
    }
   },
   "outputs": [
    {
     "data": {
      "text/html": [
       "<div>\n",
       "<style scoped>\n",
       "    .dataframe tbody tr th:only-of-type {\n",
       "        vertical-align: middle;\n",
       "    }\n",
       "\n",
       "    .dataframe tbody tr th {\n",
       "        vertical-align: top;\n",
       "    }\n",
       "\n",
       "    .dataframe thead th {\n",
       "        text-align: right;\n",
       "    }\n",
       "</style>\n",
       "<table border=\"1\" class=\"dataframe\">\n",
       "  <thead>\n",
       "    <tr style=\"text-align: right;\">\n",
       "      <th></th>\n",
       "      <th></th>\n",
       "      <th>iter</th>\n",
       "      <th>total_time</th>\n",
       "      <th>pipeline_time</th>\n",
       "      <th>ncalls</th>\n",
       "      <th>tottime</th>\n",
       "      <th>cumtime</th>\n",
       "      <th>start_time</th>\n",
       "      <th>batch_id</th>\n",
       "      <th>eval_time</th>\n",
       "    </tr>\n",
       "    <tr>\n",
       "      <th>action</th>\n",
       "      <th>id</th>\n",
       "      <th></th>\n",
       "      <th></th>\n",
       "      <th></th>\n",
       "      <th></th>\n",
       "      <th></th>\n",
       "      <th></th>\n",
       "      <th></th>\n",
       "      <th></th>\n",
       "      <th></th>\n",
       "    </tr>\n",
       "  </thead>\n",
       "  <tbody>\n",
       "    <tr>\n",
       "      <th rowspan=\"5\" valign=\"top\">to_array #0</th>\n",
       "      <th>&lt;method 'join' of 'bytes' objects&gt;::/opt/conda/lib/python3.6/site-packages/PIL/Image.py::710::tobytes</th>\n",
       "      <td>1</td>\n",
       "      <td>0.009355</td>\n",
       "      <td>0.009332</td>\n",
       "      <td>64</td>\n",
       "      <td>0.000009</td>\n",
       "      <td>0.000009</td>\n",
       "      <td>1.626968e+09</td>\n",
       "      <td>139894849693624</td>\n",
       "      <td>0.000025</td>\n",
       "    </tr>\n",
       "    <tr>\n",
       "      <th>&lt;built-in method sys.getrecursionlimit&gt;::/opt/conda/lib/python3.6/inspect.py::485::unwrap</th>\n",
       "      <td>1</td>\n",
       "      <td>0.009355</td>\n",
       "      <td>0.009332</td>\n",
       "      <td>1</td>\n",
       "      <td>0.000001</td>\n",
       "      <td>0.000001</td>\n",
       "      <td>1.626968e+09</td>\n",
       "      <td>139894849693624</td>\n",
       "      <td>0.000025</td>\n",
       "    </tr>\n",
       "    <tr>\n",
       "      <th>&lt;built-in method time.time&gt;::../../../batchflow/batchflow/pipeline.py::795::_exec_one_action</th>\n",
       "      <td>1</td>\n",
       "      <td>0.009355</td>\n",
       "      <td>0.009332</td>\n",
       "      <td>2</td>\n",
       "      <td>0.000001</td>\n",
       "      <td>0.000001</td>\n",
       "      <td>1.626968e+09</td>\n",
       "      <td>139894849693624</td>\n",
       "      <td>0.000025</td>\n",
       "    </tr>\n",
       "    <tr>\n",
       "      <th>&lt;method 'match' of '_sre.SRE_Pattern' objects&gt;::/opt/conda/lib/python3.6/inspect.py::760::findsource</th>\n",
       "      <td>1</td>\n",
       "      <td>0.009355</td>\n",
       "      <td>0.009332</td>\n",
       "      <td>1</td>\n",
       "      <td>0.000004</td>\n",
       "      <td>0.000004</td>\n",
       "      <td>1.626968e+09</td>\n",
       "      <td>139894849693624</td>\n",
       "      <td>0.000025</td>\n",
       "    </tr>\n",
       "    <tr>\n",
       "      <th>&lt;method 'match' of '_sre.SRE_Pattern' objects&gt;::/opt/conda/lib/python3.6/tokenize.py::492::_tokenize</th>\n",
       "      <td>1</td>\n",
       "      <td>0.009355</td>\n",
       "      <td>0.009332</td>\n",
       "      <td>66</td>\n",
       "      <td>0.000129</td>\n",
       "      <td>0.000129</td>\n",
       "      <td>1.626968e+09</td>\n",
       "      <td>139894849693624</td>\n",
       "      <td>0.000025</td>\n",
       "    </tr>\n",
       "  </tbody>\n",
       "</table>\n",
       "</div>"
      ],
      "text/plain": [
       "                                                                iter  \\\n",
       "action      id                                                         \n",
       "to_array #0 <method 'join' of 'bytes' objects>::/opt/conda/...     1   \n",
       "            <built-in method sys.getrecursionlimit>::/opt/c...     1   \n",
       "            <built-in method time.time>::../../../batchflow...     1   \n",
       "            <method 'match' of '_sre.SRE_Pattern' objects>:...     1   \n",
       "            <method 'match' of '_sre.SRE_Pattern' objects>:...     1   \n",
       "\n",
       "                                                                total_time  \\\n",
       "action      id                                                               \n",
       "to_array #0 <method 'join' of 'bytes' objects>::/opt/conda/...    0.009355   \n",
       "            <built-in method sys.getrecursionlimit>::/opt/c...    0.009355   \n",
       "            <built-in method time.time>::../../../batchflow...    0.009355   \n",
       "            <method 'match' of '_sre.SRE_Pattern' objects>:...    0.009355   \n",
       "            <method 'match' of '_sre.SRE_Pattern' objects>:...    0.009355   \n",
       "\n",
       "                                                                pipeline_time  \\\n",
       "action      id                                                                  \n",
       "to_array #0 <method 'join' of 'bytes' objects>::/opt/conda/...       0.009332   \n",
       "            <built-in method sys.getrecursionlimit>::/opt/c...       0.009332   \n",
       "            <built-in method time.time>::../../../batchflow...       0.009332   \n",
       "            <method 'match' of '_sre.SRE_Pattern' objects>:...       0.009332   \n",
       "            <method 'match' of '_sre.SRE_Pattern' objects>:...       0.009332   \n",
       "\n",
       "                                                                ncalls  \\\n",
       "action      id                                                           \n",
       "to_array #0 <method 'join' of 'bytes' objects>::/opt/conda/...      64   \n",
       "            <built-in method sys.getrecursionlimit>::/opt/c...       1   \n",
       "            <built-in method time.time>::../../../batchflow...       2   \n",
       "            <method 'match' of '_sre.SRE_Pattern' objects>:...       1   \n",
       "            <method 'match' of '_sre.SRE_Pattern' objects>:...      66   \n",
       "\n",
       "                                                                 tottime  \\\n",
       "action      id                                                             \n",
       "to_array #0 <method 'join' of 'bytes' objects>::/opt/conda/...  0.000009   \n",
       "            <built-in method sys.getrecursionlimit>::/opt/c...  0.000001   \n",
       "            <built-in method time.time>::../../../batchflow...  0.000001   \n",
       "            <method 'match' of '_sre.SRE_Pattern' objects>:...  0.000004   \n",
       "            <method 'match' of '_sre.SRE_Pattern' objects>:...  0.000129   \n",
       "\n",
       "                                                                 cumtime  \\\n",
       "action      id                                                             \n",
       "to_array #0 <method 'join' of 'bytes' objects>::/opt/conda/...  0.000009   \n",
       "            <built-in method sys.getrecursionlimit>::/opt/c...  0.000001   \n",
       "            <built-in method time.time>::../../../batchflow...  0.000001   \n",
       "            <method 'match' of '_sre.SRE_Pattern' objects>:...  0.000004   \n",
       "            <method 'match' of '_sre.SRE_Pattern' objects>:...  0.000129   \n",
       "\n",
       "                                                                  start_time  \\\n",
       "action      id                                                                 \n",
       "to_array #0 <method 'join' of 'bytes' objects>::/opt/conda/...  1.626968e+09   \n",
       "            <built-in method sys.getrecursionlimit>::/opt/c...  1.626968e+09   \n",
       "            <built-in method time.time>::../../../batchflow...  1.626968e+09   \n",
       "            <method 'match' of '_sre.SRE_Pattern' objects>:...  1.626968e+09   \n",
       "            <method 'match' of '_sre.SRE_Pattern' objects>:...  1.626968e+09   \n",
       "\n",
       "                                                                       batch_id  \\\n",
       "action      id                                                                    \n",
       "to_array #0 <method 'join' of 'bytes' objects>::/opt/conda/...  139894849693624   \n",
       "            <built-in method sys.getrecursionlimit>::/opt/c...  139894849693624   \n",
       "            <built-in method time.time>::../../../batchflow...  139894849693624   \n",
       "            <method 'match' of '_sre.SRE_Pattern' objects>:...  139894849693624   \n",
       "            <method 'match' of '_sre.SRE_Pattern' objects>:...  139894849693624   \n",
       "\n",
       "                                                                eval_time  \n",
       "action      id                                                             \n",
       "to_array #0 <method 'join' of 'bytes' objects>::/opt/conda/...   0.000025  \n",
       "            <built-in method sys.getrecursionlimit>::/opt/c...   0.000025  \n",
       "            <built-in method time.time>::../../../batchflow...   0.000025  \n",
       "            <method 'match' of '_sre.SRE_Pattern' objects>:...   0.000025  \n",
       "            <method 'match' of '_sre.SRE_Pattern' objects>:...   0.000025  "
      ]
     },
     "execution_count": 7,
     "metadata": {},
     "output_type": "execute_result"
    }
   ],
   "source": [
    "pipeline.profile_info.head()"
   ]
  },
  {
   "cell_type": "markdown",
   "metadata": {},
   "source": [
    "Note that there is a detailed information about exact methods that are called inside each of the actions. That is a lot of data which can give us precise understanding of parts of the code, that are our bottlenecks.\n",
    "\n",
    "Columns of the `profile_info`:\n",
    "- `action`, `iter`, `batch_id` and `start_time` are pretty self-explainable\n",
    "- `id` allows to identify exact method with great details: it is a concatenation of `method_name`, `file_name`, `line_number` and `callee`\n",
    "- `total_time` is a time taken by an action\n",
    "- `pipeline_time` is `total_time` plus time of processing the profiling table at each iteration\n",
    "- `tottime` is a time taken by a method inside action\n",
    "- `cumtime` is a time take by a method and all of the methods that are called inside this method\n",
    "\n",
    "\n",
    "More often than not, though, we don't need such granularity. Pipeline method `show_profile_info` makes some handy aggregations:\n",
    "\n",
    "**Note:** by default, results are sorted on `total_time` or `tottime`, depending on level of details."
   ]
  },
  {
   "cell_type": "code",
   "execution_count": 8,
   "metadata": {
    "ExecuteTime": {
     "end_time": "2020-02-21T07:21:42.388544Z",
     "start_time": "2020-02-21T07:21:42.287129Z"
    }
   },
   "outputs": [
    {
     "data": {
      "text/html": [
       "<div>\n",
       "<style scoped>\n",
       "    .dataframe tbody tr th:only-of-type {\n",
       "        vertical-align: middle;\n",
       "    }\n",
       "\n",
       "    .dataframe tbody tr th {\n",
       "        vertical-align: top;\n",
       "    }\n",
       "\n",
       "    .dataframe thead tr th {\n",
       "        text-align: left;\n",
       "    }\n",
       "\n",
       "    .dataframe thead tr:last-of-type th {\n",
       "        text-align: right;\n",
       "    }\n",
       "</style>\n",
       "<table border=\"1\" class=\"dataframe\">\n",
       "  <thead>\n",
       "    <tr>\n",
       "      <th></th>\n",
       "      <th colspan=\"3\" halign=\"left\">total_time</th>\n",
       "      <th colspan=\"3\" halign=\"left\">pipeline_time</th>\n",
       "    </tr>\n",
       "    <tr>\n",
       "      <th></th>\n",
       "      <th>sum</th>\n",
       "      <th>mean</th>\n",
       "      <th>max</th>\n",
       "      <th>sum</th>\n",
       "      <th>mean</th>\n",
       "      <th>max</th>\n",
       "    </tr>\n",
       "    <tr>\n",
       "      <th>action</th>\n",
       "      <th></th>\n",
       "      <th></th>\n",
       "      <th></th>\n",
       "      <th></th>\n",
       "      <th></th>\n",
       "      <th></th>\n",
       "    </tr>\n",
       "  </thead>\n",
       "  <tbody>\n",
       "    <tr>\n",
       "      <th>train_model #2</th>\n",
       "      <td>8.140517</td>\n",
       "      <td>0.162810</td>\n",
       "      <td>0.709740</td>\n",
       "      <td>8.136595</td>\n",
       "      <td>0.162732</td>\n",
       "      <td>0.707148</td>\n",
       "    </tr>\n",
       "    <tr>\n",
       "      <th>to_array #0</th>\n",
       "      <td>0.463756</td>\n",
       "      <td>0.009275</td>\n",
       "      <td>0.016101</td>\n",
       "      <td>0.462688</td>\n",
       "      <td>0.009254</td>\n",
       "      <td>0.016080</td>\n",
       "    </tr>\n",
       "    <tr>\n",
       "      <th>multiply #1</th>\n",
       "      <td>0.337302</td>\n",
       "      <td>0.006746</td>\n",
       "      <td>0.009966</td>\n",
       "      <td>0.336401</td>\n",
       "      <td>0.006728</td>\n",
       "      <td>0.009932</td>\n",
       "    </tr>\n",
       "  </tbody>\n",
       "</table>\n",
       "</div>"
      ],
      "text/plain": [
       "               total_time                     pipeline_time            \\\n",
       "                      sum      mean       max           sum      mean   \n",
       "action                                                                  \n",
       "train_model #2   8.140517  0.162810  0.709740      8.136595  0.162732   \n",
       "to_array #0      0.463756  0.009275  0.016101      0.462688  0.009254   \n",
       "multiply #1      0.337302  0.006746  0.009966      0.336401  0.006728   \n",
       "\n",
       "                          \n",
       "                     max  \n",
       "action                    \n",
       "train_model #2  0.707148  \n",
       "to_array #0     0.016080  \n",
       "multiply #1     0.009932  "
      ]
     },
     "execution_count": 8,
     "metadata": {},
     "output_type": "execute_result"
    }
   ],
   "source": [
    "# timings for each action\n",
    "pipeline.show_profile_info(per_iter=False, detailed=False)"
   ]
  },
  {
   "cell_type": "code",
   "execution_count": 9,
   "metadata": {
    "ExecuteTime": {
     "end_time": "2020-02-21T07:21:42.532336Z",
     "start_time": "2020-02-21T07:21:42.391509Z"
    }
   },
   "outputs": [
    {
     "data": {
      "text/html": [
       "<div>\n",
       "<style scoped>\n",
       "    .dataframe tbody tr th:only-of-type {\n",
       "        vertical-align: middle;\n",
       "    }\n",
       "\n",
       "    .dataframe tbody tr th {\n",
       "        vertical-align: top;\n",
       "    }\n",
       "\n",
       "    .dataframe thead tr th {\n",
       "        text-align: left;\n",
       "    }\n",
       "\n",
       "    .dataframe thead tr:last-of-type th {\n",
       "        text-align: right;\n",
       "    }\n",
       "</style>\n",
       "<table border=\"1\" class=\"dataframe\">\n",
       "  <thead>\n",
       "    <tr>\n",
       "      <th></th>\n",
       "      <th></th>\n",
       "      <th colspan=\"3\" halign=\"left\">ncalls</th>\n",
       "      <th colspan=\"3\" halign=\"left\">tottime</th>\n",
       "      <th colspan=\"3\" halign=\"left\">cumtime</th>\n",
       "    </tr>\n",
       "    <tr>\n",
       "      <th></th>\n",
       "      <th></th>\n",
       "      <th>sum</th>\n",
       "      <th>mean</th>\n",
       "      <th>max</th>\n",
       "      <th>sum</th>\n",
       "      <th>mean</th>\n",
       "      <th>max</th>\n",
       "      <th>sum</th>\n",
       "      <th>mean</th>\n",
       "      <th>max</th>\n",
       "    </tr>\n",
       "    <tr>\n",
       "      <th>action</th>\n",
       "      <th>id</th>\n",
       "      <th></th>\n",
       "      <th></th>\n",
       "      <th></th>\n",
       "      <th></th>\n",
       "      <th></th>\n",
       "      <th></th>\n",
       "      <th></th>\n",
       "      <th></th>\n",
       "      <th></th>\n",
       "    </tr>\n",
       "  </thead>\n",
       "  <tbody>\n",
       "    <tr>\n",
       "      <th rowspan=\"2\" valign=\"top\">multiply #1</th>\n",
       "      <th>&lt;built-in method builtins.isinstance&gt;::../../../batchflow/batchflow/decorators.py::303::_make_args</th>\n",
       "      <td>9600</td>\n",
       "      <td>192.00</td>\n",
       "      <td>192</td>\n",
       "      <td>0.001557</td>\n",
       "      <td>0.000031</td>\n",
       "      <td>0.000053</td>\n",
       "      <td>0.001557</td>\n",
       "      <td>0.000031</td>\n",
       "      <td>0.000053</td>\n",
       "    </tr>\n",
       "    <tr>\n",
       "      <th>&lt;built-in method numpy.core._multiarray_umath.implement_array_function&gt;::&lt;__array_function__ internals&gt;::2::concatenate</th>\n",
       "      <td>6500</td>\n",
       "      <td>130.00</td>\n",
       "      <td>130</td>\n",
       "      <td>0.015555</td>\n",
       "      <td>0.000311</td>\n",
       "      <td>0.000448</td>\n",
       "      <td>0.015555</td>\n",
       "      <td>0.000311</td>\n",
       "      <td>0.000448</td>\n",
       "    </tr>\n",
       "    <tr>\n",
       "      <th rowspan=\"2\" valign=\"top\">to_array #0</th>\n",
       "      <th>&lt;built-in method builtins.isinstance&gt;::../../../batchflow/batchflow/decorators.py::303::_make_args</th>\n",
       "      <td>9600</td>\n",
       "      <td>192.00</td>\n",
       "      <td>192</td>\n",
       "      <td>0.001970</td>\n",
       "      <td>0.000039</td>\n",
       "      <td>0.000092</td>\n",
       "      <td>0.001970</td>\n",
       "      <td>0.000039</td>\n",
       "      <td>0.000092</td>\n",
       "    </tr>\n",
       "    <tr>\n",
       "      <th>&lt;built-in method numpy.core._multiarray_umath.implement_array_function&gt;::&lt;__array_function__ internals&gt;::2::concatenate</th>\n",
       "      <td>6500</td>\n",
       "      <td>130.00</td>\n",
       "      <td>130</td>\n",
       "      <td>0.020430</td>\n",
       "      <td>0.000409</td>\n",
       "      <td>0.000880</td>\n",
       "      <td>0.020430</td>\n",
       "      <td>0.000409</td>\n",
       "      <td>0.000880</td>\n",
       "    </tr>\n",
       "    <tr>\n",
       "      <th rowspan=\"2\" valign=\"top\">train_model #2</th>\n",
       "      <th>&lt;method 'get' of 'dict' objects&gt;::/opt/conda/lib/python3.6/site-packages/torch/nn/modules/module.py::1133::__setattr__</th>\n",
       "      <td>45216</td>\n",
       "      <td>904.32</td>\n",
       "      <td>10083</td>\n",
       "      <td>0.009140</td>\n",
       "      <td>0.000183</td>\n",
       "      <td>0.001274</td>\n",
       "      <td>0.009140</td>\n",
       "      <td>0.000183</td>\n",
       "      <td>0.001274</td>\n",
       "    </tr>\n",
       "    <tr>\n",
       "      <th>&lt;built-in method builtins.isinstance&gt;::/opt/conda/lib/python3.6/site-packages/torch/nn/modules/module.py::1133::__setattr__</th>\n",
       "      <td>31335</td>\n",
       "      <td>626.70</td>\n",
       "      <td>6933</td>\n",
       "      <td>0.006680</td>\n",
       "      <td>0.000134</td>\n",
       "      <td>0.001382</td>\n",
       "      <td>0.006680</td>\n",
       "      <td>0.000134</td>\n",
       "      <td>0.001382</td>\n",
       "    </tr>\n",
       "  </tbody>\n",
       "</table>\n",
       "</div>"
      ],
      "text/plain": [
       "                                                                  ncalls  \\\n",
       "                                                                     sum   \n",
       "action         id                                                          \n",
       "multiply #1    <built-in method builtins.isinstance>::../../.....   9600   \n",
       "               <built-in method numpy.core._multiarray_umath.i...   6500   \n",
       "to_array #0    <built-in method builtins.isinstance>::../../.....   9600   \n",
       "               <built-in method numpy.core._multiarray_umath.i...   6500   \n",
       "train_model #2 <method 'get' of 'dict' objects>::/opt/conda/li...  45216   \n",
       "               <built-in method builtins.isinstance>::/opt/con...  31335   \n",
       "\n",
       "                                                                           \\\n",
       "                                                                     mean   \n",
       "action         id                                                           \n",
       "multiply #1    <built-in method builtins.isinstance>::../../.....  192.00   \n",
       "               <built-in method numpy.core._multiarray_umath.i...  130.00   \n",
       "to_array #0    <built-in method builtins.isinstance>::../../.....  192.00   \n",
       "               <built-in method numpy.core._multiarray_umath.i...  130.00   \n",
       "train_model #2 <method 'get' of 'dict' objects>::/opt/conda/li...  904.32   \n",
       "               <built-in method builtins.isinstance>::/opt/con...  626.70   \n",
       "\n",
       "                                                                          \\\n",
       "                                                                     max   \n",
       "action         id                                                          \n",
       "multiply #1    <built-in method builtins.isinstance>::../../.....    192   \n",
       "               <built-in method numpy.core._multiarray_umath.i...    130   \n",
       "to_array #0    <built-in method builtins.isinstance>::../../.....    192   \n",
       "               <built-in method numpy.core._multiarray_umath.i...    130   \n",
       "train_model #2 <method 'get' of 'dict' objects>::/opt/conda/li...  10083   \n",
       "               <built-in method builtins.isinstance>::/opt/con...   6933   \n",
       "\n",
       "                                                                    tottime  \\\n",
       "                                                                        sum   \n",
       "action         id                                                             \n",
       "multiply #1    <built-in method builtins.isinstance>::../../.....  0.001557   \n",
       "               <built-in method numpy.core._multiarray_umath.i...  0.015555   \n",
       "to_array #0    <built-in method builtins.isinstance>::../../.....  0.001970   \n",
       "               <built-in method numpy.core._multiarray_umath.i...  0.020430   \n",
       "train_model #2 <method 'get' of 'dict' objects>::/opt/conda/li...  0.009140   \n",
       "               <built-in method builtins.isinstance>::/opt/con...  0.006680   \n",
       "\n",
       "                                                                             \\\n",
       "                                                                       mean   \n",
       "action         id                                                             \n",
       "multiply #1    <built-in method builtins.isinstance>::../../.....  0.000031   \n",
       "               <built-in method numpy.core._multiarray_umath.i...  0.000311   \n",
       "to_array #0    <built-in method builtins.isinstance>::../../.....  0.000039   \n",
       "               <built-in method numpy.core._multiarray_umath.i...  0.000409   \n",
       "train_model #2 <method 'get' of 'dict' objects>::/opt/conda/li...  0.000183   \n",
       "               <built-in method builtins.isinstance>::/opt/con...  0.000134   \n",
       "\n",
       "                                                                             \\\n",
       "                                                                        max   \n",
       "action         id                                                             \n",
       "multiply #1    <built-in method builtins.isinstance>::../../.....  0.000053   \n",
       "               <built-in method numpy.core._multiarray_umath.i...  0.000448   \n",
       "to_array #0    <built-in method builtins.isinstance>::../../.....  0.000092   \n",
       "               <built-in method numpy.core._multiarray_umath.i...  0.000880   \n",
       "train_model #2 <method 'get' of 'dict' objects>::/opt/conda/li...  0.001274   \n",
       "               <built-in method builtins.isinstance>::/opt/con...  0.001382   \n",
       "\n",
       "                                                                    cumtime  \\\n",
       "                                                                        sum   \n",
       "action         id                                                             \n",
       "multiply #1    <built-in method builtins.isinstance>::../../.....  0.001557   \n",
       "               <built-in method numpy.core._multiarray_umath.i...  0.015555   \n",
       "to_array #0    <built-in method builtins.isinstance>::../../.....  0.001970   \n",
       "               <built-in method numpy.core._multiarray_umath.i...  0.020430   \n",
       "train_model #2 <method 'get' of 'dict' objects>::/opt/conda/li...  0.009140   \n",
       "               <built-in method builtins.isinstance>::/opt/con...  0.006680   \n",
       "\n",
       "                                                                             \\\n",
       "                                                                       mean   \n",
       "action         id                                                             \n",
       "multiply #1    <built-in method builtins.isinstance>::../../.....  0.000031   \n",
       "               <built-in method numpy.core._multiarray_umath.i...  0.000311   \n",
       "to_array #0    <built-in method builtins.isinstance>::../../.....  0.000039   \n",
       "               <built-in method numpy.core._multiarray_umath.i...  0.000409   \n",
       "train_model #2 <method 'get' of 'dict' objects>::/opt/conda/li...  0.000183   \n",
       "               <built-in method builtins.isinstance>::/opt/con...  0.000134   \n",
       "\n",
       "                                                                             \n",
       "                                                                        max  \n",
       "action         id                                                            \n",
       "multiply #1    <built-in method builtins.isinstance>::../../.....  0.000053  \n",
       "               <built-in method numpy.core._multiarray_umath.i...  0.000448  \n",
       "to_array #0    <built-in method builtins.isinstance>::../../.....  0.000092  \n",
       "               <built-in method numpy.core._multiarray_umath.i...  0.000880  \n",
       "train_model #2 <method 'get' of 'dict' objects>::/opt/conda/li...  0.001274  \n",
       "               <built-in method builtins.isinstance>::/opt/con...  0.001382  "
      ]
     },
     "execution_count": 9,
     "metadata": {},
     "output_type": "execute_result"
    }
   ],
   "source": [
    "# for each action show 2 of the slowest methods, based on maximum `ncalls`\n",
    "pipeline.show_profile_info(per_iter=False, detailed=True, sortby=('ncalls', 'max'), limit=2)"
   ]
  },
  {
   "cell_type": "code",
   "execution_count": 10,
   "metadata": {
    "ExecuteTime": {
     "end_time": "2020-02-21T07:21:42.632794Z",
     "start_time": "2020-02-21T07:21:42.534733Z"
    },
    "scrolled": true
   },
   "outputs": [
    {
     "data": {
      "text/html": [
       "<div>\n",
       "<style scoped>\n",
       "    .dataframe tbody tr th:only-of-type {\n",
       "        vertical-align: middle;\n",
       "    }\n",
       "\n",
       "    .dataframe tbody tr th {\n",
       "        vertical-align: top;\n",
       "    }\n",
       "\n",
       "    .dataframe thead th {\n",
       "        text-align: right;\n",
       "    }\n",
       "</style>\n",
       "<table border=\"1\" class=\"dataframe\">\n",
       "  <thead>\n",
       "    <tr style=\"text-align: right;\">\n",
       "      <th></th>\n",
       "      <th></th>\n",
       "      <th>total_time</th>\n",
       "      <th>pipeline_time</th>\n",
       "      <th>batch_id</th>\n",
       "    </tr>\n",
       "    <tr>\n",
       "      <th>iter</th>\n",
       "      <th>action</th>\n",
       "      <th></th>\n",
       "      <th></th>\n",
       "      <th></th>\n",
       "    </tr>\n",
       "  </thead>\n",
       "  <tbody>\n",
       "    <tr>\n",
       "      <th rowspan=\"3\" valign=\"top\">1</th>\n",
       "      <th>train_model #2</th>\n",
       "      <td>0.709740</td>\n",
       "      <td>0.707148</td>\n",
       "      <td>1.398948e+14</td>\n",
       "    </tr>\n",
       "    <tr>\n",
       "      <th>to_array #0</th>\n",
       "      <td>0.009355</td>\n",
       "      <td>0.009332</td>\n",
       "      <td>1.398948e+14</td>\n",
       "    </tr>\n",
       "    <tr>\n",
       "      <th>multiply #1</th>\n",
       "      <td>0.007039</td>\n",
       "      <td>0.007026</td>\n",
       "      <td>1.398948e+14</td>\n",
       "    </tr>\n",
       "    <tr>\n",
       "      <th rowspan=\"2\" valign=\"top\">2</th>\n",
       "      <th>train_model #2</th>\n",
       "      <td>0.139050</td>\n",
       "      <td>0.139026</td>\n",
       "      <td>1.398948e+14</td>\n",
       "    </tr>\n",
       "    <tr>\n",
       "      <th>to_array #0</th>\n",
       "      <td>0.007055</td>\n",
       "      <td>0.007037</td>\n",
       "      <td>1.398948e+14</td>\n",
       "    </tr>\n",
       "    <tr>\n",
       "      <th>...</th>\n",
       "      <th>...</th>\n",
       "      <td>...</td>\n",
       "      <td>...</td>\n",
       "      <td>...</td>\n",
       "    </tr>\n",
       "    <tr>\n",
       "      <th rowspan=\"2\" valign=\"top\">49</th>\n",
       "      <th>to_array #0</th>\n",
       "      <td>0.008777</td>\n",
       "      <td>0.008757</td>\n",
       "      <td>1.398948e+14</td>\n",
       "    </tr>\n",
       "    <tr>\n",
       "      <th>multiply #1</th>\n",
       "      <td>0.006446</td>\n",
       "      <td>0.006428</td>\n",
       "      <td>1.398948e+14</td>\n",
       "    </tr>\n",
       "    <tr>\n",
       "      <th rowspan=\"3\" valign=\"top\">50</th>\n",
       "      <th>train_model #2</th>\n",
       "      <td>0.147496</td>\n",
       "      <td>0.147471</td>\n",
       "      <td>1.398948e+14</td>\n",
       "    </tr>\n",
       "    <tr>\n",
       "      <th>to_array #0</th>\n",
       "      <td>0.009047</td>\n",
       "      <td>0.009030</td>\n",
       "      <td>1.398948e+14</td>\n",
       "    </tr>\n",
       "    <tr>\n",
       "      <th>multiply #1</th>\n",
       "      <td>0.006508</td>\n",
       "      <td>0.006494</td>\n",
       "      <td>1.398948e+14</td>\n",
       "    </tr>\n",
       "  </tbody>\n",
       "</table>\n",
       "<p>150 rows × 3 columns</p>\n",
       "</div>"
      ],
      "text/plain": [
       "                     total_time  pipeline_time      batch_id\n",
       "iter action                                                 \n",
       "1    train_model #2    0.709740       0.707148  1.398948e+14\n",
       "     to_array #0       0.009355       0.009332  1.398948e+14\n",
       "     multiply #1       0.007039       0.007026  1.398948e+14\n",
       "2    train_model #2    0.139050       0.139026  1.398948e+14\n",
       "     to_array #0       0.007055       0.007037  1.398948e+14\n",
       "...                         ...            ...           ...\n",
       "49   to_array #0       0.008777       0.008757  1.398948e+14\n",
       "     multiply #1       0.006446       0.006428  1.398948e+14\n",
       "50   train_model #2    0.147496       0.147471  1.398948e+14\n",
       "     to_array #0       0.009047       0.009030  1.398948e+14\n",
       "     multiply #1       0.006508       0.006494  1.398948e+14\n",
       "\n",
       "[150 rows x 3 columns]"
      ]
     },
     "execution_count": 10,
     "metadata": {},
     "output_type": "execute_result"
    }
   ],
   "source": [
    "# timings for each action for each iter\n",
    "pipeline.show_profile_info(per_iter=True, detailed=False,)"
   ]
  },
  {
   "cell_type": "code",
   "execution_count": 11,
   "metadata": {
    "ExecuteTime": {
     "end_time": "2020-02-21T07:21:42.861247Z",
     "start_time": "2020-02-21T07:21:42.635940Z"
    }
   },
   "outputs": [
    {
     "data": {
      "text/html": [
       "<div>\n",
       "<style scoped>\n",
       "    .dataframe tbody tr th:only-of-type {\n",
       "        vertical-align: middle;\n",
       "    }\n",
       "\n",
       "    .dataframe tbody tr th {\n",
       "        vertical-align: top;\n",
       "    }\n",
       "\n",
       "    .dataframe thead th {\n",
       "        text-align: right;\n",
       "    }\n",
       "</style>\n",
       "<table border=\"1\" class=\"dataframe\">\n",
       "  <thead>\n",
       "    <tr style=\"text-align: right;\">\n",
       "      <th></th>\n",
       "      <th></th>\n",
       "      <th></th>\n",
       "      <th>ncalls</th>\n",
       "      <th>tottime</th>\n",
       "      <th>cumtime</th>\n",
       "    </tr>\n",
       "    <tr>\n",
       "      <th>iter</th>\n",
       "      <th>action</th>\n",
       "      <th>id</th>\n",
       "      <th></th>\n",
       "      <th></th>\n",
       "      <th></th>\n",
       "    </tr>\n",
       "  </thead>\n",
       "  <tbody>\n",
       "    <tr>\n",
       "      <th rowspan=\"5\" valign=\"top\">1</th>\n",
       "      <th rowspan=\"3\" valign=\"top\">multiply #1</th>\n",
       "      <th>&lt;method 'spawn' of 'numpy.random.bit_generator.SeedSequence' objects&gt;::../../../batchflow/batchflow/utils_random.py::83::spawn_seed_sequence</th>\n",
       "      <td>64</td>\n",
       "      <td>0.001124</td>\n",
       "      <td>0.001447</td>\n",
       "    </tr>\n",
       "    <tr>\n",
       "      <th>inner::../../../batchflow/batchflow/utils_random.py::7::make_rng</th>\n",
       "      <td>64</td>\n",
       "      <td>0.000866</td>\n",
       "      <td>0.001536</td>\n",
       "    </tr>\n",
       "    <tr>\n",
       "      <th>multiply::../../../batchflow/batchflow/batch.py::587::_apply_once</th>\n",
       "      <td>64</td>\n",
       "      <td>0.000419</td>\n",
       "      <td>0.000608</td>\n",
       "    </tr>\n",
       "    <tr>\n",
       "      <th rowspan=\"2\" valign=\"top\">to_array #0</th>\n",
       "      <th>&lt;method 'spawn' of 'numpy.random.bit_generator.SeedSequence' objects&gt;::../../../batchflow/batchflow/utils_random.py::83::spawn_seed_sequence</th>\n",
       "      <td>64</td>\n",
       "      <td>0.001297</td>\n",
       "      <td>0.001847</td>\n",
       "    </tr>\n",
       "    <tr>\n",
       "      <th>inner::../../../batchflow/batchflow/utils_random.py::7::make_rng</th>\n",
       "      <td>64</td>\n",
       "      <td>0.000951</td>\n",
       "      <td>0.001727</td>\n",
       "    </tr>\n",
       "    <tr>\n",
       "      <th>...</th>\n",
       "      <th>...</th>\n",
       "      <th>...</th>\n",
       "      <td>...</td>\n",
       "      <td>...</td>\n",
       "      <td>...</td>\n",
       "    </tr>\n",
       "    <tr>\n",
       "      <th rowspan=\"5\" valign=\"top\">50</th>\n",
       "      <th rowspan=\"2\" valign=\"top\">to_array #0</th>\n",
       "      <th>inner::../../../batchflow/batchflow/utils_random.py::7::make_rng</th>\n",
       "      <td>64</td>\n",
       "      <td>0.000962</td>\n",
       "      <td>0.001654</td>\n",
       "    </tr>\n",
       "    <tr>\n",
       "      <th>&lt;method 'astype' of 'numpy.ndarray' objects&gt;::../../../batchflow/batchflow/batch.py::954::to_array</th>\n",
       "      <td>64</td>\n",
       "      <td>0.000642</td>\n",
       "      <td>0.000642</td>\n",
       "    </tr>\n",
       "    <tr>\n",
       "      <th rowspan=\"3\" valign=\"top\">train_model #2</th>\n",
       "      <th>&lt;method 'run_backward' of 'torch._C._EngineBase' objects&gt;::/opt/conda/lib/python3.6/site-packages/torch/autograd/__init__.py::68::backward</th>\n",
       "      <td>1</td>\n",
       "      <td>0.052696</td>\n",
       "      <td>0.052696</td>\n",
       "    </tr>\n",
       "    <tr>\n",
       "      <th>adam::/opt/conda/lib/python3.6/site-packages/torch/optim/adam.py::55::step</th>\n",
       "      <td>1</td>\n",
       "      <td>0.024636</td>\n",
       "      <td>0.037825</td>\n",
       "    </tr>\n",
       "    <tr>\n",
       "      <th>&lt;built-in method conv2d&gt;::/opt/conda/lib/python3.6/site-packages/torch/nn/modules/conv.py::434::_conv_forward</th>\n",
       "      <td>20</td>\n",
       "      <td>0.015681</td>\n",
       "      <td>0.015681</td>\n",
       "    </tr>\n",
       "  </tbody>\n",
       "</table>\n",
       "<p>450 rows × 3 columns</p>\n",
       "</div>"
      ],
      "text/plain": [
       "                                                                        ncalls  \\\n",
       "iter action         id                                                           \n",
       "1    multiply #1    <method 'spawn' of 'numpy.random.bit_generator....      64   \n",
       "                    inner::../../../batchflow/batchflow/utils_rando...      64   \n",
       "                    multiply::../../../batchflow/batchflow/batch.py...      64   \n",
       "     to_array #0    <method 'spawn' of 'numpy.random.bit_generator....      64   \n",
       "                    inner::../../../batchflow/batchflow/utils_rando...      64   \n",
       "...                                                                        ...   \n",
       "50   to_array #0    inner::../../../batchflow/batchflow/utils_rando...      64   \n",
       "                    <method 'astype' of 'numpy.ndarray' objects>::....      64   \n",
       "     train_model #2 <method 'run_backward' of 'torch._C._EngineBase...       1   \n",
       "                    adam::/opt/conda/lib/python3.6/site-packages/to...       1   \n",
       "                    <built-in method conv2d>::/opt/conda/lib/python...      20   \n",
       "\n",
       "                                                                         tottime  \\\n",
       "iter action         id                                                             \n",
       "1    multiply #1    <method 'spawn' of 'numpy.random.bit_generator....  0.001124   \n",
       "                    inner::../../../batchflow/batchflow/utils_rando...  0.000866   \n",
       "                    multiply::../../../batchflow/batchflow/batch.py...  0.000419   \n",
       "     to_array #0    <method 'spawn' of 'numpy.random.bit_generator....  0.001297   \n",
       "                    inner::../../../batchflow/batchflow/utils_rando...  0.000951   \n",
       "...                                                                          ...   \n",
       "50   to_array #0    inner::../../../batchflow/batchflow/utils_rando...  0.000962   \n",
       "                    <method 'astype' of 'numpy.ndarray' objects>::....  0.000642   \n",
       "     train_model #2 <method 'run_backward' of 'torch._C._EngineBase...  0.052696   \n",
       "                    adam::/opt/conda/lib/python3.6/site-packages/to...  0.024636   \n",
       "                    <built-in method conv2d>::/opt/conda/lib/python...  0.015681   \n",
       "\n",
       "                                                                         cumtime  \n",
       "iter action         id                                                            \n",
       "1    multiply #1    <method 'spawn' of 'numpy.random.bit_generator....  0.001447  \n",
       "                    inner::../../../batchflow/batchflow/utils_rando...  0.001536  \n",
       "                    multiply::../../../batchflow/batchflow/batch.py...  0.000608  \n",
       "     to_array #0    <method 'spawn' of 'numpy.random.bit_generator....  0.001847  \n",
       "                    inner::../../../batchflow/batchflow/utils_rando...  0.001727  \n",
       "...                                                                          ...  \n",
       "50   to_array #0    inner::../../../batchflow/batchflow/utils_rando...  0.001654  \n",
       "                    <method 'astype' of 'numpy.ndarray' objects>::....  0.000642  \n",
       "     train_model #2 <method 'run_backward' of 'torch._C._EngineBase...  0.052696  \n",
       "                    adam::/opt/conda/lib/python3.6/site-packages/to...  0.037825  \n",
       "                    <built-in method conv2d>::/opt/conda/lib/python...  0.015681  \n",
       "\n",
       "[450 rows x 3 columns]"
      ]
     },
     "execution_count": 11,
     "metadata": {},
     "output_type": "execute_result"
    }
   ],
   "source": [
    "# for each iter each action show 3 of the slowest methods, based on maximum `ncalls`\n",
    "pipeline.show_profile_info(per_iter=True, detailed=True, sortby='tottime', limit=3)"
   ]
  },
  {
   "cell_type": "markdown",
   "metadata": {},
   "source": [
    "# Model profiling"
   ]
  },
  {
   "cell_type": "code",
   "execution_count": null,
   "metadata": {
    "ExecuteTime": {
     "end_time": "2020-02-21T07:21:42.884315Z",
     "start_time": "2020-02-21T07:21:42.863593Z"
    }
   },
   "outputs": [],
   "source": [
    "model = pipeline.m('resnet')"
   ]
  },
  {
   "cell_type": "markdown",
   "metadata": {},
   "source": [
    "There is an `info` property that, unsurprisingly, shows a lot of interesting details regarding model itself or the training process:"
   ]
  },
  {
   "cell_type": "code",
   "execution_count": null,
   "metadata": {
    "ExecuteTime": {
     "end_time": "2020-02-21T07:21:42.947996Z",
     "start_time": "2020-02-21T07:21:42.886234Z"
    },
    "scrolled": true
   },
   "outputs": [],
   "source": [
    "model.info"
   ]
  },
  {
   "cell_type": "markdown",
   "metadata": {},
   "source": [
    "As with pipeline, there is a `profile_info` attribute, as well as `show_profile_info` method. Depending on type of the used device (`CPU` or `GPU`)"
   ]
  },
  {
   "cell_type": "code",
   "execution_count": null,
   "metadata": {
    "ExecuteTime": {
     "end_time": "2020-02-21T07:21:45.322476Z",
     "start_time": "2020-02-21T07:21:42.949757Z"
    }
   },
   "outputs": [],
   "source": [
    "# one row for every operation inside model; limit at 5 rows\n",
    "model.show_profile_info(per_iter=False, limit=5)"
   ]
  },
  {
   "cell_type": "code",
   "execution_count": null,
   "metadata": {
    "ExecuteTime": {
     "end_time": "2020-02-21T07:21:45.449640Z",
     "start_time": "2020-02-21T07:21:45.326050Z"
    },
    "scrolled": true
   },
   "outputs": [],
   "source": [
    "# for each iteration show 3 of the slowest operations\n",
    "model.show_profile_info(per_iter=True, limit=3)"
   ]
  }
 ],
 "metadata": {
  "kernelspec": {
   "display_name": "Python 3",
   "language": "python",
   "name": "python3"
  },
  "language_info": {
   "codemirror_mode": {
    "name": "ipython",
    "version": 3
   },
   "file_extension": ".py",
   "mimetype": "text/x-python",
   "name": "python",
   "nbconvert_exporter": "python",
   "pygments_lexer": "ipython3",
   "version": "3.6.10"
  },
  "varInspector": {
   "cols": {
    "lenName": 16,
    "lenType": 16,
    "lenVar": 40
   },
   "kernels_config": {
    "python": {
     "delete_cmd_postfix": "",
     "delete_cmd_prefix": "del ",
     "library": "var_list.py",
     "varRefreshCmd": "print(var_dic_list())"
    },
    "r": {
     "delete_cmd_postfix": ") ",
     "delete_cmd_prefix": "rm(",
     "library": "var_list.r",
     "varRefreshCmd": "cat(var_dic_list()) "
    }
   },
   "types_to_exclude": [
    "module",
    "function",
    "builtin_function_or_method",
    "instance",
    "_Feature"
   ],
   "window_display": false
  }
 },
 "nbformat": 4,
 "nbformat_minor": 4
}
