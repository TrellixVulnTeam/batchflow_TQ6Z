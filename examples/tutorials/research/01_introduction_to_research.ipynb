{
 "cells": [
  {
   "cell_type": "markdown",
   "metadata": {},
   "source": [
    "# Introduction to Research Module"
   ]
  },
  {
   "cell_type": "markdown",
   "metadata": {},
   "source": [
    "This tutorial introduces Research functionality of batchflow.\n",
    "\n",
    "Research class allows you to easily:\n",
    "* experiment with models parameters combinations\n",
    "* run multiple pipeline configurations (e.g. simultanious train and test workflow)\n",
    "* add functions, customizing research process\n",
    "* save and load results of experiments in a unified form"
   ]
  },
  {
   "cell_type": "markdown",
   "metadata": {
    "toc-hr-collapsed": true
   },
   "source": [
    "## Basic example"
   ]
  },
  {
   "cell_type": "markdown",
   "metadata": {},
   "source": [
    "### Imports and Utilities"
   ]
  },
  {
   "cell_type": "markdown",
   "metadata": {},
   "source": [
    "We start with some useful imports and constant definitions"
   ]
  },
  {
   "cell_type": "code",
   "execution_count": 1,
   "metadata": {},
   "outputs": [],
   "source": [
    "import os\n",
    "import shutil\n",
    "\n",
    "import warnings\n",
    "warnings.filterwarnings('ignore')\n",
    "\n",
    "from tensorflow import logging\n",
    "logging.set_verbosity(logging.ERROR)\n",
    "os.environ['TF_CPP_MIN_LOG_LEVEL'] = '3'\n",
    "\n",
    "import sys\n",
    "sys.path.append('../../..')\n",
    "\n",
    "from matplotlib import pyplot as plt\n",
    "%matplotlib inline\n",
    "\n",
    "from batchflow import Pipeline, B, C, V, D, L\n",
    "from batchflow.opensets import MNIST\n",
    "from batchflow.research import Research, Option, Domain, Results, PrintLogger, RP, REP\n",
    "from batchflow.models.metrics import Loss"
   ]
  },
  {
   "cell_type": "markdown",
   "metadata": {},
   "source": [
    "Research doesn't depends on the model type (`torch` or `tf`) but for the sake of unification you can choose what kind of model you will use in that tutorial by `MODEL` constant. Constant will influence on model imports (from `batchflow.models.tf` or `batchflow.models.torch`) and some framework specific things: channels dimension (`'channels_first'` for `torch` and `'channels_last'` for `tf`) or name of parameter to enable `'bias'` in convolutions or not."
   ]
  },
  {
   "cell_type": "code",
   "execution_count": 2,
   "metadata": {},
   "outputs": [],
   "source": [
    "MODEL = 'torch'"
   ]
  },
  {
   "cell_type": "code",
   "execution_count": 3,
   "metadata": {},
   "outputs": [],
   "source": [
    "if MODEL == 'tf':\n",
    "    from batchflow.models.tf import VGG7, VGG16\n",
    "else:\n",
    "    from batchflow.models.torch import VGG7, VGG16\n",
    "    \n",
    "CHANNELS = 'last' if MODEL == 'tf' else 'first'"
   ]
  },
  {
   "cell_type": "code",
   "execution_count": 4,
   "metadata": {},
   "outputs": [],
   "source": [
    "BATCH_SIZE = 64\n",
    "ITERATIONS = 1000"
   ]
  },
  {
   "cell_type": "code",
   "execution_count": 5,
   "metadata": {},
   "outputs": [],
   "source": [
    "def clear_previous_results(res_name):\n",
    "    if os.path.exists(res_name):\n",
    "        shutil.rmtree(res_name)"
   ]
  },
  {
   "cell_type": "markdown",
   "metadata": {
    "toc-hr-collapsed": true
   },
   "source": [
    "### Single-experiment Research"
   ]
  },
  {
   "cell_type": "markdown",
   "metadata": {},
   "source": [
    "First we define a simple pipeline that loads some MNIST data and trains VGG7 model on it. It also saves the loss on each iteration in a pipeline variable. Let's call it an experiment."
   ]
  },
  {
   "cell_type": "markdown",
   "metadata": {},
   "source": [
    "#### Loading Data and Creating Pipeline"
   ]
  },
  {
   "cell_type": "markdown",
   "metadata": {},
   "source": [
    "We call a lazy version of pipeline's `run` method to define batch size to use. We pass `n_epochs=None`, because the duration of our experiment will be controlled by Research."
   ]
  },
  {
   "cell_type": "code",
   "execution_count": 6,
   "metadata": {},
   "outputs": [],
   "source": [
    "mnist = MNIST()\n",
    "\n",
    "model_config={\n",
    "    'inputs/images/shape': B('image_shape'),\n",
    "    'inputs/labels/classes': D('num_classes'),\n",
    "    'inputs/labels/name': 'targets',\n",
    "    'initial_block/inputs': 'images',\n",
    "}\n",
    "\n",
    "train_template = (Pipeline()\n",
    "            .init_variable('loss')\n",
    "            .init_model('dynamic', VGG7, 'conv', config=model_config)\n",
    "            .to_array(channels=CHANNELS)\n",
    "            .train_model('conv', images=B('images'), targets=B('labels'),\n",
    "                         fetches='loss', save_to=V('loss', mode='w'))\n",
    "            .run_later(BATCH_SIZE, shuffle=True, n_epochs=None))\n",
    "\n",
    "train_ppl = train_template << mnist.train"
   ]
  },
  {
   "cell_type": "markdown",
   "metadata": {},
   "source": [
    "#### Creating Research"
   ]
  },
  {
   "cell_type": "markdown",
   "metadata": {},
   "source": [
    "The simpliest thing we can do with Research is running this experiment several times to see how loss dynamics changes from run to run.\n",
    "\n",
    "To do this we define a Research object, pass the number of experiment iterations `n_reps=4` via `init_domain` and add the pipeline with `add_pipeline`, passing `train_ppl` as first parameter. The `variables` parameter gets a string or a list of strings that indicates which pipeline variables will be monitored by Research and written to research results on each iteration (note that we update `loss` variable with mode `'w'`). We also provide `name` that will be written to results, indicating their origin. Finally, `logging=True` adds additional logging of the pipeline execution to log stream. By default, all messages are streamed into `research.log` file in research folder. To change logging stream, use `Logger` classes from `research` and add them by `add_logger` method (we will show use case below)."
   ]
  },
  {
   "cell_type": "code",
   "execution_count": 7,
   "metadata": {},
   "outputs": [],
   "source": [
    "research = (Research()\n",
    "            .init_domain(n_reps=4)\n",
    "            .add_pipeline(train_ppl, variables='loss', name='train_ppl', logging=True))"
   ]
  },
  {
   "cell_type": "markdown",
   "metadata": {},
   "source": [
    "#### Running Research "
   ]
  },
  {
   "cell_type": "markdown",
   "metadata": {},
   "source": [
    "Each research is assigned with a name and writes its results to a folder with this name. The names must be unique, so if one attempts to run a research with a name that already exists, an error will be thrown. In the cell below we clear the results of previous research runs so as to allow multiple runs of a research. This is done solely for purposes of this tutorial and should not be done in real work."
   ]
  },
  {
   "cell_type": "code",
   "execution_count": 8,
   "metadata": {},
   "outputs": [],
   "source": [
    "res_name='vgg7_research'\n",
    "clear_previous_results(res_name)"
   ]
  },
  {
   "cell_type": "markdown",
   "metadata": {},
   "source": [
    "Now we run this Research with following parameters:\n",
    "* `n_iters` - how many iterations will the experiment consist of. Each iteration here consists of processing a single batch\n",
    "* `name` - research name, also acts as a name for corresponding save folder\n",
    "* `bar` - toggles tqdm progress bar"
   ]
  },
  {
   "cell_type": "code",
   "execution_count": 9,
   "metadata": {},
   "outputs": [
    {
     "name": "stdout",
     "output_type": "stream",
     "text": [
      "Research vgg7_research is starting...\n"
     ]
    },
    {
     "name": "stderr",
     "output_type": "stream",
     "text": [
      "Domain updated: 0: 100%|██████████| 4000/4000.0 [04:08<00:00, 16.08it/s]\n"
     ]
    },
    {
     "data": {
      "text/plain": [
       "<batchflow.research.research.Research at 0x7f87a5e41eb8>"
      ]
     },
     "execution_count": 9,
     "metadata": {},
     "output_type": "execute_result"
    }
   ],
   "source": [
    "research.run(n_iters=ITERATIONS, name=res_name, bar=True)"
   ]
  },
  {
   "cell_type": "markdown",
   "metadata": {},
   "source": [
    "#### Investigating Research Results"
   ]
  },
  {
   "cell_type": "markdown",
   "metadata": {},
   "source": [
    "Each research is assigned with a `name` argument provided to `run`.\n",
    "Results of the research and its log are saved in a folder with the same name in the working directory. \n",
    "If we check current directory content we'll see *vgg7_research* folder with results of the research done above."
   ]
  },
  {
   "cell_type": "code",
   "execution_count": 10,
   "metadata": {},
   "outputs": [
    {
     "name": "stdout",
     "output_type": "stream",
     "text": [
      "total 2096\n",
      "drwxr-xr-x 17 root root    4096 Apr  1 20:46 .\n",
      "drwxr-xr-x  3 root root    4096 Mar 26 09:41 ..\n",
      "drwxr-xr-x  2 root root    4096 Mar 27 15:48 .ipynb_checkpoints\n",
      "-rw-r--r--  1 root root   38021 Apr  1 20:46 01_introduction_to_research.ipynb\n",
      "-rw-r--r--  1 root root   92727 Apr  1 20:11 02_advanced_usage_of_research.ipynb\n",
      "-rw-r--r--  1 root root 1870289 Mar 27 15:48 03_plotting_research_results.ipynb\n",
      "-rw-r--r--  1 root root   21561 Mar 26 09:41 04_advance_usage_of_domain.ipynb\n",
      "-rw-r--r--  1 root root    8540 Mar 31 12:29 05_update_domain_in_research.ipynb\n",
      "-rw-r--r--  1 root root   25977 Mar 26 09:41 06_callables.ipynb\n",
      "-rw-r--r--  1 root root    1387 Mar 26 09:41 README.md\n",
      "drwxr-xr-x  5 root root    4096 Apr  1 19:34 cv_research\n",
      "drwxr-xr-x  5 root root    4096 Mar 30 12:33 dynamic_domain_research\n",
      "drwxr-xr-x  5 root root    4096 Apr  1 19:19 faster_research\n",
      "drwxr-xr-x  5 root root    4096 Mar 30 09:21 fn_research\n",
      "drwxr-xr-x  5 root root    4096 Mar 30 09:30 get_metrics_research\n",
      "drwxr-xr-x  5 root root    4096 Mar 30 09:34 get_test_loss_research\n",
      "drwxr-xr-x  2 root root    4096 Mar 26 09:41 img\n",
      "drwxr-xr-x  5 root root    4096 Apr  1 19:15 no_extra_dataload_research\n",
      "drwxr-xr-x  5 root root    4096 Apr  1 19:17 on_root_research\n",
      "drwxr-xr-x  5 root root    4096 Apr  1 19:11 simple_research\n",
      "drwxr-xr-x  5 root root    4096 Mar 30 08:51 train_test_research\n",
      "drwxr-xr-x  5 root root    4096 Apr  1 20:44 \u001b[01;31m\u001b[Kvgg7_research\u001b[m\u001b[K\n",
      "drwxr-xr-x  5 root root    4096 Mar 30 08:23 vgg_layout_bias_poolstrides_research\n",
      "drwxr-xr-x  5 root root    4096 Mar 30 08:37 vgg_layout_bias_poolstrides_research_loaded\n"
     ]
    }
   ],
   "source": [
    "!ls -la | grep --color -E 'vgg7_research|$'"
   ]
  },
  {
   "cell_type": "markdown",
   "metadata": {},
   "source": [
    "To see the experiments' results we call `load_result` method which returns pandas.Dataframe of 5 columns:\n",
    "* name — name of pipeline that acts as a source for the variable\n",
    "* loss — variable name passed earlier in `add_pipeline`\n",
    "* iteration — experiment iteration number\n",
    "* repetition — experiment repetition number\n",
    "* sample_index — unique id for each experiment\n",
    "* update - the number of domain updates before that experiment (idea will be described in the following tutorials)"
   ]
  },
  {
   "cell_type": "code",
   "execution_count": 11,
   "metadata": {},
   "outputs": [
    {
     "name": "stdout",
     "output_type": "stream",
     "text": [
      "<class 'pandas.core.frame.DataFrame'>\n",
      "RangeIndex: 4000 entries, 0 to 3999\n",
      "Data columns (total 6 columns):\n",
      "name            4000 non-null object\n",
      "loss            4000 non-null float64\n",
      "iteration       4000 non-null int64\n",
      "sample_index    4000 non-null object\n",
      "repetition      4000 non-null int64\n",
      "update          4000 non-null int64\n",
      "dtypes: float64(1), int64(3), object(2)\n",
      "memory usage: 187.6+ KB\n"
     ]
    }
   ],
   "source": [
    "results = research.load_results().df\n",
    "results.info()"
   ]
  },
  {
   "cell_type": "code",
   "execution_count": 12,
   "metadata": {},
   "outputs": [
    {
     "data": {
      "text/html": [
       "<div>\n",
       "<style scoped>\n",
       "    .dataframe tbody tr th:only-of-type {\n",
       "        vertical-align: middle;\n",
       "    }\n",
       "\n",
       "    .dataframe tbody tr th {\n",
       "        vertical-align: top;\n",
       "    }\n",
       "\n",
       "    .dataframe thead th {\n",
       "        text-align: right;\n",
       "    }\n",
       "</style>\n",
       "<table border=\"1\" class=\"dataframe\">\n",
       "  <thead>\n",
       "    <tr style=\"text-align: right;\">\n",
       "      <th></th>\n",
       "      <th>name</th>\n",
       "      <th>loss</th>\n",
       "      <th>iteration</th>\n",
       "      <th>sample_index</th>\n",
       "      <th>repetition</th>\n",
       "      <th>update</th>\n",
       "    </tr>\n",
       "  </thead>\n",
       "  <tbody>\n",
       "    <tr>\n",
       "      <th>631</th>\n",
       "      <td>train_ppl</td>\n",
       "      <td>0.007730</td>\n",
       "      <td>631</td>\n",
       "      <td>1388107509</td>\n",
       "      <td>0</td>\n",
       "      <td>0</td>\n",
       "    </tr>\n",
       "    <tr>\n",
       "      <th>2100</th>\n",
       "      <td>train_ppl</td>\n",
       "      <td>0.128262</td>\n",
       "      <td>100</td>\n",
       "      <td>2852829034</td>\n",
       "      <td>3</td>\n",
       "      <td>0</td>\n",
       "    </tr>\n",
       "    <tr>\n",
       "      <th>2727</th>\n",
       "      <td>train_ppl</td>\n",
       "      <td>0.119309</td>\n",
       "      <td>727</td>\n",
       "      <td>2852829034</td>\n",
       "      <td>3</td>\n",
       "      <td>0</td>\n",
       "    </tr>\n",
       "    <tr>\n",
       "      <th>2066</th>\n",
       "      <td>train_ppl</td>\n",
       "      <td>0.111582</td>\n",
       "      <td>66</td>\n",
       "      <td>2852829034</td>\n",
       "      <td>3</td>\n",
       "      <td>0</td>\n",
       "    </tr>\n",
       "    <tr>\n",
       "      <th>1190</th>\n",
       "      <td>train_ppl</td>\n",
       "      <td>0.025290</td>\n",
       "      <td>190</td>\n",
       "      <td>2041413587</td>\n",
       "      <td>2</td>\n",
       "      <td>0</td>\n",
       "    </tr>\n",
       "    <tr>\n",
       "      <th>2648</th>\n",
       "      <td>train_ppl</td>\n",
       "      <td>0.105185</td>\n",
       "      <td>648</td>\n",
       "      <td>2852829034</td>\n",
       "      <td>3</td>\n",
       "      <td>0</td>\n",
       "    </tr>\n",
       "    <tr>\n",
       "      <th>2294</th>\n",
       "      <td>train_ppl</td>\n",
       "      <td>0.034171</td>\n",
       "      <td>294</td>\n",
       "      <td>2852829034</td>\n",
       "      <td>3</td>\n",
       "      <td>0</td>\n",
       "    </tr>\n",
       "    <tr>\n",
       "      <th>3165</th>\n",
       "      <td>train_ppl</td>\n",
       "      <td>0.078799</td>\n",
       "      <td>165</td>\n",
       "      <td>3785476387</td>\n",
       "      <td>1</td>\n",
       "      <td>0</td>\n",
       "    </tr>\n",
       "    <tr>\n",
       "      <th>3001</th>\n",
       "      <td>train_ppl</td>\n",
       "      <td>2.349017</td>\n",
       "      <td>1</td>\n",
       "      <td>3785476387</td>\n",
       "      <td>1</td>\n",
       "      <td>0</td>\n",
       "    </tr>\n",
       "    <tr>\n",
       "      <th>2143</th>\n",
       "      <td>train_ppl</td>\n",
       "      <td>0.203874</td>\n",
       "      <td>143</td>\n",
       "      <td>2852829034</td>\n",
       "      <td>3</td>\n",
       "      <td>0</td>\n",
       "    </tr>\n",
       "  </tbody>\n",
       "</table>\n",
       "</div>"
      ],
      "text/plain": [
       "           name      loss  iteration sample_index  repetition  update\n",
       "631   train_ppl  0.007730        631   1388107509           0       0\n",
       "2100  train_ppl  0.128262        100   2852829034           3       0\n",
       "2727  train_ppl  0.119309        727   2852829034           3       0\n",
       "2066  train_ppl  0.111582         66   2852829034           3       0\n",
       "1190  train_ppl  0.025290        190   2041413587           2       0\n",
       "2648  train_ppl  0.105185        648   2852829034           3       0\n",
       "2294  train_ppl  0.034171        294   2852829034           3       0\n",
       "3165  train_ppl  0.078799        165   3785476387           1       0\n",
       "3001  train_ppl  2.349017          1   3785476387           1       0\n",
       "2143  train_ppl  0.203874        143   2852829034           3       0"
      ]
     },
     "execution_count": 12,
     "metadata": {},
     "output_type": "execute_result"
    }
   ],
   "source": [
    "results.sample(10)"
   ]
  },
  {
   "cell_type": "markdown",
   "metadata": {},
   "source": [
    "We can now draw a nice plot showing our loss dynamics on each experiment repetition."
   ]
  },
  {
   "cell_type": "code",
   "execution_count": 13,
   "metadata": {},
   "outputs": [
    {
     "data": {
      "text/plain": [
       "<matplotlib.axes._subplots.AxesSubplot at 0x7f8786c807f0>"
      ]
     },
     "execution_count": 13,
     "metadata": {},
     "output_type": "execute_result"
    },
    {
     "data": {
      "image/png": "[encoded data removed]",
      "text/plain": [
       "<Figure size 432x288 with 1 Axes>"
      ]
     },
     "metadata": {
      "needs_background": "light"
     },
     "output_type": "display_data"
    }
   ],
   "source": [
    "results.pivot(index='iteration', columns='repetition', values='loss').plot()"
   ]
  },
  {
   "cell_type": "markdown",
   "metadata": {
    "toc-hr-collapsed": true
   },
   "source": [
    "## Introducing Domain"
   ]
  },
  {
   "cell_type": "markdown",
   "metadata": {},
   "source": [
    "We have learned to run multiple repetitions of a single experiment with Research. \n",
    "\n",
    "We can also run several experiments with different parameters in one research. Suppose we want to compare the performance of:\n",
    "\n",
    "* VGG7 and VGG16 models with different layouts ('convolution-normalization-activation' vs 'convolution-activation-normalization') and same default bias and pool_strides settings (which are no bias and 2)\n",
    "* VGG7 with pool_stride 1 and VGG16 with pool_stride 2, both with bias and default 'cna' layout"
   ]
  },
  {
   "cell_type": "markdown",
   "metadata": {},
   "source": [
    "### Defining Domain"
   ]
  },
  {
   "cell_type": "markdown",
   "metadata": {},
   "source": [
    "We define a domain of parameters as follows. \n",
    "We define an Option that consists of the parameter to vary and a list of values that we want to try in our research. Each parameter value defines a node in a parameter domain. We can add (`+`) domains to unite the nodes, multiply (`*`) them to get Cartesian product and also multiply domain options node-wise (`@`).\n",
    "\n",
    "`domain.iterator` is a generator that yields one node (that is, a single experiment specification) at a time. Printing a list of all nodes shows us all experiment modifications in a dict-like mode."
   ]
  },
  {
   "cell_type": "code",
   "execution_count": 14,
   "metadata": {},
   "outputs": [
    {
     "data": {
      "text/plain": [
       "[ConfigAlias({'layout': 'cna', 'model': 'VGG7', 'bias': 'False', 'stride': '2', 'repetition': '0'}),\n",
       " ConfigAlias({'layout': 'cna', 'model': 'VGG16', 'bias': 'False', 'stride': '2', 'repetition': '0'}),\n",
       " ConfigAlias({'layout': 'can', 'model': 'VGG7', 'bias': 'False', 'stride': '2', 'repetition': '0'}),\n",
       " ConfigAlias({'layout': 'can', 'model': 'VGG16', 'bias': 'False', 'stride': '2', 'repetition': '0'}),\n",
       " ConfigAlias({'layout': 'cna', 'bias': 'True', 'model': 'VGG7', 'stride': '1', 'repetition': '0'}),\n",
       " ConfigAlias({'layout': 'cna', 'bias': 'True', 'model': 'VGG16', 'stride': '2', 'repetition': '0'})]"
      ]
     },
     "execution_count": 14,
     "metadata": {},
     "output_type": "execute_result"
    }
   ],
   "source": [
    "domain = (Option('layout', ['cna', 'can']) * Option('model', [VGG7, VGG16]) * Option('bias', [False]) * Option('stride', [2])\n",
    "        +  Option('layout', ['cna']) * Option('bias', [True]) * (Option('model', [VGG7, VGG16]) @ Option('stride', [1, 2])))\n",
    "list(domain.iterator)"
   ]
  },
  {
   "cell_type": "markdown",
   "metadata": {},
   "source": [
    "Resulting configs have `'repetition'` key to specify the index for repetition for current config. By default there is an one only repetition but it can be specified by `n_reps` parameters of `Domain` (see [tutorial 4](https://github.com/analysiscenter/batchflow/blob/research/examples/tutorials/research/04_advance_usage_of_domain.ipynb))"
   ]
  },
  {
   "cell_type": "markdown",
   "metadata": {},
   "source": [
    "### Creating Pipelines With Variable Parameters"
   ]
  },
  {
   "cell_type": "markdown",
   "metadata": {},
   "source": [
    "We should now update `model_config` so that it could read the values from `domain` defined above.\n",
    "\n",
    "Passing config option named expressions `C()` as parameters values with names from our parameter domain we define layout, pool_strides and bias in the model config. Then, we define model type passing named expression to `init_model` method of the pipeline."
   ]
  },
  {
   "cell_type": "code",
   "execution_count": 15,
   "metadata": {},
   "outputs": [],
   "source": [
    "model_config.update({\n",
    "    'body/block/layout': C('layout'),\n",
    "    'body/block/pool_strides': C('stride')\n",
    "})\n",
    "\n",
    "if MODEL == 'tf':\n",
    "    model_config['common/conv/use_bias'] = C('bias')\n",
    "else:\n",
    "    model_config['common/conv/bias'] = C('bias')\n",
    "\n",
    "# For reference: previous train_template definition \n",
    "#     train_template = (Pipeline()\n",
    "#                 .init_variable('loss', init_on_each_run=list)\n",
    "#                 .init_model('dynamic', VGG7, 'conv', config=model_config) # Note model class defined explicitly\n",
    "#                 .to_array(channels=CHANNELS)\n",
    "#                 .train_model('conv', \n",
    "#                              images=B('images'), targets=B('labels'),\n",
    "#                              fetches='loss', save_to=V('loss', mode='w'))\n",
    "#     )\n",
    "\n",
    "train_template = (Pipeline()\n",
    "            .init_variable('loss', default=[])\n",
    "            .init_model('dynamic', C('model'), 'conv', config=model_config) # Model class defined via named expression\n",
    "            .to_array(channels=CHANNELS)\n",
    "            .train_model('conv', \n",
    "                         images=B('images'), targets=B('labels'),\n",
    "                         fetches='loss', save_to=V('loss', mode='w'))\n",
    "            .run_later(BATCH_SIZE, shuffle=True, n_epochs=None))\n",
    "\n",
    "train_ppl = train_template << mnist.train"
   ]
  },
  {
   "cell_type": "markdown",
   "metadata": {},
   "source": [
    "### Adding Domain To Research"
   ]
  },
  {
   "cell_type": "markdown",
   "metadata": {},
   "source": [
    "We define a new research as before but also add the domain of parameters with `init_domain` method. After that we run the research, and it takes much longer because we are now running 6 different experiments 2 times each beacuse we set `n_reps=2`. "
   ]
  },
  {
   "cell_type": "code",
   "execution_count": 16,
   "metadata": {},
   "outputs": [
    {
     "name": "stdout",
     "output_type": "stream",
     "text": [
      "Research vgg_layout_bias_poolstrides_research is starting...\n"
     ]
    },
    {
     "name": "stderr",
     "output_type": "stream",
     "text": [
      "Domain updated: 0: 100%|██████████| 12000/12000.0 [13:27<00:00, 14.87it/s]\n"
     ]
    },
    {
     "data": {
      "text/plain": [
       "<batchflow.research.research.Research at 0x7f88faebe518>"
      ]
     },
     "execution_count": 16,
     "metadata": {},
     "output_type": "execute_result"
    }
   ],
   "source": [
    "res_name = 'vgg_layout_bias_poolstrides_research'\n",
    "clear_previous_results(res_name)\n",
    "\n",
    "research = (Research()\n",
    "            .init_domain(domain, n_reps=2)\n",
    "            .add_pipeline(train_ppl, variables='loss', name='train'))\n",
    "\n",
    "research.run(n_iters=ITERATIONS, name=res_name, bar=True)"
   ]
  },
  {
   "cell_type": "markdown",
   "metadata": {},
   "source": [
    "Research results now contain new columns *layout*, *stride*, *bias* and *model* with corresponding parameter values."
   ]
  },
  {
   "cell_type": "code",
   "execution_count": 17,
   "metadata": {},
   "outputs": [
    {
     "data": {
      "text/html": [
       "<div>\n",
       "<style scoped>\n",
       "    .dataframe tbody tr th:only-of-type {\n",
       "        vertical-align: middle;\n",
       "    }\n",
       "\n",
       "    .dataframe tbody tr th {\n",
       "        vertical-align: top;\n",
       "    }\n",
       "\n",
       "    .dataframe thead th {\n",
       "        text-align: right;\n",
       "    }\n",
       "</style>\n",
       "<table border=\"1\" class=\"dataframe\">\n",
       "  <thead>\n",
       "    <tr style=\"text-align: right;\">\n",
       "      <th></th>\n",
       "      <th>name</th>\n",
       "      <th>loss</th>\n",
       "      <th>iteration</th>\n",
       "      <th>sample_index</th>\n",
       "      <th>layout</th>\n",
       "      <th>model</th>\n",
       "      <th>bias</th>\n",
       "      <th>stride</th>\n",
       "      <th>repetition</th>\n",
       "      <th>update</th>\n",
       "    </tr>\n",
       "  </thead>\n",
       "  <tbody>\n",
       "    <tr>\n",
       "      <th>0</th>\n",
       "      <td>train</td>\n",
       "      <td>2.408963</td>\n",
       "      <td>0</td>\n",
       "      <td>234816273</td>\n",
       "      <td>can</td>\n",
       "      <td>VGG7</td>\n",
       "      <td>False</td>\n",
       "      <td>2</td>\n",
       "      <td>1</td>\n",
       "      <td>0</td>\n",
       "    </tr>\n",
       "    <tr>\n",
       "      <th>1</th>\n",
       "      <td>train</td>\n",
       "      <td>2.397755</td>\n",
       "      <td>1</td>\n",
       "      <td>234816273</td>\n",
       "      <td>can</td>\n",
       "      <td>VGG7</td>\n",
       "      <td>False</td>\n",
       "      <td>2</td>\n",
       "      <td>1</td>\n",
       "      <td>0</td>\n",
       "    </tr>\n",
       "    <tr>\n",
       "      <th>2</th>\n",
       "      <td>train</td>\n",
       "      <td>2.080967</td>\n",
       "      <td>2</td>\n",
       "      <td>234816273</td>\n",
       "      <td>can</td>\n",
       "      <td>VGG7</td>\n",
       "      <td>False</td>\n",
       "      <td>2</td>\n",
       "      <td>1</td>\n",
       "      <td>0</td>\n",
       "    </tr>\n",
       "    <tr>\n",
       "      <th>3</th>\n",
       "      <td>train</td>\n",
       "      <td>1.809735</td>\n",
       "      <td>3</td>\n",
       "      <td>234816273</td>\n",
       "      <td>can</td>\n",
       "      <td>VGG7</td>\n",
       "      <td>False</td>\n",
       "      <td>2</td>\n",
       "      <td>1</td>\n",
       "      <td>0</td>\n",
       "    </tr>\n",
       "    <tr>\n",
       "      <th>4</th>\n",
       "      <td>train</td>\n",
       "      <td>1.692350</td>\n",
       "      <td>4</td>\n",
       "      <td>234816273</td>\n",
       "      <td>can</td>\n",
       "      <td>VGG7</td>\n",
       "      <td>False</td>\n",
       "      <td>2</td>\n",
       "      <td>1</td>\n",
       "      <td>0</td>\n",
       "    </tr>\n",
       "  </tbody>\n",
       "</table>\n",
       "</div>"
      ],
      "text/plain": [
       "    name      loss  iteration sample_index layout model   bias stride  \\\n",
       "0  train  2.408963          0    234816273    can  VGG7  False      2   \n",
       "1  train  2.397755          1    234816273    can  VGG7  False      2   \n",
       "2  train  2.080967          2    234816273    can  VGG7  False      2   \n",
       "3  train  1.809735          3    234816273    can  VGG7  False      2   \n",
       "4  train  1.692350          4    234816273    can  VGG7  False      2   \n",
       "\n",
       "   repetition  update  \n",
       "0           1       0  \n",
       "1           1       0  \n",
       "2           1       0  \n",
       "3           1       0  \n",
       "4           1       0  "
      ]
     },
     "execution_count": 17,
     "metadata": {},
     "output_type": "execute_result"
    }
   ],
   "source": [
    "results = research.load_results().df\n",
    "results.head()"
   ]
  },
  {
   "cell_type": "markdown",
   "metadata": {
    "toc-hr-collapsed": true
   },
   "source": [
    "## Controlling *load_results* Output"
   ]
  },
  {
   "cell_type": "markdown",
   "metadata": {},
   "source": [
    "### Loading Results With Single-column Config Representation"
   ]
  },
  {
   "cell_type": "markdown",
   "metadata": {},
   "source": [
    "To combine different config options in a single-column string representation we can pass `concat_config=True` to `load_results` method."
   ]
  },
  {
   "cell_type": "code",
   "execution_count": 18,
   "metadata": {},
   "outputs": [
    {
     "data": {
      "text/html": [
       "<div>\n",
       "<style scoped>\n",
       "    .dataframe tbody tr th:only-of-type {\n",
       "        vertical-align: middle;\n",
       "    }\n",
       "\n",
       "    .dataframe tbody tr th {\n",
       "        vertical-align: top;\n",
       "    }\n",
       "\n",
       "    .dataframe thead th {\n",
       "        text-align: right;\n",
       "    }\n",
       "</style>\n",
       "<table border=\"1\" class=\"dataframe\">\n",
       "  <thead>\n",
       "    <tr style=\"text-align: right;\">\n",
       "      <th></th>\n",
       "      <th>name</th>\n",
       "      <th>loss</th>\n",
       "      <th>iteration</th>\n",
       "      <th>sample_index</th>\n",
       "      <th>config</th>\n",
       "      <th>repetition</th>\n",
       "      <th>update</th>\n",
       "    </tr>\n",
       "  </thead>\n",
       "  <tbody>\n",
       "    <tr>\n",
       "      <th>0</th>\n",
       "      <td>train</td>\n",
       "      <td>2.408963</td>\n",
       "      <td>0</td>\n",
       "      <td>234816273</td>\n",
       "      <td>bias_False-layout_can-model_VGG7-stride_2</td>\n",
       "      <td>1</td>\n",
       "      <td>0</td>\n",
       "    </tr>\n",
       "    <tr>\n",
       "      <th>1</th>\n",
       "      <td>train</td>\n",
       "      <td>2.397755</td>\n",
       "      <td>1</td>\n",
       "      <td>234816273</td>\n",
       "      <td>bias_False-layout_can-model_VGG7-stride_2</td>\n",
       "      <td>1</td>\n",
       "      <td>0</td>\n",
       "    </tr>\n",
       "    <tr>\n",
       "      <th>2</th>\n",
       "      <td>train</td>\n",
       "      <td>2.080967</td>\n",
       "      <td>2</td>\n",
       "      <td>234816273</td>\n",
       "      <td>bias_False-layout_can-model_VGG7-stride_2</td>\n",
       "      <td>1</td>\n",
       "      <td>0</td>\n",
       "    </tr>\n",
       "    <tr>\n",
       "      <th>3</th>\n",
       "      <td>train</td>\n",
       "      <td>1.809735</td>\n",
       "      <td>3</td>\n",
       "      <td>234816273</td>\n",
       "      <td>bias_False-layout_can-model_VGG7-stride_2</td>\n",
       "      <td>1</td>\n",
       "      <td>0</td>\n",
       "    </tr>\n",
       "    <tr>\n",
       "      <th>4</th>\n",
       "      <td>train</td>\n",
       "      <td>1.692350</td>\n",
       "      <td>4</td>\n",
       "      <td>234816273</td>\n",
       "      <td>bias_False-layout_can-model_VGG7-stride_2</td>\n",
       "      <td>1</td>\n",
       "      <td>0</td>\n",
       "    </tr>\n",
       "  </tbody>\n",
       "</table>\n",
       "</div>"
      ],
      "text/plain": [
       "    name      loss  iteration sample_index  \\\n",
       "0  train  2.408963          0    234816273   \n",
       "1  train  2.397755          1    234816273   \n",
       "2  train  2.080967          2    234816273   \n",
       "3  train  1.809735          3    234816273   \n",
       "4  train  1.692350          4    234816273   \n",
       "\n",
       "                                      config  repetition  update  \n",
       "0  bias_False-layout_can-model_VGG7-stride_2           1       0  \n",
       "1  bias_False-layout_can-model_VGG7-stride_2           1       0  \n",
       "2  bias_False-layout_can-model_VGG7-stride_2           1       0  \n",
       "3  bias_False-layout_can-model_VGG7-stride_2           1       0  \n",
       "4  bias_False-layout_can-model_VGG7-stride_2           1       0  "
      ]
     },
     "execution_count": 18,
     "metadata": {},
     "output_type": "execute_result"
    }
   ],
   "source": [
    "results = research.load_results(concat_config=True).df\n",
    "results.head()"
   ]
  },
  {
   "cell_type": "markdown",
   "metadata": {},
   "source": [
    "This is very useful when comparing separate experiments."
   ]
  },
  {
   "cell_type": "code",
   "execution_count": 19,
   "metadata": {},
   "outputs": [
    {
     "data": {
      "image/png": "[encoded data removed]",
      "text/plain": [
       "<Figure size 1080x1080 with 6 Axes>"
      ]
     },
     "metadata": {
      "needs_background": "light"
     },
     "output_type": "display_data"
    }
   ],
   "source": [
    "fig, ax = plt.subplots(3, 2, figsize=(15, 15))\n",
    "for i, (config, df) in enumerate(results.groupby('config')):\n",
    "    x, y = i//2, i%2\n",
    "    df.pivot(index='iteration', columns='repetition', values='loss').plot(ax=ax[x, y])\n",
    "    ax[x, y].set_title(config)\n",
    "    ax[x, y].set_xlabel('iteration')\n",
    "    ax[x, y].set_ylabel('loss')\n",
    "    ax[x, y].grid(True)\n",
    "    ax[x, y].legend()"
   ]
  },
  {
   "cell_type": "markdown",
   "metadata": {},
   "source": [
    "### Filtering loaded results"
   ]
  },
  {
   "cell_type": "markdown",
   "metadata": {},
   "source": [
    "We can filter the results to use certain parameter values."
   ]
  },
  {
   "cell_type": "code",
   "execution_count": 20,
   "metadata": {},
   "outputs": [
    {
     "data": {
      "text/html": [
       "<div>\n",
       "<style scoped>\n",
       "    .dataframe tbody tr th:only-of-type {\n",
       "        vertical-align: middle;\n",
       "    }\n",
       "\n",
       "    .dataframe tbody tr th {\n",
       "        vertical-align: top;\n",
       "    }\n",
       "\n",
       "    .dataframe thead th {\n",
       "        text-align: right;\n",
       "    }\n",
       "</style>\n",
       "<table border=\"1\" class=\"dataframe\">\n",
       "  <thead>\n",
       "    <tr style=\"text-align: right;\">\n",
       "      <th></th>\n",
       "      <th>name</th>\n",
       "      <th>loss</th>\n",
       "      <th>iteration</th>\n",
       "      <th>sample_index</th>\n",
       "      <th>layout</th>\n",
       "      <th>model</th>\n",
       "      <th>bias</th>\n",
       "      <th>stride</th>\n",
       "      <th>repetition</th>\n",
       "      <th>update</th>\n",
       "    </tr>\n",
       "  </thead>\n",
       "  <tbody>\n",
       "    <tr>\n",
       "      <th>0</th>\n",
       "      <td>train</td>\n",
       "      <td>2.408963</td>\n",
       "      <td>0</td>\n",
       "      <td>234816273</td>\n",
       "      <td>can</td>\n",
       "      <td>VGG7</td>\n",
       "      <td>False</td>\n",
       "      <td>2</td>\n",
       "      <td>1</td>\n",
       "      <td>0</td>\n",
       "    </tr>\n",
       "    <tr>\n",
       "      <th>1</th>\n",
       "      <td>train</td>\n",
       "      <td>2.397755</td>\n",
       "      <td>1</td>\n",
       "      <td>234816273</td>\n",
       "      <td>can</td>\n",
       "      <td>VGG7</td>\n",
       "      <td>False</td>\n",
       "      <td>2</td>\n",
       "      <td>1</td>\n",
       "      <td>0</td>\n",
       "    </tr>\n",
       "    <tr>\n",
       "      <th>2</th>\n",
       "      <td>train</td>\n",
       "      <td>2.080967</td>\n",
       "      <td>2</td>\n",
       "      <td>234816273</td>\n",
       "      <td>can</td>\n",
       "      <td>VGG7</td>\n",
       "      <td>False</td>\n",
       "      <td>2</td>\n",
       "      <td>1</td>\n",
       "      <td>0</td>\n",
       "    </tr>\n",
       "    <tr>\n",
       "      <th>3</th>\n",
       "      <td>train</td>\n",
       "      <td>1.809735</td>\n",
       "      <td>3</td>\n",
       "      <td>234816273</td>\n",
       "      <td>can</td>\n",
       "      <td>VGG7</td>\n",
       "      <td>False</td>\n",
       "      <td>2</td>\n",
       "      <td>1</td>\n",
       "      <td>0</td>\n",
       "    </tr>\n",
       "    <tr>\n",
       "      <th>4</th>\n",
       "      <td>train</td>\n",
       "      <td>1.692350</td>\n",
       "      <td>4</td>\n",
       "      <td>234816273</td>\n",
       "      <td>can</td>\n",
       "      <td>VGG7</td>\n",
       "      <td>False</td>\n",
       "      <td>2</td>\n",
       "      <td>1</td>\n",
       "      <td>0</td>\n",
       "    </tr>\n",
       "  </tbody>\n",
       "</table>\n",
       "</div>"
      ],
      "text/plain": [
       "    name      loss  iteration sample_index layout model   bias stride  \\\n",
       "0  train  2.408963          0    234816273    can  VGG7  False      2   \n",
       "1  train  2.397755          1    234816273    can  VGG7  False      2   \n",
       "2  train  2.080967          2    234816273    can  VGG7  False      2   \n",
       "3  train  1.809735          3    234816273    can  VGG7  False      2   \n",
       "4  train  1.692350          4    234816273    can  VGG7  False      2   \n",
       "\n",
       "   repetition  update  \n",
       "0           1       0  \n",
       "1           1       0  \n",
       "2           1       0  \n",
       "3           1       0  \n",
       "4           1       0  "
      ]
     },
     "execution_count": 20,
     "metadata": {},
     "output_type": "execute_result"
    }
   ],
   "source": [
    "research.load_results(aliases={'model': 'VGG7'}).df.head()"
   ]
  },
  {
   "cell_type": "markdown",
   "metadata": {},
   "source": [
    "The code below does effectively the same but when passing `config` we define actual parameter values (like model class), not their string representations."
   ]
  },
  {
   "cell_type": "code",
   "execution_count": 21,
   "metadata": {},
   "outputs": [
    {
     "data": {
      "text/html": [
       "<div>\n",
       "<style scoped>\n",
       "    .dataframe tbody tr th:only-of-type {\n",
       "        vertical-align: middle;\n",
       "    }\n",
       "\n",
       "    .dataframe tbody tr th {\n",
       "        vertical-align: top;\n",
       "    }\n",
       "\n",
       "    .dataframe thead th {\n",
       "        text-align: right;\n",
       "    }\n",
       "</style>\n",
       "<table border=\"1\" class=\"dataframe\">\n",
       "  <thead>\n",
       "    <tr style=\"text-align: right;\">\n",
       "      <th></th>\n",
       "      <th>name</th>\n",
       "      <th>loss</th>\n",
       "      <th>iteration</th>\n",
       "      <th>sample_index</th>\n",
       "      <th>layout</th>\n",
       "      <th>model</th>\n",
       "      <th>bias</th>\n",
       "      <th>stride</th>\n",
       "      <th>repetition</th>\n",
       "      <th>update</th>\n",
       "    </tr>\n",
       "  </thead>\n",
       "  <tbody>\n",
       "    <tr>\n",
       "      <th>0</th>\n",
       "      <td>train</td>\n",
       "      <td>2.408963</td>\n",
       "      <td>0</td>\n",
       "      <td>234816273</td>\n",
       "      <td>can</td>\n",
       "      <td>VGG7</td>\n",
       "      <td>False</td>\n",
       "      <td>2</td>\n",
       "      <td>1</td>\n",
       "      <td>0</td>\n",
       "    </tr>\n",
       "    <tr>\n",
       "      <th>1</th>\n",
       "      <td>train</td>\n",
       "      <td>2.397755</td>\n",
       "      <td>1</td>\n",
       "      <td>234816273</td>\n",
       "      <td>can</td>\n",
       "      <td>VGG7</td>\n",
       "      <td>False</td>\n",
       "      <td>2</td>\n",
       "      <td>1</td>\n",
       "      <td>0</td>\n",
       "    </tr>\n",
       "    <tr>\n",
       "      <th>2</th>\n",
       "      <td>train</td>\n",
       "      <td>2.080967</td>\n",
       "      <td>2</td>\n",
       "      <td>234816273</td>\n",
       "      <td>can</td>\n",
       "      <td>VGG7</td>\n",
       "      <td>False</td>\n",
       "      <td>2</td>\n",
       "      <td>1</td>\n",
       "      <td>0</td>\n",
       "    </tr>\n",
       "    <tr>\n",
       "      <th>3</th>\n",
       "      <td>train</td>\n",
       "      <td>1.809735</td>\n",
       "      <td>3</td>\n",
       "      <td>234816273</td>\n",
       "      <td>can</td>\n",
       "      <td>VGG7</td>\n",
       "      <td>False</td>\n",
       "      <td>2</td>\n",
       "      <td>1</td>\n",
       "      <td>0</td>\n",
       "    </tr>\n",
       "    <tr>\n",
       "      <th>4</th>\n",
       "      <td>train</td>\n",
       "      <td>1.692350</td>\n",
       "      <td>4</td>\n",
       "      <td>234816273</td>\n",
       "      <td>can</td>\n",
       "      <td>VGG7</td>\n",
       "      <td>False</td>\n",
       "      <td>2</td>\n",
       "      <td>1</td>\n",
       "      <td>0</td>\n",
       "    </tr>\n",
       "  </tbody>\n",
       "</table>\n",
       "</div>"
      ],
      "text/plain": [
       "    name      loss  iteration sample_index layout model   bias stride  \\\n",
       "0  train  2.408963          0    234816273    can  VGG7  False      2   \n",
       "1  train  2.397755          1    234816273    can  VGG7  False      2   \n",
       "2  train  2.080967          2    234816273    can  VGG7  False      2   \n",
       "3  train  1.809735          3    234816273    can  VGG7  False      2   \n",
       "4  train  1.692350          4    234816273    can  VGG7  False      2   \n",
       "\n",
       "   repetition  update  \n",
       "0           1       0  \n",
       "1           1       0  \n",
       "2           1       0  \n",
       "3           1       0  \n",
       "4           1       0  "
      ]
     },
     "execution_count": 21,
     "metadata": {},
     "output_type": "execute_result"
    }
   ],
   "source": [
    "research.load_results(configs={'model': VGG7}).df.head()"
   ]
  },
  {
   "cell_type": "markdown",
   "metadata": {},
   "source": [
    "We can also get results corresponding to certain repetitions of experiments or certain iterations.\n",
    "\n",
    "Here we have only one output variable - *loss* - but if we had many we could also load only some of them using `variables` parameter."
   ]
  },
  {
   "cell_type": "code",
   "execution_count": 22,
   "metadata": {},
   "outputs": [
    {
     "data": {
      "text/html": [
       "<div>\n",
       "<style scoped>\n",
       "    .dataframe tbody tr th:only-of-type {\n",
       "        vertical-align: middle;\n",
       "    }\n",
       "\n",
       "    .dataframe tbody tr th {\n",
       "        vertical-align: top;\n",
       "    }\n",
       "\n",
       "    .dataframe thead th {\n",
       "        text-align: right;\n",
       "    }\n",
       "</style>\n",
       "<table border=\"1\" class=\"dataframe\">\n",
       "  <thead>\n",
       "    <tr style=\"text-align: right;\">\n",
       "      <th></th>\n",
       "      <th>name</th>\n",
       "      <th>loss</th>\n",
       "      <th>iteration</th>\n",
       "      <th>sample_index</th>\n",
       "      <th>layout</th>\n",
       "      <th>model</th>\n",
       "      <th>bias</th>\n",
       "      <th>stride</th>\n",
       "      <th>repetition</th>\n",
       "      <th>update</th>\n",
       "    </tr>\n",
       "  </thead>\n",
       "  <tbody>\n",
       "    <tr>\n",
       "      <th>0</th>\n",
       "      <td>train</td>\n",
       "      <td>2.408963</td>\n",
       "      <td>0</td>\n",
       "      <td>234816273</td>\n",
       "      <td>can</td>\n",
       "      <td>VGG7</td>\n",
       "      <td>False</td>\n",
       "      <td>2</td>\n",
       "      <td>1</td>\n",
       "      <td>0</td>\n",
       "    </tr>\n",
       "    <tr>\n",
       "      <th>1</th>\n",
       "      <td>train</td>\n",
       "      <td>1.159854</td>\n",
       "      <td>9</td>\n",
       "      <td>234816273</td>\n",
       "      <td>can</td>\n",
       "      <td>VGG7</td>\n",
       "      <td>False</td>\n",
       "      <td>2</td>\n",
       "      <td>1</td>\n",
       "      <td>0</td>\n",
       "    </tr>\n",
       "    <tr>\n",
       "      <th>2</th>\n",
       "      <td>train</td>\n",
       "      <td>2.363252</td>\n",
       "      <td>0</td>\n",
       "      <td>3067213326</td>\n",
       "      <td>cna</td>\n",
       "      <td>VGG7</td>\n",
       "      <td>False</td>\n",
       "      <td>2</td>\n",
       "      <td>1</td>\n",
       "      <td>0</td>\n",
       "    </tr>\n",
       "    <tr>\n",
       "      <th>3</th>\n",
       "      <td>train</td>\n",
       "      <td>1.127140</td>\n",
       "      <td>9</td>\n",
       "      <td>3067213326</td>\n",
       "      <td>cna</td>\n",
       "      <td>VGG7</td>\n",
       "      <td>False</td>\n",
       "      <td>2</td>\n",
       "      <td>1</td>\n",
       "      <td>0</td>\n",
       "    </tr>\n",
       "    <tr>\n",
       "      <th>4</th>\n",
       "      <td>train</td>\n",
       "      <td>2.564377</td>\n",
       "      <td>0</td>\n",
       "      <td>1462525281</td>\n",
       "      <td>cna</td>\n",
       "      <td>VGG16</td>\n",
       "      <td>True</td>\n",
       "      <td>2</td>\n",
       "      <td>1</td>\n",
       "      <td>0</td>\n",
       "    </tr>\n",
       "  </tbody>\n",
       "</table>\n",
       "</div>"
      ],
      "text/plain": [
       "    name      loss  iteration sample_index layout  model   bias stride  \\\n",
       "0  train  2.408963          0    234816273    can   VGG7  False      2   \n",
       "1  train  1.159854          9    234816273    can   VGG7  False      2   \n",
       "2  train  2.363252          0   3067213326    cna   VGG7  False      2   \n",
       "3  train  1.127140          9   3067213326    cna   VGG7  False      2   \n",
       "4  train  2.564377          0   1462525281    cna  VGG16   True      2   \n",
       "\n",
       "   repetition  update  \n",
       "0           1       0  \n",
       "1           1       0  \n",
       "2           1       0  \n",
       "3           1       0  \n",
       "4           1       0  "
      ]
     },
     "execution_count": 22,
     "metadata": {},
     "output_type": "execute_result"
    }
   ],
   "source": [
    "research.load_results(repetition=1, iterations=[0,9], variables=['loss']).df.head()"
   ]
  },
  {
   "cell_type": "markdown",
   "metadata": {},
   "source": [
    "## Loading Saved Research"
   ]
  },
  {
   "cell_type": "markdown",
   "metadata": {},
   "source": [
    "As mentioned above, after each run of a research a folder with log information and results is created.\n",
    "Now that 2 researches have run, we can see their resulting folders *vgg7_research* and *vgg_layout_bias_poolstrides_research*."
   ]
  },
  {
   "cell_type": "code",
   "execution_count": 23,
   "metadata": {},
   "outputs": [
    {
     "name": "stdout",
     "output_type": "stream",
     "text": [
      "total 2128\n",
      "drwxr-xr-x 17 root root    4096 Apr  1 21:00 .\n",
      "drwxr-xr-x  3 root root    4096 Mar 26 09:41 ..\n",
      "drwxr-xr-x  2 root root    4096 Mar 27 15:48 .ipynb_checkpoints\n",
      "-rw-r--r--  1 root root   69930 Apr  1 21:00 01_introduction_to_research.ipynb\n",
      "-rw-r--r--  1 root root   92727 Apr  1 20:11 02_advanced_usage_of_research.ipynb\n",
      "-rw-r--r--  1 root root 1870289 Mar 27 15:48 03_plotting_research_results.ipynb\n",
      "-rw-r--r--  1 root root   21561 Mar 26 09:41 04_advance_usage_of_domain.ipynb\n",
      "-rw-r--r--  1 root root    8540 Mar 31 12:29 05_update_domain_in_research.ipynb\n",
      "-rw-r--r--  1 root root   25977 Mar 26 09:41 06_callables.ipynb\n",
      "-rw-r--r--  1 root root    1387 Mar 26 09:41 README.md\n",
      "drwxr-xr-x  5 root root    4096 Apr  1 19:34 cv_research\n",
      "drwxr-xr-x  5 root root    4096 Mar 30 12:33 dynamic_domain_research\n",
      "drwxr-xr-x  5 root root    4096 Apr  1 19:19 faster_research\n",
      "drwxr-xr-x  5 root root    4096 Mar 30 09:21 fn_research\n",
      "drwxr-xr-x  5 root root    4096 Mar 30 09:30 get_metrics_research\n",
      "drwxr-xr-x  5 root root    4096 Mar 30 09:34 get_test_loss_research\n",
      "drwxr-xr-x  2 root root    4096 Mar 26 09:41 img\n",
      "drwxr-xr-x  5 root root    4096 Apr  1 19:15 no_extra_dataload_research\n",
      "drwxr-xr-x  5 root root    4096 Apr  1 19:17 on_root_research\n",
      "drwxr-xr-x  5 root root    4096 Apr  1 19:11 simple_research\n",
      "drwxr-xr-x  5 root root    4096 Mar 30 08:51 train_test_research\n",
      "drwxr-xr-x  5 root root    4096 Apr  1 20:44 \u001b[01;31m\u001b[Kvgg\u001b[m\u001b[K7_research\n",
      "drwxr-xr-x  5 root root    4096 Apr  1 20:48 \u001b[01;31m\u001b[Kvgg\u001b[m\u001b[K_layout_bias_poolstrides_research\n",
      "drwxr-xr-x  5 root root    4096 Mar 30 08:37 \u001b[01;31m\u001b[Kvgg\u001b[m\u001b[K_layout_bias_poolstrides_research_loaded\n"
     ]
    }
   ],
   "source": [
    "!ls -la | grep --color -E 'vgg|$'"
   ]
  },
  {
   "cell_type": "markdown",
   "metadata": {},
   "source": [
    "`Research.load` class method is used to load a previousely saved research by its name."
   ]
  },
  {
   "cell_type": "code",
   "execution_count": 24,
   "metadata": {},
   "outputs": [],
   "source": [
    "loaded_research = Research.load('vgg_layout_bias_poolstrides_research')"
   ]
  },
  {
   "cell_type": "markdown",
   "metadata": {},
   "source": [
    "We can check its parameters..."
   ]
  },
  {
   "cell_type": "code",
   "execution_count": 25,
   "metadata": {},
   "outputs": [
    {
     "name": "stdout",
     "output_type": "stream",
     "text": [
      "{'_update_config': None,\n",
      " '_update_domain': None,\n",
      " 'bar': True,\n",
      " 'branches': 1,\n",
      " 'devices': [[{'device': [None]}]],\n",
      " 'domain': Domain([[Option(layout, ['cna', 'can']), Option(model, ['VGG7', 'VGG16']), Option(bias, ['False']), Option(stride, ['2'])], [Option(layout, ['cna']), Option(bias, ['True']), Option(model, ['VGG7']), Option(stride, ['1'])], [Option(layout, ['cna']), Option(bias, ['True']), Option(model, ['VGG16']), Option(stride, ['2'])]]),\n",
      " 'executables': OrderedDict([('train',\n",
      "                              <batchflow.research.executable.Executable object at 0x7f878a943828>)]),\n",
      " 'loaded': True,\n",
      " 'logger': <batchflow.research.logger.FileLogger object at 0x7f88f8879048>,\n",
      " 'n_configs': None,\n",
      " 'n_iters': 1000,\n",
      " 'n_reps': 2,\n",
      " 'n_updates': 0,\n",
      " 'name': 'vgg_layout_bias_poolstrides_research',\n",
      " 'repeat_each': 100,\n",
      " 'timeout': 5,\n",
      " 'trials': 2,\n",
      " 'worker_class': <class 'batchflow.research.workers.PipelineWorker'>,\n",
      " 'workers': 1}\n"
     ]
    }
   ],
   "source": [
    "loaded_research.describe()"
   ]
  },
  {
   "cell_type": "markdown",
   "metadata": {},
   "source": [
    "... and run it one more time"
   ]
  },
  {
   "cell_type": "code",
   "execution_count": 26,
   "metadata": {},
   "outputs": [
    {
     "name": "stdout",
     "output_type": "stream",
     "text": [
      "Starting loaded research. All parameters passed to run except name, bar and devices are ignored.\n",
      " If `devices` is not provided it will be inherited\n",
      "Research vgg_layout_bias_poolstrides_research_loaded is starting...\n"
     ]
    },
    {
     "name": "stderr",
     "output_type": "stream",
     "text": [
      "Domain updated: 0: 100%|██████████| 12000/12000.0 [13:33<00:00, 14.75it/s]\n"
     ]
    },
    {
     "data": {
      "text/plain": [
       "<batchflow.research.research.Research at 0x7f88faebe780>"
      ]
     },
     "execution_count": 26,
     "metadata": {},
     "output_type": "execute_result"
    }
   ],
   "source": [
    "res_name = 'vgg_layout_bias_poolstrides_research_loaded'\n",
    "clear_previous_results(res_name)\n",
    "\n",
    "loaded_research.run(n_iters=ITERATIONS, name=res_name, bar=True)"
   ]
  },
  {
   "cell_type": "code",
   "execution_count": 27,
   "metadata": {},
   "outputs": [
    {
     "data": {
      "text/html": [
       "<div>\n",
       "<style scoped>\n",
       "    .dataframe tbody tr th:only-of-type {\n",
       "        vertical-align: middle;\n",
       "    }\n",
       "\n",
       "    .dataframe tbody tr th {\n",
       "        vertical-align: top;\n",
       "    }\n",
       "\n",
       "    .dataframe thead th {\n",
       "        text-align: right;\n",
       "    }\n",
       "</style>\n",
       "<table border=\"1\" class=\"dataframe\">\n",
       "  <thead>\n",
       "    <tr style=\"text-align: right;\">\n",
       "      <th></th>\n",
       "      <th>name</th>\n",
       "      <th>loss</th>\n",
       "      <th>iteration</th>\n",
       "      <th>sample_index</th>\n",
       "      <th>layout</th>\n",
       "      <th>model</th>\n",
       "      <th>bias</th>\n",
       "      <th>stride</th>\n",
       "      <th>repetition</th>\n",
       "      <th>update</th>\n",
       "    </tr>\n",
       "  </thead>\n",
       "  <tbody>\n",
       "    <tr>\n",
       "      <th>3891</th>\n",
       "      <td>train</td>\n",
       "      <td>0.112891</td>\n",
       "      <td>891</td>\n",
       "      <td>1078814229</td>\n",
       "      <td>cna</td>\n",
       "      <td>VGG16</td>\n",
       "      <td>True</td>\n",
       "      <td>2</td>\n",
       "      <td>0</td>\n",
       "      <td>0</td>\n",
       "    </tr>\n",
       "    <tr>\n",
       "      <th>2105</th>\n",
       "      <td>train</td>\n",
       "      <td>0.114824</td>\n",
       "      <td>105</td>\n",
       "      <td>2339877347</td>\n",
       "      <td>cna</td>\n",
       "      <td>VGG7</td>\n",
       "      <td>False</td>\n",
       "      <td>2</td>\n",
       "      <td>1</td>\n",
       "      <td>0</td>\n",
       "    </tr>\n",
       "    <tr>\n",
       "      <th>10114</th>\n",
       "      <td>train</td>\n",
       "      <td>0.544252</td>\n",
       "      <td>114</td>\n",
       "      <td>87093936</td>\n",
       "      <td>cna</td>\n",
       "      <td>VGG16</td>\n",
       "      <td>False</td>\n",
       "      <td>2</td>\n",
       "      <td>0</td>\n",
       "      <td>0</td>\n",
       "    </tr>\n",
       "    <tr>\n",
       "      <th>1713</th>\n",
       "      <td>train</td>\n",
       "      <td>0.041713</td>\n",
       "      <td>713</td>\n",
       "      <td>2401641326</td>\n",
       "      <td>cna</td>\n",
       "      <td>VGG7</td>\n",
       "      <td>True</td>\n",
       "      <td>1</td>\n",
       "      <td>0</td>\n",
       "      <td>0</td>\n",
       "    </tr>\n",
       "    <tr>\n",
       "      <th>2219</th>\n",
       "      <td>train</td>\n",
       "      <td>0.075560</td>\n",
       "      <td>219</td>\n",
       "      <td>2339877347</td>\n",
       "      <td>cna</td>\n",
       "      <td>VGG7</td>\n",
       "      <td>False</td>\n",
       "      <td>2</td>\n",
       "      <td>1</td>\n",
       "      <td>0</td>\n",
       "    </tr>\n",
       "    <tr>\n",
       "      <th>953</th>\n",
       "      <td>train</td>\n",
       "      <td>0.034036</td>\n",
       "      <td>953</td>\n",
       "      <td>3512828548</td>\n",
       "      <td>can</td>\n",
       "      <td>VGG7</td>\n",
       "      <td>False</td>\n",
       "      <td>2</td>\n",
       "      <td>1</td>\n",
       "      <td>0</td>\n",
       "    </tr>\n",
       "    <tr>\n",
       "      <th>11635</th>\n",
       "      <td>train</td>\n",
       "      <td>0.031439</td>\n",
       "      <td>635</td>\n",
       "      <td>3138591943</td>\n",
       "      <td>cna</td>\n",
       "      <td>VGG7</td>\n",
       "      <td>True</td>\n",
       "      <td>1</td>\n",
       "      <td>1</td>\n",
       "      <td>0</td>\n",
       "    </tr>\n",
       "    <tr>\n",
       "      <th>6710</th>\n",
       "      <td>train</td>\n",
       "      <td>0.055180</td>\n",
       "      <td>710</td>\n",
       "      <td>675969675</td>\n",
       "      <td>can</td>\n",
       "      <td>VGG16</td>\n",
       "      <td>False</td>\n",
       "      <td>2</td>\n",
       "      <td>0</td>\n",
       "      <td>0</td>\n",
       "    </tr>\n",
       "    <tr>\n",
       "      <th>7176</th>\n",
       "      <td>train</td>\n",
       "      <td>0.067646</td>\n",
       "      <td>176</td>\n",
       "      <td>3381182950</td>\n",
       "      <td>cna</td>\n",
       "      <td>VGG16</td>\n",
       "      <td>False</td>\n",
       "      <td>2</td>\n",
       "      <td>1</td>\n",
       "      <td>0</td>\n",
       "    </tr>\n",
       "    <tr>\n",
       "      <th>8358</th>\n",
       "      <td>train</td>\n",
       "      <td>0.045727</td>\n",
       "      <td>358</td>\n",
       "      <td>3824811265</td>\n",
       "      <td>can</td>\n",
       "      <td>VGG7</td>\n",
       "      <td>False</td>\n",
       "      <td>2</td>\n",
       "      <td>0</td>\n",
       "      <td>0</td>\n",
       "    </tr>\n",
       "  </tbody>\n",
       "</table>\n",
       "</div>"
      ],
      "text/plain": [
       "        name      loss  iteration sample_index layout  model   bias stride  \\\n",
       "3891   train  0.112891        891   1078814229    cna  VGG16   True      2   \n",
       "2105   train  0.114824        105   2339877347    cna   VGG7  False      2   \n",
       "10114  train  0.544252        114     87093936    cna  VGG16  False      2   \n",
       "1713   train  0.041713        713   2401641326    cna   VGG7   True      1   \n",
       "2219   train  0.075560        219   2339877347    cna   VGG7  False      2   \n",
       "953    train  0.034036        953   3512828548    can   VGG7  False      2   \n",
       "11635  train  0.031439        635   3138591943    cna   VGG7   True      1   \n",
       "6710   train  0.055180        710    675969675    can  VGG16  False      2   \n",
       "7176   train  0.067646        176   3381182950    cna  VGG16  False      2   \n",
       "8358   train  0.045727        358   3824811265    can   VGG7  False      2   \n",
       "\n",
       "       repetition  update  \n",
       "3891            0       0  \n",
       "2105            1       0  \n",
       "10114           0       0  \n",
       "1713            0       0  \n",
       "2219            1       0  \n",
       "953             1       0  \n",
       "11635           1       0  \n",
       "6710            0       0  \n",
       "7176            1       0  \n",
       "8358            0       0  "
      ]
     },
     "execution_count": 27,
     "metadata": {},
     "output_type": "execute_result"
    }
   ],
   "source": [
    "loaded_research.load_results().df.sample(10)"
   ]
  },
  {
   "cell_type": "markdown",
   "metadata": {
    "toc-hr-collapsed": false
   },
   "source": [
    "## More Complex Execution Strategies"
   ]
  },
  {
   "cell_type": "markdown",
   "metadata": {},
   "source": [
    "Usually we would like to run more than a single train pipeline.\n",
    "\n",
    "Let's define a test pipeline to that predicts labels for the test set with the model from the train pipeline on the last iteration of the research. "
   ]
  },
  {
   "cell_type": "markdown",
   "metadata": {
    "toc-hr-collapsed": false
   },
   "source": [
    "### Creating Research with Multiple Pipelines"
   ]
  },
  {
   "cell_type": "markdown",
   "metadata": {},
   "source": [
    "#### Creating Train Pipeline"
   ]
  },
  {
   "cell_type": "markdown",
   "metadata": {},
   "source": [
    "We start with defining a train pipeline as before."
   ]
  },
  {
   "cell_type": "code",
   "execution_count": 28,
   "metadata": {},
   "outputs": [],
   "source": [
    "domain = Option('layout', ['cna', 'can'])\n",
    "\n",
    "model_config={\n",
    "    'inputs/images/shape': B('image_shape'),\n",
    "    'inputs/labels/classes': D('num_classes'),\n",
    "    'inputs/labels/name': 'targets',\n",
    "    'initial_block/inputs': 'images',\n",
    "    'body/block/layout': C('layout'),\n",
    "}\n",
    "\n",
    "train_template = (Pipeline()\n",
    "            .init_variable('train_loss')\n",
    "            .init_model('dynamic', VGG7, 'conv', config=model_config)\n",
    "            .to_array(channels=CHANNELS)\n",
    "            .train_model('conv', \n",
    "                         images=B('images'), targets=B('labels'),\n",
    "                         fetches='loss', save_to=V('train_loss', mode='w'))\n",
    "            .run_later(BATCH_SIZE, shuffle=True, n_epochs=None))\n",
    "\n",
    "train_ppl = train_template << mnist.train"
   ]
  },
  {
   "cell_type": "markdown",
   "metadata": {},
   "source": [
    "#### Creating Test Pipeline"
   ]
  },
  {
   "cell_type": "markdown",
   "metadata": {},
   "source": [
    "We want to run the test pipeline on the whole test set from time to time during training. \n",
    "\n",
    "In order to get this, we specify lazy-run in test pipeline with `n_epochs=1` and then pass `run=True` to research's `add_pipeline`. These 2 parameter values tell Research to run the pipeline on the whole test set for 1 epoch, instead of running it batch-wise (which is how the test pipeline is run). We will also pass `execute='last` parameter to `add_pipeline` to tell Research that this pipeline should be executed only on the last iteration.\n",
    "\n",
    "To let the test pipeline using the model from train pipeline we'll pass it via `C('import_from')`, setting it's value when creating `Research`.\n",
    "\n",
    "We update the pipeline variable `V('predictions')` with `mode='a'` so that it collects infomation from all batches in `test_ppl`"
   ]
  },
  {
   "cell_type": "code",
   "execution_count": 29,
   "metadata": {},
   "outputs": [],
   "source": [
    "test_template = (Pipeline()\n",
    "                 .init_variable('predictions', default=list())\n",
    "                 .import_model('conv', C('import_from'))\n",
    "                 .to_array(channels=CHANNELS)\n",
    "                 .predict_model('conv', \n",
    "                                images=B('images'),\n",
    "                                fetches='predictions', save_to=V('predictions', mode='a'))\n",
    "                 .run_later(BATCH_SIZE, shuffle=False, n_epochs=1) #Note  n_epochs=1\n",
    "                )\n",
    "\n",
    "test_ppl = test_template << mnist.test"
   ]
  },
  {
   "cell_type": "markdown",
   "metadata": {},
   "source": [
    "#### Creating Research with 2 Pipelines"
   ]
  },
  {
   "cell_type": "markdown",
   "metadata": {},
   "source": [
    "As mentioned before, we pass `execute='last'` parameter to `add_pipeline` to tell Research that this pipeline should be executed only on the last iteration.\n",
    "\n",
    "`execute` parameter defines frequency of pipeline execution. One can tell research to execute a pipeline periodically and pass an `int`, or to execute it on specific iteration by passing zero-based iteration number in following format: `'#{it_no}'` or by simply passing `'last'`. `execute` can also be a list, for example, `execute=[\"#0', '#123', 100, 'last']` means that a pipeline will be executed on first iteration, 124-th iteration, every 100-th iteration and on the last one.\n",
    "\n",
    "In order to import model from train to test pipeline, we pass `import_from='train_ppl'` parameter to `add_pipeline`, where `'train_ppl'` is the name of our train pipeline."
   ]
  },
  {
   "cell_type": "code",
   "execution_count": 30,
   "metadata": {},
   "outputs": [
    {
     "name": "stdout",
     "output_type": "stream",
     "text": [
      "Research train_test_research is starting...\n"
     ]
    },
    {
     "name": "stderr",
     "output_type": "stream",
     "text": [
      "Domain updated: 0: 100%|██████████| 2000/2000.0 [02:21<00:00, 14.13it/s]\n"
     ]
    },
    {
     "data": {
      "text/plain": [
       "<batchflow.research.research.Research at 0x7f8786cabd30>"
      ]
     },
     "execution_count": 30,
     "metadata": {},
     "output_type": "execute_result"
    }
   ],
   "source": [
    "TEST_EXECUTE_FREQ = 'last'\n",
    "\n",
    "res_name = 'train_test_research'\n",
    "clear_previous_results(res_name)\n",
    "\n",
    "research = (Research()\n",
    "            .init_domain(domain)\n",
    "            .add_pipeline(train_ppl, variables='train_loss', name='train_ppl')\n",
    "            .add_pipeline(test_ppl, variables='predictions', name='test_ppl',\n",
    "                        execute=TEST_EXECUTE_FREQ, run=True, import_from=RP('train_ppl'))) # Note run=True\n",
    "\n",
    "research.run(n_iters=ITERATIONS, name=res_name, bar=True)"
   ]
  },
  {
   "cell_type": "markdown",
   "metadata": {},
   "source": [
    "Now our research results contain entries for `test_ppl`."
   ]
  },
  {
   "cell_type": "code",
   "execution_count": 31,
   "metadata": {},
   "outputs": [
    {
     "data": {
      "text/html": [
       "<div>\n",
       "<style scoped>\n",
       "    .dataframe tbody tr th:only-of-type {\n",
       "        vertical-align: middle;\n",
       "    }\n",
       "\n",
       "    .dataframe tbody tr th {\n",
       "        vertical-align: top;\n",
       "    }\n",
       "\n",
       "    .dataframe thead th {\n",
       "        text-align: right;\n",
       "    }\n",
       "</style>\n",
       "<table border=\"1\" class=\"dataframe\">\n",
       "  <thead>\n",
       "    <tr style=\"text-align: right;\">\n",
       "      <th></th>\n",
       "      <th>name</th>\n",
       "      <th>train_loss</th>\n",
       "      <th>predictions</th>\n",
       "      <th>iteration</th>\n",
       "      <th>sample_index</th>\n",
       "      <th>layout</th>\n",
       "      <th>repetition</th>\n",
       "      <th>update</th>\n",
       "    </tr>\n",
       "  </thead>\n",
       "  <tbody>\n",
       "    <tr>\n",
       "      <th>0</th>\n",
       "      <td>test_ppl</td>\n",
       "      <td>NaN</td>\n",
       "      <td>[[[-2.8348763, -1.7782962, 0.97550595, -0.6503...</td>\n",
       "      <td>999</td>\n",
       "      <td>3856030047</td>\n",
       "      <td>can</td>\n",
       "      <td>0</td>\n",
       "      <td>0</td>\n",
       "    </tr>\n",
       "    <tr>\n",
       "      <th>1</th>\n",
       "      <td>test_ppl</td>\n",
       "      <td>NaN</td>\n",
       "      <td>[[[-2.7078369, -2.7728837, 0.43785742, -0.1622...</td>\n",
       "      <td>999</td>\n",
       "      <td>3731026089</td>\n",
       "      <td>cna</td>\n",
       "      <td>0</td>\n",
       "      <td>0</td>\n",
       "    </tr>\n",
       "  </tbody>\n",
       "</table>\n",
       "</div>"
      ],
      "text/plain": [
       "       name  train_loss                                        predictions  \\\n",
       "0  test_ppl         NaN  [[[-2.8348763, -1.7782962, 0.97550595, -0.6503...   \n",
       "1  test_ppl         NaN  [[[-2.7078369, -2.7728837, 0.43785742, -0.1622...   \n",
       "\n",
       "   iteration sample_index layout  repetition  update  \n",
       "0        999   3856030047    can           0       0  \n",
       "1        999   3731026089    cna           0       0  "
      ]
     },
     "execution_count": 31,
     "metadata": {},
     "output_type": "execute_result"
    }
   ],
   "source": [
    "research.load_results(names='test_ppl').df.head()"
   ]
  },
  {
   "cell_type": "markdown",
   "metadata": {},
   "source": [
    "### Functions"
   ]
  },
  {
   "cell_type": "markdown",
   "metadata": {},
   "source": [
    "In order to perform some computations while running pipelines or to acquire values that are not produced by the model explicitely, one can use functions.\n",
    "\n",
    "We will now add a function that saves model's snapshots on different stages of learning and reports the path of saved snapshot."
   ]
  },
  {
   "cell_type": "markdown",
   "metadata": {},
   "source": [
    "#### Defining Functions To Be Executed By Reasearch"
   ]
  },
  {
   "cell_type": "markdown",
   "metadata": {},
   "source": [
    "We define a function to be executed during experiment's iterations. Such functions take 2 required parameters: `iteration` and `experiment` which are fed to it by Research and optional keyword parameters which should be provided externally.\n",
    "\n",
    "Here we declare additional parameters `pipeline` and `model_name` with the names of the model to save and the pipeline is it defined in. We also provide opional path parameter. Firstly, we construct target path using experiment descripton and iteration number. After that we get the pipeline needed by its name. Finally, we save the model with the name from parameters in this pipeline. Our function will return target path, so that one could easyly find the saved model."
   ]
  },
  {
   "cell_type": "code",
   "execution_count": 32,
   "metadata": {},
   "outputs": [],
   "source": [
    "def save_model(pipeline, model_name, path):\n",
    "    \"\"\" Save model to a path.\"\"\"\n",
    "    pipeline.save_model_now(model_name, path)\n",
    "    return path"
   ]
  },
  {
   "cell_type": "markdown",
   "metadata": {},
   "source": [
    "#### Adding Functions To Research"
   ]
  },
  {
   "cell_type": "markdown",
   "metadata": {},
   "source": [
    "We define a new reseach. \n",
    "\n",
    "To add a function we call `add_callable` method, providing it with a function object and `returns` parameters that specifies what should be written to research results.  We also pass keyword parameters `pipeline='train_ppl'`, `model_name='conv'`, `path='my_mdl'` that will be substituted to `save_model` function."
   ]
  },
  {
   "cell_type": "code",
   "execution_count": 33,
   "metadata": {},
   "outputs": [
    {
     "name": "stdout",
     "output_type": "stream",
     "text": [
      "Research fn_research is starting...\n"
     ]
    },
    {
     "name": "stderr",
     "output_type": "stream",
     "text": [
      "Domain updated: 0: 100%|██████████| 2000/2000.0 [02:09<00:00, 15.42it/s]\n"
     ]
    },
    {
     "data": {
      "text/plain": [
       "<batchflow.research.research.Research at 0x7f88f5eb0748>"
      ]
     },
     "execution_count": 33,
     "metadata": {},
     "output_type": "execute_result"
    }
   ],
   "source": [
    "res_name = 'fn_research'\n",
    "clear_previous_results(res_name)\n",
    "\n",
    "research = (Research()\n",
    "            .add_pipeline(train_ppl, variables='train_loss', name='train_ppl')\n",
    "            .add_callable(save_model, returns='snapshot_path', name='save_model_fn',\n",
    "                          execute=TEST_EXECUTE_FREQ, pipeline=RP('train_ppl'), model_name='conv', path=L(lambda p: os.path.join(p, 'saved_model'))(REP()))\n",
    "            .init_domain(domain, n_reps=1))\n",
    "\n",
    "research.run(n_iters=ITERATIONS, name=res_name, bar=True)"
   ]
  },
  {
   "cell_type": "markdown",
   "metadata": {},
   "source": [
    "Research results now contain paths to models snapshots from `'save_model_fn'`\n",
    "\n",
    "We can load results that come from a certain source by passing `names` parameter to `load_results`"
   ]
  },
  {
   "cell_type": "code",
   "execution_count": 34,
   "metadata": {},
   "outputs": [
    {
     "data": {
      "text/html": [
       "<div>\n",
       "<style scoped>\n",
       "    .dataframe tbody tr th:only-of-type {\n",
       "        vertical-align: middle;\n",
       "    }\n",
       "\n",
       "    .dataframe tbody tr th {\n",
       "        vertical-align: top;\n",
       "    }\n",
       "\n",
       "    .dataframe thead th {\n",
       "        text-align: right;\n",
       "    }\n",
       "</style>\n",
       "<table border=\"1\" class=\"dataframe\">\n",
       "  <thead>\n",
       "    <tr style=\"text-align: right;\">\n",
       "      <th></th>\n",
       "      <th>name</th>\n",
       "      <th>train_loss</th>\n",
       "      <th>snapshot_path</th>\n",
       "      <th>iteration</th>\n",
       "      <th>sample_index</th>\n",
       "      <th>layout</th>\n",
       "      <th>repetition</th>\n",
       "      <th>update</th>\n",
       "    </tr>\n",
       "  </thead>\n",
       "  <tbody>\n",
       "    <tr>\n",
       "      <th>0</th>\n",
       "      <td>save_model_fn</td>\n",
       "      <td>NaN</td>\n",
       "      <td>fn_research/results/layout_can-repetition_0-up...</td>\n",
       "      <td>999</td>\n",
       "      <td>1302694311</td>\n",
       "      <td>can</td>\n",
       "      <td>0</td>\n",
       "      <td>0</td>\n",
       "    </tr>\n",
       "    <tr>\n",
       "      <th>1</th>\n",
       "      <td>save_model_fn</td>\n",
       "      <td>NaN</td>\n",
       "      <td>fn_research/results/layout_cna-repetition_0-up...</td>\n",
       "      <td>999</td>\n",
       "      <td>838112456</td>\n",
       "      <td>cna</td>\n",
       "      <td>0</td>\n",
       "      <td>0</td>\n",
       "    </tr>\n",
       "  </tbody>\n",
       "</table>\n",
       "</div>"
      ],
      "text/plain": [
       "            name  train_loss  \\\n",
       "0  save_model_fn         NaN   \n",
       "1  save_model_fn         NaN   \n",
       "\n",
       "                                       snapshot_path  iteration sample_index  \\\n",
       "0  fn_research/results/layout_can-repetition_0-up...        999   1302694311   \n",
       "1  fn_research/results/layout_cna-repetition_0-up...        999    838112456   \n",
       "\n",
       "  layout  repetition  update  \n",
       "0    can           0       0  \n",
       "1    cna           0       0  "
      ]
     },
     "execution_count": 34,
     "metadata": {},
     "output_type": "execute_result"
    }
   ],
   "source": [
    "research.load_results(names='save_model_fn').df.head()"
   ]
  },
  {
   "cell_type": "markdown",
   "metadata": {},
   "source": [
    "We can inspect current folder contents and see, that `fn_research` directory was created."
   ]
  },
  {
   "cell_type": "code",
   "execution_count": 35,
   "metadata": {},
   "outputs": [
    {
     "name": "stdout",
     "output_type": "stream",
     "text": [
      "total 2304\n",
      "drwxr-xr-x 17 root root    4096 Apr  1 21:18 .\n",
      "drwxr-xr-x  3 root root    4096 Mar 26 09:41 ..\n",
      "drwxr-xr-x  2 root root    4096 Mar 27 15:48 .ipynb_checkpoints\n",
      "-rw-r--r--  1 root root  252899 Apr  1 21:18 01_introduction_to_research.ipynb\n",
      "-rw-r--r--  1 root root   92727 Apr  1 20:11 02_advanced_usage_of_research.ipynb\n",
      "-rw-r--r--  1 root root 1870289 Mar 27 15:48 03_plotting_research_results.ipynb\n",
      "-rw-r--r--  1 root root   21561 Mar 26 09:41 04_advance_usage_of_domain.ipynb\n",
      "-rw-r--r--  1 root root    8540 Mar 31 12:29 05_update_domain_in_research.ipynb\n",
      "-rw-r--r--  1 root root   25977 Mar 26 09:41 06_callables.ipynb\n",
      "-rw-r--r--  1 root root    1387 Mar 26 09:41 README.md\n",
      "drwxr-xr-x  5 root root    4096 Apr  1 19:34 cv_research\n",
      "drwxr-xr-x  5 root root    4096 Mar 30 12:33 dynamic_domain_research\n",
      "drwxr-xr-x  5 root root    4096 Apr  1 19:19 faster_research\n",
      "drwxr-xr-x  5 root root    4096 Apr  1 21:18 \u001b[01;31m\u001b[Kfn_research\u001b[m\u001b[K\n",
      "drwxr-xr-x  5 root root    4096 Mar 30 09:30 get_metrics_research\n",
      "drwxr-xr-x  5 root root    4096 Mar 30 09:34 get_test_loss_research\n",
      "drwxr-xr-x  2 root root    4096 Mar 26 09:41 img\n",
      "drwxr-xr-x  5 root root    4096 Apr  1 19:15 no_extra_dataload_research\n",
      "drwxr-xr-x  5 root root    4096 Apr  1 19:17 on_root_research\n",
      "drwxr-xr-x  5 root root    4096 Apr  1 19:11 simple_research\n",
      "drwxr-xr-x  5 root root    4096 Apr  1 21:16 train_test_research\n",
      "drwxr-xr-x  5 root root    4096 Apr  1 20:44 vgg7_research\n",
      "drwxr-xr-x  5 root root    4096 Apr  1 20:48 vgg_layout_bias_poolstrides_research\n",
      "drwxr-xr-x  5 root root    4096 Apr  1 21:02 vgg_layout_bias_poolstrides_research_loaded\n"
     ]
    }
   ],
   "source": [
    "!ls -la | grep --color -E 'fn_research|$'"
   ]
  },
  {
   "cell_type": "markdown",
   "metadata": {},
   "source": [
    "It contains subdirectories with models snapshots"
   ]
  },
  {
   "cell_type": "code",
   "execution_count": 36,
   "metadata": {
    "scrolled": true
   },
   "outputs": [
    {
     "name": "stdout",
     "output_type": "stream",
     "text": [
      "fn_research/results\n",
      "├── layout_can-repetition_0-update_0\n",
      "│   └── 1302694311\n",
      "│       ├── save_model_fn_1000\n",
      "│       ├── saved_model\n",
      "│       └── train_ppl_1000\n",
      "└── layout_cna-repetition_0-update_0\n",
      "    └── 838112456\n",
      "        ├── save_model_fn_1000\n",
      "        ├── saved_model\n",
      "        └── train_ppl_1000\n",
      "\n",
      "4 directories, 6 files\n"
     ]
    }
   ],
   "source": [
    "!tree fn_research/results"
   ]
  },
  {
   "cell_type": "markdown",
   "metadata": {},
   "source": [
    "### Getting metrics"
   ]
  },
  {
   "cell_type": "markdown",
   "metadata": {},
   "source": [
    "There is a special research method `get_metrics` for collecting metrics."
   ]
  },
  {
   "cell_type": "markdown",
   "metadata": {},
   "source": [
    "#### Defining Test Pipeline That Gathers Metrics"
   ]
  },
  {
   "cell_type": "markdown",
   "metadata": {},
   "source": [
    "First we redefine the test pipeline and add variables to store predictions and metrics computed for these predictions via `gather_metrics`.\n",
    "\n",
    "We update `V('predictions')` with default mode `mode='w'`, that is overwrite it on each `test_ppl` iteration, because we need it only to compute metrics. We update `V('metrics')` with `mode='a'` because we want it to keep metrics from all batches in `test_ppl`."
   ]
  },
  {
   "cell_type": "code",
   "execution_count": 37,
   "metadata": {},
   "outputs": [],
   "source": [
    "TEST_EXECUTE_FREQ = [100, 'last']\n",
    "\n",
    "test_template = (Pipeline()\n",
    "                 .init_variable('predictions')\n",
    "                 .init_variable('metrics')\n",
    "                 .import_model('conv', C('import_from'))\n",
    "                 .to_array(channels=CHANNELS)\n",
    "                 .predict_model('conv', \n",
    "                                images=B('images'),\n",
    "                                fetches='predictions', save_to=V('predictions'))\n",
    "                 .gather_metrics('class', targets=B('labels'), predictions=V('predictions'), \n",
    "                                fmt='logits', axis=-1, save_to=V('metrics', mode='a'))\n",
    "                 .run_later(BATCH_SIZE, shuffle=True, n_epochs=1))\n",
    "\n",
    "test_ppl = test_template << mnist.test"
   ]
  },
  {
   "cell_type": "markdown",
   "metadata": {},
   "source": [
    "#### Collecting Metrics in Research"
   ]
  },
  {
   "cell_type": "markdown",
   "metadata": {},
   "source": [
    "We pass test pipeline name to collect metrics from it (`pipeline='test_ppl'`), named expression storing collected metrics (`metrics_var='metrics'`) and string indicating which metric to calculate (`metrics_name='accuracy'`). We also can add `PrintLogger` as logger and all messages will be streamed into `stdout`."
   ]
  },
  {
   "cell_type": "code",
   "execution_count": 38,
   "metadata": {},
   "outputs": [
    {
     "name": "stdout",
     "output_type": "stream",
     "text": [
      "Research get_metrics_research is starting...\n",
      "Distributor [id:19938] is preparing workers\n",
      "Create queue of jobs\n",
      "Run 1 worker\n"
     ]
    },
    {
     "name": "stderr",
     "output_type": "stream",
     "text": [
      "0it [00:00, ?it/s]"
     ]
    },
    {
     "name": "stdout",
     "output_type": "stream",
     "text": [
      "Start Worker 0 [id:7738] (devices: [[None]])\n"
     ]
    },
    {
     "name": "stderr",
     "output_type": "stream",
     "text": [
      "Domain updated: 0: : 0it [00:00, ?it/s]"
     ]
    },
    {
     "name": "stdout",
     "output_type": "stream",
     "text": [
      "Worker 0 is creating process for Job 0\n",
      "Job 0 was started in subprocess [id:7746] by Worker 0\n",
      "Job 0 has the following configs:\n",
      "{'layout': 'cna', 'update': '0', 'repetition': '0'}\n"
     ]
    },
    {
     "name": "stderr",
     "output_type": "stream",
     "text": [
      "Domain updated: 0:  50%|████▉     | 999/2000.0 [01:46<01:46,  9.41it/s] "
     ]
    },
    {
     "name": "stdout",
     "output_type": "stream",
     "text": [
      "Job 0 [7746] was finished by Worker 0\n"
     ]
    },
    {
     "name": "stderr",
     "output_type": "stream",
     "text": [
      "Domain updated: 0:  50%|█████     | 1000/2000.0 [01:46<01:46,  9.42it/s]"
     ]
    },
    {
     "name": "stdout",
     "output_type": "stream",
     "text": [
      "Worker 0 is creating process for Job 1\n",
      "Job 1 was started in subprocess [id:10775] by Worker 0\n",
      "Job 1 has the following configs:\n",
      "{'layout': 'can', 'update': '0', 'repetition': '0'}\n"
     ]
    },
    {
     "name": "stderr",
     "output_type": "stream",
     "text": [
      "Domain updated: 0: 100%|█████████▉| 1999/2000.0 [03:23<00:00,  9.81it/s]"
     ]
    },
    {
     "name": "stdout",
     "output_type": "stream",
     "text": [
      "Job 1 [10775] was finished by Worker 0\n"
     ]
    },
    {
     "name": "stderr",
     "output_type": "stream",
     "text": [
      "Domain updated: 0: 100%|██████████| 2000/2000.0 [03:23<00:00,  9.81it/s]\n"
     ]
    },
    {
     "name": "stdout",
     "output_type": "stream",
     "text": [
      "All workers have finished the work\n"
     ]
    },
    {
     "data": {
      "text/plain": [
       "<batchflow.research.research.Research at 0x7f88f5eb0cc0>"
      ]
     },
     "execution_count": 38,
     "metadata": {},
     "output_type": "execute_result"
    }
   ],
   "source": [
    "res_name = 'get_metrics_research'\n",
    "clear_previous_results(res_name)\n",
    "\n",
    "research = (Research()\n",
    "            .add_logger('print')\n",
    "            .add_pipeline(train_ppl, variables='train_loss', name='train_ppl')\n",
    "            .add_pipeline(test_ppl, name='test_ppl',\n",
    "                         execute=TEST_EXECUTE_FREQ, run=True, import_from=RP('train_ppl'))\n",
    "            .get_metrics(pipeline='test_ppl', metrics_var='metrics', metrics_name='accuracy',\n",
    "                         returns='accuracy', execute=TEST_EXECUTE_FREQ)\n",
    "            .init_domain(domain))\n",
    "\n",
    "research.run(n_iters=ITERATIONS, name=res_name, bar=True)"
   ]
  },
  {
   "cell_type": "markdown",
   "metadata": {},
   "source": [
    "`get_metrics` implicitly adds a function with a name *\\[pipeline_name\\]_\\[metrics_var\\]*."
   ]
  },
  {
   "cell_type": "code",
   "execution_count": 39,
   "metadata": {},
   "outputs": [
    {
     "data": {
      "text/html": [
       "<div>\n",
       "<style scoped>\n",
       "    .dataframe tbody tr th:only-of-type {\n",
       "        vertical-align: middle;\n",
       "    }\n",
       "\n",
       "    .dataframe tbody tr th {\n",
       "        vertical-align: top;\n",
       "    }\n",
       "\n",
       "    .dataframe thead th {\n",
       "        text-align: right;\n",
       "    }\n",
       "</style>\n",
       "<table border=\"1\" class=\"dataframe\">\n",
       "  <thead>\n",
       "    <tr style=\"text-align: right;\">\n",
       "      <th></th>\n",
       "      <th>name</th>\n",
       "      <th>train_loss</th>\n",
       "      <th>accuracy</th>\n",
       "      <th>iteration</th>\n",
       "      <th>sample_index</th>\n",
       "      <th>layout</th>\n",
       "      <th>repetition</th>\n",
       "      <th>update</th>\n",
       "    </tr>\n",
       "  </thead>\n",
       "  <tbody>\n",
       "    <tr>\n",
       "      <th>0</th>\n",
       "      <td>test_ppl_metrics</td>\n",
       "      <td>NaN</td>\n",
       "      <td>0.920880</td>\n",
       "      <td>99</td>\n",
       "      <td>1370557405</td>\n",
       "      <td>can</td>\n",
       "      <td>0</td>\n",
       "      <td>0</td>\n",
       "    </tr>\n",
       "    <tr>\n",
       "      <th>10</th>\n",
       "      <td>test_ppl_metrics</td>\n",
       "      <td>NaN</td>\n",
       "      <td>0.935211</td>\n",
       "      <td>99</td>\n",
       "      <td>1696720679</td>\n",
       "      <td>cna</td>\n",
       "      <td>0</td>\n",
       "      <td>0</td>\n",
       "    </tr>\n",
       "    <tr>\n",
       "      <th>13</th>\n",
       "      <td>test_ppl_metrics</td>\n",
       "      <td>NaN</td>\n",
       "      <td>0.982683</td>\n",
       "      <td>399</td>\n",
       "      <td>1696720679</td>\n",
       "      <td>cna</td>\n",
       "      <td>0</td>\n",
       "      <td>0</td>\n",
       "    </tr>\n",
       "    <tr>\n",
       "      <th>19</th>\n",
       "      <td>test_ppl_metrics</td>\n",
       "      <td>NaN</td>\n",
       "      <td>0.980991</td>\n",
       "      <td>999</td>\n",
       "      <td>1696720679</td>\n",
       "      <td>cna</td>\n",
       "      <td>0</td>\n",
       "      <td>0</td>\n",
       "    </tr>\n",
       "    <tr>\n",
       "      <th>17</th>\n",
       "      <td>test_ppl_metrics</td>\n",
       "      <td>NaN</td>\n",
       "      <td>0.976811</td>\n",
       "      <td>799</td>\n",
       "      <td>1696720679</td>\n",
       "      <td>cna</td>\n",
       "      <td>0</td>\n",
       "      <td>0</td>\n",
       "    </tr>\n",
       "  </tbody>\n",
       "</table>\n",
       "</div>"
      ],
      "text/plain": [
       "                name  train_loss  accuracy  iteration sample_index layout  \\\n",
       "0   test_ppl_metrics         NaN  0.920880         99   1370557405    can   \n",
       "10  test_ppl_metrics         NaN  0.935211         99   1696720679    cna   \n",
       "13  test_ppl_metrics         NaN  0.982683        399   1696720679    cna   \n",
       "19  test_ppl_metrics         NaN  0.980991        999   1696720679    cna   \n",
       "17  test_ppl_metrics         NaN  0.976811        799   1696720679    cna   \n",
       "\n",
       "    repetition  update  \n",
       "0            0       0  \n",
       "10           0       0  \n",
       "13           0       0  \n",
       "19           0       0  \n",
       "17           0       0  "
      ]
     },
     "execution_count": 39,
     "metadata": {},
     "output_type": "execute_result"
    }
   ],
   "source": [
    "research.load_results(names='test_ppl_metrics').df.sample(5)"
   ]
  },
  {
   "cell_type": "markdown",
   "metadata": {},
   "source": [
    "### Getting Test Loss"
   ]
  },
  {
   "cell_type": "markdown",
   "metadata": {},
   "source": [
    "#### Defining Test Pipeline That Calculates Tets Loss"
   ]
  },
  {
   "cell_type": "markdown",
   "metadata": {},
   "source": [
    "In order to monitor test loss one can use `Metrics` machinery. \n",
    "We add `gather_metrics` of type `'loss'` and pass current loss and batch size"
   ]
  },
  {
   "cell_type": "code",
   "execution_count": 40,
   "metadata": {},
   "outputs": [],
   "source": [
    "test_template = (Pipeline()\n",
    "                .init_variable('loss')\n",
    "                .init_variable('predictions')\n",
    "                .init_variable('test_loss')\n",
    "                .init_variable('metric_class')\n",
    "                .import_model('conv', C('import_from'))\n",
    "                .to_array(channels=CHANNELS)\n",
    "                .predict_model('conv', \n",
    "                               images=B.images, labels=B.labels,\n",
    "                               fetches=['loss', 'predictions'],\n",
    "                               save_to=[V('loss'), V('predictions')])\n",
    "                .gather_metrics('class', targets=B('labels'), predictions=V('predictions'), \n",
    "                                fmt='logits', axis=-1, save_to=V('metric_class', mode='a'))\n",
    "                .gather_metrics('loss', loss=V('loss'), batch_len=B.images.shape[0], save_to=V('test_loss', mode='a'))\n",
    "                .run_later(BATCH_SIZE, n_epochs=1, shuffle=False)\n",
    ")\n",
    "\n",
    "test_ppl = test_template << mnist.test"
   ]
  },
  {
   "cell_type": "markdown",
   "metadata": {},
   "source": [
    "#### Collecting Test Loss In Research"
   ]
  },
  {
   "cell_type": "markdown",
   "metadata": {},
   "source": [
    "We collect test loss in research as before"
   ]
  },
  {
   "cell_type": "code",
   "execution_count": 41,
   "metadata": {},
   "outputs": [
    {
     "name": "stdout",
     "output_type": "stream",
     "text": [
      "Research get_test_loss_research is starting...\n"
     ]
    },
    {
     "name": "stderr",
     "output_type": "stream",
     "text": [
      "Domain updated: 0: 100%|██████████| 2000/2000.0 [03:24<00:00,  9.76it/s]\n"
     ]
    },
    {
     "data": {
      "text/plain": [
       "<batchflow.research.research.Research at 0x7f88f8895400>"
      ]
     },
     "execution_count": 41,
     "metadata": {},
     "output_type": "execute_result"
    }
   ],
   "source": [
    "res_name='get_test_loss_research'\n",
    "clear_previous_results(res_name)\n",
    "\n",
    "research = (Research()\n",
    "    .init_domain(domain)\n",
    "    .add_pipeline(train_ppl, variables='train_loss', name='train_ppl')\n",
    "    .add_pipeline(test_ppl, name='test_ppl',\n",
    "                  execute=TEST_EXECUTE_FREQ, run=True, import_from=RP('train_ppl'), drop_last=True)\n",
    "    .get_metrics(pipeline='test_ppl', metrics_var='test_loss', metrics_name='loss',\n",
    "                 returns='test_loss', execute=TEST_EXECUTE_FREQ)\n",
    "    .get_metrics(pipeline='test_ppl', metrics_var='metric_class', metrics_name='accuracy',\n",
    "                 returns='accuracy', execute=TEST_EXECUTE_FREQ)\n",
    "    \n",
    ")\n",
    "\n",
    "research.run(n_iters=ITERATIONS, name=res_name, bar=True)\n"
   ]
  },
  {
   "cell_type": "code",
   "execution_count": 42,
   "metadata": {},
   "outputs": [
    {
     "name": "stdout",
     "output_type": "stream",
     "text": [
      "<class 'pandas.core.frame.DataFrame'>\n",
      "RangeIndex: 2040 entries, 0 to 2039\n",
      "Data columns (total 9 columns):\n",
      "name            2040 non-null object\n",
      "train_loss      2000 non-null float64\n",
      "test_loss       20 non-null float64\n",
      "accuracy        20 non-null float64\n",
      "iteration       2040 non-null int64\n",
      "sample_index    2040 non-null object\n",
      "config          2040 non-null object\n",
      "repetition      2040 non-null int64\n",
      "update          2040 non-null int64\n",
      "dtypes: float64(3), int64(3), object(3)\n",
      "memory usage: 143.6+ KB\n"
     ]
    }
   ],
   "source": [
    "df = research.load_results(concat_config=True).df\n",
    "df.info()"
   ]
  },
  {
   "cell_type": "code",
   "execution_count": 43,
   "metadata": {},
   "outputs": [
    {
     "data": {
      "image/png": "[encoded data removed]",
      "text/plain": [
       "<Figure size 1440x1080 with 6 Axes>"
      ]
     },
     "metadata": {
      "needs_background": "light"
     },
     "output_type": "display_data"
    }
   ],
   "source": [
    "from batchflow.utils import plot_results_by_config\n",
    "\n",
    "plot_results_by_config(df, {'train_ppl': 'train_loss', \n",
    "                            'test_ppl_test_loss': 'test_loss', \n",
    "                            'test_ppl_metric_class': 'accuracy'},\n",
    "                       figsize=(20, 15))"
   ]
  },
  {
   "cell_type": "code",
   "execution_count": null,
   "metadata": {},
   "outputs": [],
   "source": []
  }
 ],
 "metadata": {
  "kernelspec": {
   "display_name": "Python 3",
   "language": "python",
   "name": "python3"
  },
  "language_info": {
   "codemirror_mode": {
    "name": "ipython",
    "version": 3
   },
   "file_extension": ".py",
   "mimetype": "text/x-python",
   "name": "python",
   "nbconvert_exporter": "python",
   "pygments_lexer": "ipython3",
   "version": "3.6.9"
  }
 },
 "nbformat": 4,
 "nbformat_minor": 4
}
