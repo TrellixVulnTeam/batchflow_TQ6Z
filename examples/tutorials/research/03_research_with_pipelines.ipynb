{
 "cells": [
  {
   "cell_type": "markdown",
   "metadata": {},
   "source": [
    "# Research with pipelines\n",
    "\n"
   ]
  },
  {
   "cell_type": "markdown",
   "metadata": {},
   "source": [
    "This tutorial demonstrate how to work with pipeline in Research."
   ]
  },
  {
   "cell_type": "markdown",
   "metadata": {},
   "source": [
    "### Imports and Utilities\n",
    "\n",
    "We start with some useful imports and constant definitions"
   ]
  },
  {
   "cell_type": "code",
   "execution_count": 1,
   "metadata": {},
   "outputs": [],
   "source": [
    "import os\n",
    "import shutil\n",
    "\n",
    "import warnings\n",
    "warnings.filterwarnings('ignore')\n",
    "\n",
    "import sys\n",
    "sys.path.append('../../..')\n",
    "\n",
    "import matplotlib.pyplot as plt\n",
    "%matplotlib inline\n",
    "\n",
    "from batchflow import Pipeline, B, C, V, D\n",
    "from batchflow.opensets import MNIST\n",
    "from batchflow.research import Research, Domain, E\n",
    "from batchflow.models.torch import VGG7, VGG16\n",
    "from batchflow.models.metrics import Loss"
   ]
  },
  {
   "cell_type": "code",
   "execution_count": 2,
   "metadata": {},
   "outputs": [],
   "source": [
    "BATCH_SIZE = 64\n",
    "ITERATIONS = 1000"
   ]
  },
  {
   "cell_type": "markdown",
   "metadata": {},
   "source": [
    "## Single-experiment Research\n",
    "\n",
    "First we define a simple pipeline that loads some MNIST data and trains VGG7 model on it. It also saves the loss on each iteration in a pipeline variable. Let's call it an experiment.\n",
    "\n",
    "### Loading Data and Creating Pipeline\n",
    "\n",
    "We call a lazy version of pipeline's run method to define batch size to use. We pass `n_epochs=None`, because the duration of our experiment will be controlled by Research."
   ]
  },
  {
   "cell_type": "code",
   "execution_count": 3,
   "metadata": {},
   "outputs": [],
   "source": [
    "mnist = MNIST()\n",
    "\n",
    "model_config={\n",
    "    'inputs/images/shape': B('image_shape'),\n",
    "    'inputs/labels/classes': D('num_classes'),\n",
    "    'inputs/labels/name': 'targets',\n",
    "    'initial_block/inputs': 'images',\n",
    "}\n",
    "\n",
    "train_template = (Pipeline()\n",
    "            .init_variable('loss')\n",
    "            .init_model('conv', VGG7, 'dynamic', config=model_config)\n",
    "            .to_array(channels='last')\n",
    "            .train_model('conv', images=B('images'), targets=B('labels'),\n",
    "                         fetches='loss', save_to=V('loss', mode='w'))\n",
    "            .run_later(BATCH_SIZE, shuffle=True, n_epochs=None))\n",
    "\n",
    "train_ppl = train_template << mnist.train"
   ]
  },
  {
   "cell_type": "markdown",
   "metadata": {},
   "source": [
    "### Creating Research\n",
    "\n",
    "The simpliest thing we can do with Research is running this experiment several times to see how loss dynamics changes from run to run.\n",
    "\n",
    "To do this we define a `Research` object, pass the number of experiment iterations `n_reps=4` via initialization and add the pipeline with `add_pipeline`, passing `train_ppl`. The `variables` parameter gets a string or a list of strings that indicates which pipeline variables will be monitored by `Research` and written to research results on each iteration (note that we update loss variable with mode `'w'`). We also provide name that will be written to results, indicating their origin."
   ]
  },
  {
   "cell_type": "code",
   "execution_count": 4,
   "metadata": {},
   "outputs": [],
   "source": [
    "research = (Research(n_reps=4)\n",
    "    .add_pipeline('train_ppl', train_ppl, variables='loss')\n",
    ")"
   ]
  },
  {
   "cell_type": "markdown",
   "metadata": {},
   "source": [
    "### Running Research"
   ]
  },
  {
   "cell_type": "markdown",
   "metadata": {},
   "source": [
    "We run this Research with following parameters:\n",
    "    \n",
    "- `n_iters` - how many iterations will the experiment consist of. Each iteration here consists of processing a single batch\n",
    "- `name` - research name, also acts as a name for corresponding save folder\n",
    "- `bar` - toggles tqdm progress bar\n",
    "- `dump_results` - not to dump research results"
   ]
  },
  {
   "cell_type": "code",
   "execution_count": 5,
   "metadata": {},
   "outputs": [
    {
     "name": "stderr",
     "output_type": "stream",
     "text": [
      "0it [00:00, ?it/s]../../../batchflow/base.py:182: RuntimeWarning: Batch generation will never stop as n_epochs=None and n_iters=None\n",
      "  'n_epochs=None and n_iters=None', RuntimeWarning)\n",
      " 25%|██▌       | 1000/4000 [00:31<01:34, 31.78it/s]../../../batchflow/base.py:182: RuntimeWarning: Batch generation will never stop as n_epochs=None and n_iters=None\n",
      "  'n_epochs=None and n_iters=None', RuntimeWarning)\n",
      " 50%|█████     | 2000/4000 [01:03<01:03, 31.57it/s]../../../batchflow/base.py:182: RuntimeWarning: Batch generation will never stop as n_epochs=None and n_iters=None\n",
      "  'n_epochs=None and n_iters=None', RuntimeWarning)\n",
      " 75%|███████▌  | 3000/4000 [01:35<00:31, 31.38it/s]../../../batchflow/base.py:182: RuntimeWarning: Batch generation will never stop as n_epochs=None and n_iters=None\n",
      "  'n_epochs=None and n_iters=None', RuntimeWarning)\n",
      "100%|██████████| 4000/4000 [02:07<00:00, 31.36it/s]\n"
     ]
    },
    {
     "data": {
      "text/plain": [
       "<batchflow.research.research.Research at 0x7fdf949df208>"
      ]
     },
     "execution_count": 5,
     "metadata": {},
     "output_type": "execute_result"
    }
   ],
   "source": [
    "research.run(name='research', n_iters=ITERATIONS, bar=True, dump_results=False)"
   ]
  },
  {
   "cell_type": "markdown",
   "metadata": {},
   "source": [
    "### Investigating Research Results"
   ]
  },
  {
   "cell_type": "markdown",
   "metadata": {},
   "source": [
    "Let's investigate `pandas.DataFrame` representtation of research results."
   ]
  },
  {
   "cell_type": "code",
   "execution_count": 6,
   "metadata": {},
   "outputs": [
    {
     "name": "stdout",
     "output_type": "stream",
     "text": [
      "<class 'pandas.core.frame.DataFrame'>\n",
      "Int64Index: 4000 entries, 0 to 3999\n",
      "Data columns (total 6 columns):\n",
      " #   Column      Non-Null Count  Dtype  \n",
      "---  ------      --------------  -----  \n",
      " 0   id          4000 non-null   object \n",
      " 1   repetition  4000 non-null   object \n",
      " 2   updates     4000 non-null   object \n",
      " 3   device      4000 non-null   object \n",
      " 4   iteration   4000 non-null   int64  \n",
      " 5   loss        4000 non-null   float64\n",
      "dtypes: float64(1), int64(1), object(4)\n",
      "memory usage: 218.8+ KB\n"
     ]
    }
   ],
   "source": [
    "results = research.results.to_df(remove_auxilary=False, pivot=True)\n",
    "results.info()"
   ]
  },
  {
   "cell_type": "markdown",
   "metadata": {},
   "source": [
    "To see the experiments' results we call `to_df` method which returns `pandas.Dataframe` of 6 columns:\n",
    "- id — unique id for each experiment\n",
    "- repetition — experiment repetition number\n",
    "- updates - the number of domain updates before that experiment (idea will be described in the following tutorials)\n",
    "- device - the device value that was set for the experiment\n",
    "- iteration — experiment iteration number\n",
    "- loss — variable name passed earlier in add_pipeline"
   ]
  },
  {
   "cell_type": "code",
   "execution_count": 7,
   "metadata": {},
   "outputs": [
    {
     "data": {
      "text/html": [
       "<div>\n",
       "<style scoped>\n",
       "    .dataframe tbody tr th:only-of-type {\n",
       "        vertical-align: middle;\n",
       "    }\n",
       "\n",
       "    .dataframe tbody tr th {\n",
       "        vertical-align: top;\n",
       "    }\n",
       "\n",
       "    .dataframe thead th {\n",
       "        text-align: right;\n",
       "    }\n",
       "</style>\n",
       "<table border=\"1\" class=\"dataframe\">\n",
       "  <thead>\n",
       "    <tr style=\"text-align: right;\">\n",
       "      <th></th>\n",
       "      <th>id</th>\n",
       "      <th>repetition</th>\n",
       "      <th>updates</th>\n",
       "      <th>device</th>\n",
       "      <th>iteration</th>\n",
       "      <th>loss</th>\n",
       "    </tr>\n",
       "  </thead>\n",
       "  <tbody>\n",
       "    <tr>\n",
       "      <th>3559</th>\n",
       "      <td>13f3061b76072703</td>\n",
       "      <td>3</td>\n",
       "      <td>0</td>\n",
       "      <td>None</td>\n",
       "      <td>559</td>\n",
       "      <td>0.141251</td>\n",
       "    </tr>\n",
       "    <tr>\n",
       "      <th>277</th>\n",
       "      <td>b8c9f03168343965</td>\n",
       "      <td>0</td>\n",
       "      <td>0</td>\n",
       "      <td>None</td>\n",
       "      <td>277</td>\n",
       "      <td>0.158319</td>\n",
       "    </tr>\n",
       "    <tr>\n",
       "      <th>1205</th>\n",
       "      <td>d7fc81d017382418</td>\n",
       "      <td>1</td>\n",
       "      <td>0</td>\n",
       "      <td>None</td>\n",
       "      <td>205</td>\n",
       "      <td>0.160202</td>\n",
       "    </tr>\n",
       "    <tr>\n",
       "      <th>597</th>\n",
       "      <td>b8c9f03168343965</td>\n",
       "      <td>0</td>\n",
       "      <td>0</td>\n",
       "      <td>None</td>\n",
       "      <td>597</td>\n",
       "      <td>0.107596</td>\n",
       "    </tr>\n",
       "    <tr>\n",
       "      <th>3821</th>\n",
       "      <td>13f3061b76072703</td>\n",
       "      <td>3</td>\n",
       "      <td>0</td>\n",
       "      <td>None</td>\n",
       "      <td>821</td>\n",
       "      <td>0.057451</td>\n",
       "    </tr>\n",
       "    <tr>\n",
       "      <th>3028</th>\n",
       "      <td>13f3061b76072703</td>\n",
       "      <td>3</td>\n",
       "      <td>0</td>\n",
       "      <td>None</td>\n",
       "      <td>28</td>\n",
       "      <td>0.467901</td>\n",
       "    </tr>\n",
       "    <tr>\n",
       "      <th>3671</th>\n",
       "      <td>13f3061b76072703</td>\n",
       "      <td>3</td>\n",
       "      <td>0</td>\n",
       "      <td>None</td>\n",
       "      <td>671</td>\n",
       "      <td>0.047881</td>\n",
       "    </tr>\n",
       "    <tr>\n",
       "      <th>2434</th>\n",
       "      <td>b80801d328159459</td>\n",
       "      <td>2</td>\n",
       "      <td>0</td>\n",
       "      <td>None</td>\n",
       "      <td>434</td>\n",
       "      <td>0.248073</td>\n",
       "    </tr>\n",
       "    <tr>\n",
       "      <th>1087</th>\n",
       "      <td>d7fc81d017382418</td>\n",
       "      <td>1</td>\n",
       "      <td>0</td>\n",
       "      <td>None</td>\n",
       "      <td>87</td>\n",
       "      <td>0.203923</td>\n",
       "    </tr>\n",
       "    <tr>\n",
       "      <th>776</th>\n",
       "      <td>b8c9f03168343965</td>\n",
       "      <td>0</td>\n",
       "      <td>0</td>\n",
       "      <td>None</td>\n",
       "      <td>776</td>\n",
       "      <td>0.096340</td>\n",
       "    </tr>\n",
       "  </tbody>\n",
       "</table>\n",
       "</div>"
      ],
      "text/plain": [
       "                    id repetition updates device  iteration      loss\n",
       "3559  13f3061b76072703          3       0   None        559  0.141251\n",
       "277   b8c9f03168343965          0       0   None        277  0.158319\n",
       "1205  d7fc81d017382418          1       0   None        205  0.160202\n",
       "597   b8c9f03168343965          0       0   None        597  0.107596\n",
       "3821  13f3061b76072703          3       0   None        821  0.057451\n",
       "3028  13f3061b76072703          3       0   None         28  0.467901\n",
       "3671  13f3061b76072703          3       0   None        671  0.047881\n",
       "2434  b80801d328159459          2       0   None        434  0.248073\n",
       "1087  d7fc81d017382418          1       0   None         87  0.203923\n",
       "776   b8c9f03168343965          0       0   None        776  0.096340"
      ]
     },
     "execution_count": 7,
     "metadata": {},
     "output_type": "execute_result"
    }
   ],
   "source": [
    "results.sample(10)"
   ]
  },
  {
   "cell_type": "markdown",
   "metadata": {},
   "source": [
    "We can now draw a nice plot showing our loss dynamics on each experiment repetition."
   ]
  },
  {
   "cell_type": "code",
   "execution_count": 8,
   "metadata": {},
   "outputs": [
    {
     "data": {
      "text/plain": [
       "<AxesSubplot:xlabel='iteration'>"
      ]
     },
     "execution_count": 8,
     "metadata": {},
     "output_type": "execute_result"
    },
    {
     "data": {
      "image/png": "[encoded data removed]",
      "text/plain": [
       "<Figure size 432x288 with 1 Axes>"
      ]
     },
     "metadata": {
      "needs_background": "light"
     },
     "output_type": "display_data"
    }
   ],
   "source": [
    "results.pivot(index='iteration', columns='repetition', values='loss').plot()"
   ]
  },
  {
   "cell_type": "markdown",
   "metadata": {},
   "source": [
    "## Experiments with Domain"
   ]
  },
  {
   "cell_type": "markdown",
   "metadata": {},
   "source": [
    "`Domain` was descibed in the previous tutorials and here we use to run several experiments with different parameters in one research. Suppose we want to compare the performance of:\n",
    "- VGG7 and VGG16 models with different layouts ('convolution-normalization-activation' vs 'convolution-activation-normalization') and same default bias and pool_strides settings (which are no bias and 2)\n",
    "- VGG7 with pool_stride 1 and VGG16 with pool_stride 2, both with bias and default 'cna' layout"
   ]
  },
  {
   "cell_type": "markdown",
   "metadata": {},
   "source": [
    "We define a domain of parameters as follows. We define a `Domain` that consists of the parameter to vary and a list of values that we want to try in our research. Each parameter value defines a node in a parameter domain. We can add (+) domains to unite the nodes, multiply (*) them to get Cartesian product and also multiply domain options node-wise (@).\n",
    "\n",
    "`domain.iterator` is a generator that yields one node (that is, a single experiment specification) at a time. Printing a list of all nodes shows us all experiment modifications in a dict-like mode."
   ]
  },
  {
   "cell_type": "code",
   "execution_count": 9,
   "metadata": {},
   "outputs": [
    {
     "data": {
      "text/plain": [
       "[{'bias': 'False',\n",
       "  'layout': 'cna',\n",
       "  'model': 'VGG7',\n",
       "  'repetition': '0',\n",
       "  'stride': '2',\n",
       "  'updates': '0'},\n",
       " {'bias': 'False',\n",
       "  'layout': 'cna',\n",
       "  'model': 'VGG16',\n",
       "  'repetition': '0',\n",
       "  'stride': '2',\n",
       "  'updates': '0'},\n",
       " {'bias': 'False',\n",
       "  'layout': 'can',\n",
       "  'model': 'VGG7',\n",
       "  'repetition': '0',\n",
       "  'stride': '2',\n",
       "  'updates': '0'},\n",
       " {'bias': 'False',\n",
       "  'layout': 'can',\n",
       "  'model': 'VGG16',\n",
       "  'repetition': '0',\n",
       "  'stride': '2',\n",
       "  'updates': '0'},\n",
       " {'bias': 'True',\n",
       "  'layout': 'cna',\n",
       "  'model': 'VGG7',\n",
       "  'repetition': '0',\n",
       "  'stride': '1',\n",
       "  'updates': '0'},\n",
       " {'bias': 'True',\n",
       "  'layout': 'cna',\n",
       "  'model': 'VGG16',\n",
       "  'repetition': '0',\n",
       "  'stride': '2',\n",
       "  'updates': '0'}]"
      ]
     },
     "execution_count": 9,
     "metadata": {},
     "output_type": "execute_result"
    }
   ],
   "source": [
    "domain_1 = Domain(layout=['cna', 'can'], model=[VGG7, VGG16], bias=[False], stride=[2])\n",
    "domain_2 = (Domain(layout=['cna'], bias=[True])\n",
    "            * (Domain(model=[VGG7, VGG16]) @ Domain(stride=[1, 2])))\n",
    "domain = domain_1 + domain_2\n",
    "list(domain.iterator)"
   ]
  },
  {
   "cell_type": "markdown",
   "metadata": {},
   "source": [
    "Resulting configs have `'repetition'`, `'device'` and `'updates'` keys (descibed above). By default there is an one only repetition but it can be specified by `n_reps` parameters of Domain (see [tutorial 2](https://github.com/analysiscenter/batchflow/blob/research/examples/tutorials/research/02_domain.ipynb))"
   ]
  },
  {
   "cell_type": "markdown",
   "metadata": {},
   "source": [
    "### Creating Pipelines With Variable Parameters\n",
    "\n",
    "We should now update `model_config` so that it could read the values from domain defined above.\n",
    "Passing config option named expressions `C()` as parameters values with names from our parameter domain we define layout, `pool_strides` and `bias` in the model config. Then, we define model type passing named expression to `init_model` method of the pipeline."
   ]
  },
  {
   "cell_type": "code",
   "execution_count": 10,
   "metadata": {},
   "outputs": [],
   "source": [
    "model_config.update({\n",
    "    'body/block/layout': C('layout'),\n",
    "    'body/block/pool_strides': C('stride'),\n",
    "    'common/conv/bias': C('bias')\n",
    "})\n",
    "\n",
    "# For reference: previous train_template definition \n",
    "# train_template = (Pipeline()\n",
    "#             .init_variable('loss')\n",
    "#             .init_model('conv', VGG7, 'dynamic', config=model_config)\n",
    "#             .to_array(channels='last')\n",
    "#             .train_model('conv', images=B('images'), targets=B('labels'),\n",
    "#                          fetches='loss', save_to=V('loss', mode='w'))\n",
    "#             .run_later(BATCH_SIZE, shuffle=True, n_epochs=None))\n",
    "\n",
    "train_template = (Pipeline()\n",
    "            .init_variable('loss', default=[])\n",
    "            .init_model('conv', C('model'), 'dynamic', config=model_config) # Model class defined via named expression\n",
    "            .to_array(channels='last')\n",
    "            .train_model('conv', \n",
    "                         images=B('images'), targets=B('labels'),\n",
    "                         fetches='loss', save_to=V('loss', mode='w'))\n",
    "            .run_later(BATCH_SIZE, shuffle=True, n_epochs=None))\n",
    "\n",
    "train_ppl = train_template << mnist.train"
   ]
  },
  {
   "cell_type": "markdown",
   "metadata": {},
   "source": [
    "### Adding Domain To Research\n",
    "\n",
    "We define a new research as before but also add the domain of parameters. After that we run the research, and it takes much longer because we are now running 6 different experiments 2 times each beacuse we set `n_reps=2`."
   ]
  },
  {
   "cell_type": "code",
   "execution_count": 11,
   "metadata": {},
   "outputs": [
    {
     "name": "stderr",
     "output_type": "stream",
     "text": [
      "0it [00:00, ?it/s]../../../batchflow/base.py:182: RuntimeWarning: Batch generation will never stop as n_epochs=None and n_iters=None\n",
      "  'n_epochs=None and n_iters=None', RuntimeWarning)\n",
      "  8%|▊         | 1000/12000 [00:32<05:52, 31.21it/s]../../../batchflow/base.py:182: RuntimeWarning: Batch generation will never stop as n_epochs=None and n_iters=None\n",
      "  'n_epochs=None and n_iters=None', RuntimeWarning)\n",
      " 17%|█▋        | 2000/12000 [01:12<06:02, 27.55it/s]../../../batchflow/base.py:182: RuntimeWarning: Batch generation will never stop as n_epochs=None and n_iters=None\n",
      "  'n_epochs=None and n_iters=None', RuntimeWarning)\n",
      " 25%|██▌       | 3000/12000 [01:44<05:14, 28.63it/s]../../../batchflow/base.py:182: RuntimeWarning: Batch generation will never stop as n_epochs=None and n_iters=None\n",
      "  'n_epochs=None and n_iters=None', RuntimeWarning)\n",
      " 33%|███▎      | 4000/12000 [02:25<04:50, 27.55it/s]../../../batchflow/base.py:182: RuntimeWarning: Batch generation will never stop as n_epochs=None and n_iters=None\n",
      "  'n_epochs=None and n_iters=None', RuntimeWarning)\n",
      " 42%|████▏     | 5000/12000 [02:58<04:10, 27.99it/s]../../../batchflow/base.py:182: RuntimeWarning: Batch generation will never stop as n_epochs=None and n_iters=None\n",
      "  'n_epochs=None and n_iters=None', RuntimeWarning)\n",
      " 50%|█████     | 6000/12000 [03:40<03:40, 27.17it/s]../../../batchflow/base.py:182: RuntimeWarning: Batch generation will never stop as n_epochs=None and n_iters=None\n",
      "  'n_epochs=None and n_iters=None', RuntimeWarning)\n",
      " 58%|█████▊    | 7000/12000 [04:12<03:00, 27.71it/s]../../../batchflow/base.py:182: RuntimeWarning: Batch generation will never stop as n_epochs=None and n_iters=None\n",
      "  'n_epochs=None and n_iters=None', RuntimeWarning)\n",
      " 67%|██████▋   | 8000/12000 [04:53<02:26, 27.30it/s]../../../batchflow/base.py:182: RuntimeWarning: Batch generation will never stop as n_epochs=None and n_iters=None\n",
      "  'n_epochs=None and n_iters=None', RuntimeWarning)\n",
      " 75%|███████▌  | 9000/12000 [05:25<01:48, 27.64it/s]../../../batchflow/base.py:182: RuntimeWarning: Batch generation will never stop as n_epochs=None and n_iters=None\n",
      "  'n_epochs=None and n_iters=None', RuntimeWarning)\n",
      " 83%|████████▎ | 10000/12000 [06:05<01:13, 27.33it/s]../../../batchflow/base.py:182: RuntimeWarning: Batch generation will never stop as n_epochs=None and n_iters=None\n",
      "  'n_epochs=None and n_iters=None', RuntimeWarning)\n",
      " 92%|█████████▏| 11000/12000 [06:40<00:36, 27.50it/s]../../../batchflow/base.py:182: RuntimeWarning: Batch generation will never stop as n_epochs=None and n_iters=None\n",
      "  'n_epochs=None and n_iters=None', RuntimeWarning)\n",
      "100%|██████████| 12000/12000 [07:22<00:00, 27.10it/s]\n"
     ]
    },
    {
     "data": {
      "text/plain": [
       "<batchflow.research.research.Research at 0x7fdf7d85db38>"
      ]
     },
     "execution_count": 11,
     "metadata": {},
     "output_type": "execute_result"
    }
   ],
   "source": [
    "research = (Research(domain=domain, n_reps=2)\n",
    "            .add_pipeline('train', train_ppl, variables='loss'))\n",
    "\n",
    "research.run(n_iters=ITERATIONS, bar=True, dump_results=False)"
   ]
  },
  {
   "cell_type": "markdown",
   "metadata": {},
   "source": [
    "Research results now contain new columns `'layout'`, `'stride'`, `'bias'` and `'model'` with corresponding parameter values."
   ]
  },
  {
   "cell_type": "code",
   "execution_count": 12,
   "metadata": {},
   "outputs": [
    {
     "data": {
      "text/html": [
       "<div>\n",
       "<style scoped>\n",
       "    .dataframe tbody tr th:only-of-type {\n",
       "        vertical-align: middle;\n",
       "    }\n",
       "\n",
       "    .dataframe tbody tr th {\n",
       "        vertical-align: top;\n",
       "    }\n",
       "\n",
       "    .dataframe thead th {\n",
       "        text-align: right;\n",
       "    }\n",
       "</style>\n",
       "<table border=\"1\" class=\"dataframe\">\n",
       "  <thead>\n",
       "    <tr style=\"text-align: right;\">\n",
       "      <th></th>\n",
       "      <th>id</th>\n",
       "      <th>layout</th>\n",
       "      <th>model</th>\n",
       "      <th>bias</th>\n",
       "      <th>stride</th>\n",
       "      <th>repetition</th>\n",
       "      <th>updates</th>\n",
       "      <th>device</th>\n",
       "      <th>iteration</th>\n",
       "      <th>loss</th>\n",
       "    </tr>\n",
       "  </thead>\n",
       "  <tbody>\n",
       "    <tr>\n",
       "      <th>0</th>\n",
       "      <td>e9846ea030105347</td>\n",
       "      <td>cna</td>\n",
       "      <td>VGG7</td>\n",
       "      <td>False</td>\n",
       "      <td>2</td>\n",
       "      <td>0</td>\n",
       "      <td>0</td>\n",
       "      <td>None</td>\n",
       "      <td>0</td>\n",
       "      <td>2.397081</td>\n",
       "    </tr>\n",
       "    <tr>\n",
       "      <th>1</th>\n",
       "      <td>e9846ea030105347</td>\n",
       "      <td>cna</td>\n",
       "      <td>VGG7</td>\n",
       "      <td>False</td>\n",
       "      <td>2</td>\n",
       "      <td>0</td>\n",
       "      <td>0</td>\n",
       "      <td>None</td>\n",
       "      <td>1</td>\n",
       "      <td>1.948923</td>\n",
       "    </tr>\n",
       "    <tr>\n",
       "      <th>2</th>\n",
       "      <td>e9846ea030105347</td>\n",
       "      <td>cna</td>\n",
       "      <td>VGG7</td>\n",
       "      <td>False</td>\n",
       "      <td>2</td>\n",
       "      <td>0</td>\n",
       "      <td>0</td>\n",
       "      <td>None</td>\n",
       "      <td>2</td>\n",
       "      <td>1.749351</td>\n",
       "    </tr>\n",
       "    <tr>\n",
       "      <th>3</th>\n",
       "      <td>e9846ea030105347</td>\n",
       "      <td>cna</td>\n",
       "      <td>VGG7</td>\n",
       "      <td>False</td>\n",
       "      <td>2</td>\n",
       "      <td>0</td>\n",
       "      <td>0</td>\n",
       "      <td>None</td>\n",
       "      <td>3</td>\n",
       "      <td>1.436060</td>\n",
       "    </tr>\n",
       "    <tr>\n",
       "      <th>4</th>\n",
       "      <td>e9846ea030105347</td>\n",
       "      <td>cna</td>\n",
       "      <td>VGG7</td>\n",
       "      <td>False</td>\n",
       "      <td>2</td>\n",
       "      <td>0</td>\n",
       "      <td>0</td>\n",
       "      <td>None</td>\n",
       "      <td>4</td>\n",
       "      <td>1.334849</td>\n",
       "    </tr>\n",
       "  </tbody>\n",
       "</table>\n",
       "</div>"
      ],
      "text/plain": [
       "                 id layout model   bias stride repetition updates device  \\\n",
       "0  e9846ea030105347    cna  VGG7  False      2          0       0   None   \n",
       "1  e9846ea030105347    cna  VGG7  False      2          0       0   None   \n",
       "2  e9846ea030105347    cna  VGG7  False      2          0       0   None   \n",
       "3  e9846ea030105347    cna  VGG7  False      2          0       0   None   \n",
       "4  e9846ea030105347    cna  VGG7  False      2          0       0   None   \n",
       "\n",
       "   iteration      loss  \n",
       "0          0  2.397081  \n",
       "1          1  1.948923  \n",
       "2          2  1.749351  \n",
       "3          3  1.436060  \n",
       "4          4  1.334849  "
      ]
     },
     "execution_count": 12,
     "metadata": {},
     "output_type": "execute_result"
    }
   ],
   "source": [
    "results = research.results.to_df(remove_auxilary=False, pivot=True)\n",
    "results.head()"
   ]
  },
  {
   "cell_type": "markdown",
   "metadata": {},
   "source": [
    "## Controlling `to_df` output\n",
    "\n",
    "### Loading Results With Single-column Config Representation\n",
    "\n",
    "To combine different config options in a single-column string representation we can pass `concat_config=True` to `to_df` method."
   ]
  },
  {
   "cell_type": "code",
   "execution_count": 13,
   "metadata": {},
   "outputs": [
    {
     "data": {
      "text/html": [
       "<div>\n",
       "<style scoped>\n",
       "    .dataframe tbody tr th:only-of-type {\n",
       "        vertical-align: middle;\n",
       "    }\n",
       "\n",
       "    .dataframe tbody tr th {\n",
       "        vertical-align: top;\n",
       "    }\n",
       "\n",
       "    .dataframe thead th {\n",
       "        text-align: right;\n",
       "    }\n",
       "</style>\n",
       "<table border=\"1\" class=\"dataframe\">\n",
       "  <thead>\n",
       "    <tr style=\"text-align: right;\">\n",
       "      <th></th>\n",
       "      <th>id</th>\n",
       "      <th>config</th>\n",
       "      <th>repetition</th>\n",
       "      <th>updates</th>\n",
       "      <th>device</th>\n",
       "      <th>iteration</th>\n",
       "      <th>loss</th>\n",
       "    </tr>\n",
       "  </thead>\n",
       "  <tbody>\n",
       "    <tr>\n",
       "      <th>0</th>\n",
       "      <td>e9846ea030105347</td>\n",
       "      <td>bias_False-layout_cna-model_VGG7-stride_2</td>\n",
       "      <td>0</td>\n",
       "      <td>0</td>\n",
       "      <td>None</td>\n",
       "      <td>0</td>\n",
       "      <td>2.397081</td>\n",
       "    </tr>\n",
       "    <tr>\n",
       "      <th>1</th>\n",
       "      <td>e9846ea030105347</td>\n",
       "      <td>bias_False-layout_cna-model_VGG7-stride_2</td>\n",
       "      <td>0</td>\n",
       "      <td>0</td>\n",
       "      <td>None</td>\n",
       "      <td>1</td>\n",
       "      <td>1.948923</td>\n",
       "    </tr>\n",
       "    <tr>\n",
       "      <th>2</th>\n",
       "      <td>e9846ea030105347</td>\n",
       "      <td>bias_False-layout_cna-model_VGG7-stride_2</td>\n",
       "      <td>0</td>\n",
       "      <td>0</td>\n",
       "      <td>None</td>\n",
       "      <td>2</td>\n",
       "      <td>1.749351</td>\n",
       "    </tr>\n",
       "    <tr>\n",
       "      <th>3</th>\n",
       "      <td>e9846ea030105347</td>\n",
       "      <td>bias_False-layout_cna-model_VGG7-stride_2</td>\n",
       "      <td>0</td>\n",
       "      <td>0</td>\n",
       "      <td>None</td>\n",
       "      <td>3</td>\n",
       "      <td>1.436060</td>\n",
       "    </tr>\n",
       "    <tr>\n",
       "      <th>4</th>\n",
       "      <td>e9846ea030105347</td>\n",
       "      <td>bias_False-layout_cna-model_VGG7-stride_2</td>\n",
       "      <td>0</td>\n",
       "      <td>0</td>\n",
       "      <td>None</td>\n",
       "      <td>4</td>\n",
       "      <td>1.334849</td>\n",
       "    </tr>\n",
       "  </tbody>\n",
       "</table>\n",
       "</div>"
      ],
      "text/plain": [
       "                 id                                     config repetition  \\\n",
       "0  e9846ea030105347  bias_False-layout_cna-model_VGG7-stride_2          0   \n",
       "1  e9846ea030105347  bias_False-layout_cna-model_VGG7-stride_2          0   \n",
       "2  e9846ea030105347  bias_False-layout_cna-model_VGG7-stride_2          0   \n",
       "3  e9846ea030105347  bias_False-layout_cna-model_VGG7-stride_2          0   \n",
       "4  e9846ea030105347  bias_False-layout_cna-model_VGG7-stride_2          0   \n",
       "\n",
       "  updates device  iteration      loss  \n",
       "0       0   None          0  2.397081  \n",
       "1       0   None          1  1.948923  \n",
       "2       0   None          2  1.749351  \n",
       "3       0   None          3  1.436060  \n",
       "4       0   None          4  1.334849  "
      ]
     },
     "execution_count": 13,
     "metadata": {},
     "output_type": "execute_result"
    }
   ],
   "source": [
    "results = research.results.to_df(concat_config=True, remove_auxilary=False, pivot=True)\n",
    "results.head()"
   ]
  },
  {
   "cell_type": "code",
   "execution_count": 14,
   "metadata": {},
   "outputs": [
    {
     "data": {
      "image/png": "[encoded data removed]",
      "text/plain": [
       "<Figure size 1080x1080 with 6 Axes>"
      ]
     },
     "metadata": {
      "needs_background": "light"
     },
     "output_type": "display_data"
    }
   ],
   "source": [
    "fig, ax = plt.subplots(3, 2, figsize=(15, 15))\n",
    "for i, (config, df) in enumerate(results.groupby('config')):\n",
    "    x, y = i//2, i%2\n",
    "    df.pivot(index='iteration', columns='repetition', values='loss').plot(ax=ax[x, y])\n",
    "    ax[x, y].set_title(config)\n",
    "    ax[x, y].set_xlabel('iteration')\n",
    "    ax[x, y].set_ylabel('loss')\n",
    "    ax[x, y].grid(True)\n",
    "    ax[x, y].legend()"
   ]
  },
  {
   "cell_type": "markdown",
   "metadata": {},
   "source": [
    "## More Complex Execution Strategies\n",
    "\n",
    "Usually we would like to run more than a single unit like train pipeline.\n",
    "\n",
    "Let's define a test pipeline to that predicts labels for the test set with the model from the train pipeline on the last iteration of the research.\n",
    "\n",
    "### Creating Research with Multiple Pipelines\n",
    "\n",
    "We start with defining a train pipeline as before."
   ]
  },
  {
   "cell_type": "code",
   "execution_count": 15,
   "metadata": {},
   "outputs": [],
   "source": [
    "domain = Domain(layout=['cna', 'can'])\n",
    "\n",
    "model_config={\n",
    "    'inputs/images/shape': B('image_shape'),\n",
    "    'inputs/labels/classes': D('num_classes'),\n",
    "    'inputs/labels/name': 'targets',\n",
    "    'initial_block/inputs': 'images',\n",
    "    'body/block/layout': C('layout'),\n",
    "}\n",
    "\n",
    "train_template = (Pipeline()\n",
    "            .init_variable('train_loss')\n",
    "            .init_model('conv', VGG7, 'dynamic', config=model_config)\n",
    "            .to_array(channels='last')\n",
    "            .train_model('conv', \n",
    "                         images=B('images'), targets=B('labels'),\n",
    "                         fetches='loss', save_to=V('train_loss', mode='w'))\n",
    "            .run_later(BATCH_SIZE, shuffle=True, n_epochs=None))\n",
    "\n",
    "train_ppl = train_template << mnist.train"
   ]
  },
  {
   "cell_type": "markdown",
   "metadata": {},
   "source": [
    "We want to run the test pipeline on the whole test set from time to time during training.\n",
    "\n",
    "In order to get this, we specify lazy-run in test pipeline with `n_epochs=1` and then pass `run=True` to research's `add_pipeline`. These 2 parameter values tell `Research` to run the pipeline on the whole test set for 1 epoch, instead of running it batch-wise (which is how the train pipeline is run). We will also pass `when='last'` parameter to add_pipeline to tell `Research` that this pipeline should be executed only on the last iteration.\n",
    "\n",
    "To avoid experiment iteration stopping directly after `StopIteration` in `train_ppl` we also add `finalize=True`. In that case, `test_ppl` with `when='last'` will be executed.\n",
    "\n",
    "To let the test pipeline using the model from train pipeline we'll pass it via `C('import_from')`, setting it's value when creating Research.\n",
    "We update the pipeline variable `V('predictions')` with mode='a' so that it collects infomation from all batches in `test_ppl`"
   ]
  },
  {
   "cell_type": "code",
   "execution_count": 16,
   "metadata": {},
   "outputs": [],
   "source": [
    "test_template = (Pipeline()\n",
    "                 .init_variable('predictions', default=list())\n",
    "                 .import_model('conv', C('import_from'))\n",
    "                 .to_array(channels='last')\n",
    "                 .predict_model('conv', \n",
    "                                images=B('images'),\n",
    "                                fetches='predictions', save_to=V('predictions', mode='a'))\n",
    "                 .run_later(BATCH_SIZE, shuffle=False, n_epochs=1) #Note n_epochs=1\n",
    "                )\n",
    "\n",
    "test_ppl = test_template << mnist.test"
   ]
  },
  {
   "cell_type": "code",
   "execution_count": 17,
   "metadata": {},
   "outputs": [
    {
     "name": "stderr",
     "output_type": "stream",
     "text": [
      "0it [00:00, ?it/s]../../../batchflow/base.py:182: RuntimeWarning: Batch generation will never stop as n_epochs=None and n_iters=None\n",
      "  'n_epochs=None and n_iters=None', RuntimeWarning)\n",
      " 50%|█████     | 1000/2000 [00:36<00:36, 27.67it/s]../../../batchflow/base.py:182: RuntimeWarning: Batch generation will never stop as n_epochs=None and n_iters=None\n",
      "  'n_epochs=None and n_iters=None', RuntimeWarning)\n",
      "100%|██████████| 2000/2000 [01:11<00:00, 27.81it/s]\n"
     ]
    },
    {
     "data": {
      "text/plain": [
       "<batchflow.research.research.Research at 0x7fdf7c5715f8>"
      ]
     },
     "execution_count": 17,
     "metadata": {},
     "output_type": "execute_result"
    }
   ],
   "source": [
    "TEST_EXECUTE_FREQ = 'last'\n",
    "\n",
    "res_name = 'train_test_research'\n",
    "\n",
    "research = (Research(domain=domain)\n",
    "            .add_pipeline('train_ppl', train_ppl, variables='train_loss')\n",
    "            .add_pipeline('test_ppl', test_ppl, variables='predictions',\n",
    "                          when=TEST_EXECUTE_FREQ, run=True,\n",
    "                          import_from=E('train_ppl'))) # Note run=True\n",
    "\n",
    "research.run(n_iters=ITERATIONS, name=res_name, dump_results=False, bar=True)"
   ]
  },
  {
   "cell_type": "code",
   "execution_count": 18,
   "metadata": {},
   "outputs": [
    {
     "data": {
      "text/html": [
       "<div>\n",
       "<style scoped>\n",
       "    .dataframe tbody tr th:only-of-type {\n",
       "        vertical-align: middle;\n",
       "    }\n",
       "\n",
       "    .dataframe tbody tr th {\n",
       "        vertical-align: top;\n",
       "    }\n",
       "\n",
       "    .dataframe thead th {\n",
       "        text-align: right;\n",
       "    }\n",
       "</style>\n",
       "<table border=\"1\" class=\"dataframe\">\n",
       "  <thead>\n",
       "    <tr style=\"text-align: right;\">\n",
       "      <th></th>\n",
       "      <th>id</th>\n",
       "      <th>layout</th>\n",
       "      <th>iteration</th>\n",
       "      <th>train_loss</th>\n",
       "      <th>predictions</th>\n",
       "    </tr>\n",
       "  </thead>\n",
       "  <tbody>\n",
       "    <tr>\n",
       "      <th>1995</th>\n",
       "      <td>63d398aa23426253</td>\n",
       "      <td>can</td>\n",
       "      <td>995</td>\n",
       "      <td>0.085393</td>\n",
       "      <td>[]</td>\n",
       "    </tr>\n",
       "    <tr>\n",
       "      <th>1996</th>\n",
       "      <td>63d398aa23426253</td>\n",
       "      <td>can</td>\n",
       "      <td>996</td>\n",
       "      <td>0.047106</td>\n",
       "      <td>[]</td>\n",
       "    </tr>\n",
       "    <tr>\n",
       "      <th>1997</th>\n",
       "      <td>63d398aa23426253</td>\n",
       "      <td>can</td>\n",
       "      <td>997</td>\n",
       "      <td>0.058269</td>\n",
       "      <td>[]</td>\n",
       "    </tr>\n",
       "    <tr>\n",
       "      <th>1998</th>\n",
       "      <td>63d398aa23426253</td>\n",
       "      <td>can</td>\n",
       "      <td>998</td>\n",
       "      <td>0.064480</td>\n",
       "      <td>[]</td>\n",
       "    </tr>\n",
       "    <tr>\n",
       "      <th>1999</th>\n",
       "      <td>63d398aa23426253</td>\n",
       "      <td>can</td>\n",
       "      <td>999</td>\n",
       "      <td>0.118439</td>\n",
       "      <td>[[[-6.0898438, -2.0976562, -1.4736328, 1.69238...</td>\n",
       "    </tr>\n",
       "  </tbody>\n",
       "</table>\n",
       "</div>"
      ],
      "text/plain": [
       "                    id layout  iteration  train_loss  \\\n",
       "1995  63d398aa23426253    can        995    0.085393   \n",
       "1996  63d398aa23426253    can        996    0.047106   \n",
       "1997  63d398aa23426253    can        997    0.058269   \n",
       "1998  63d398aa23426253    can        998    0.064480   \n",
       "1999  63d398aa23426253    can        999    0.118439   \n",
       "\n",
       "                                            predictions  \n",
       "1995                                                 []  \n",
       "1996                                                 []  \n",
       "1997                                                 []  \n",
       "1998                                                 []  \n",
       "1999  [[[-6.0898438, -2.0976562, -1.4736328, 1.69238...  "
      ]
     },
     "execution_count": 18,
     "metadata": {},
     "output_type": "execute_result"
    }
   ],
   "source": [
    "research.results.to_df(pivot=True).tail()"
   ]
  },
  {
   "cell_type": "markdown",
   "metadata": {},
   "source": [
    "## Getting metrics\n",
    "\n",
    "There is a special research util method `get_metrics` for collecting metrics."
   ]
  },
  {
   "cell_type": "code",
   "execution_count": 19,
   "metadata": {},
   "outputs": [],
   "source": [
    "from batchflow.research.utils import get_metrics"
   ]
  },
  {
   "cell_type": "markdown",
   "metadata": {},
   "source": [
    "First we redefine the test pipeline and add variables to store predictions and metrics computed for these predictions via gather_metrics.\n",
    "\n",
    "We update `V('predictions')` with default mode `mode='w'`, that is overwrite it on each `test_ppl` iteration, because we need it only to compute metrics. We update `V('metrics')` with `mode='a'` because we want it to keep metrics from all batches in `test_ppl`."
   ]
  },
  {
   "cell_type": "code",
   "execution_count": 20,
   "metadata": {},
   "outputs": [],
   "source": [
    "TEST_EXECUTE_FREQ = [100, 'last']\n",
    "\n",
    "test_template = (Pipeline()\n",
    "                 .init_variable('predictions')\n",
    "                 .init_variable('metrics')\n",
    "                 .import_model('conv', C('import_from'))\n",
    "                 .to_array(channels='last')\n",
    "                 .predict_model('conv', \n",
    "                                images=B('images'),\n",
    "                                fetches='predictions', save_to=V('predictions'))\n",
    "                 .gather_metrics('class', targets=B('labels'), predictions=V('predictions'), \n",
    "                                fmt='logits', axis=-1, save_to=V('metrics', mode='a'))\n",
    "                 .run_later(BATCH_SIZE, shuffle=True, n_epochs=1))\n",
    "\n",
    "test_ppl = test_template << mnist.test"
   ]
  },
  {
   "cell_type": "markdown",
   "metadata": {},
   "source": [
    "### Collecting Metrics in Research\n",
    "\n",
    "We pass test pipeline name to collect metrics from it (`pipeline='test_ppl'`), named expression storing collected metrics (`metrics_var='metrics'`) and string indicating which metric to calculate (`metrics_name='accuracy'`). We also change `loglevel` to `'info'`."
   ]
  },
  {
   "cell_type": "code",
   "execution_count": 21,
   "metadata": {},
   "outputs": [
    {
     "name": "stderr",
     "output_type": "stream",
     "text": [
      "21-06-25 13:18:46 - research - INFO - Research is starting\n",
      "21-06-25 13:18:46 - research - INFO - Get 1 tasks with 1 configs, remains 1\n",
      "21-06-25 13:18:46 - research - INFO - Start workers (parallel=True)\n",
      "21-06-25 13:18:46 - research - INFO - Worker 0[pid:27987] has started.\n",
      "21-06-25 13:18:46 - research - INFO - Worker 0[pid:27987] have got task 0.\n",
      "21-06-25 13:18:46 - research.ef9a9d3127555510 - INFO - Task 0[0] has been started with config:\n",
      " {'id': 'ef9a9d3127555510', 'layout': 'cna', 'repetition': '0', 'updates': '0'}\n",
      "21-06-25 13:18:46 - research.ef9a9d3127555510 - INFO - Task 0[0] has been started with config:\n",
      " {'id': 'ef9a9d3127555510', 'layout': 'cna', 'repetition': '0', 'updates': '0'}\n",
      "../../../batchflow/base.py:182: RuntimeWarning: Batch generation will never stop as n_epochs=None and n_iters=None\n",
      "  'n_epochs=None and n_iters=None', RuntimeWarning)\n",
      "21-06-25 13:19:34 - research.ef9a9d3127555510 - INFO - Task 0[0] has been finished.\n",
      "21-06-25 13:19:34 - research.ef9a9d3127555510 - INFO - Task 0[0] has been finished.\n",
      "21-06-25 13:19:35 - research - INFO - Get 1 tasks with 1 configs, remains 0\n",
      "21-06-25 13:19:35 - research - INFO - Worker 0[pid:27987] have got task 1.\n",
      "21-06-25 13:19:35 - research.63d398aa85426615 - INFO - Task 1[0] has been started with config:\n",
      " {'id': '63d398aa85426615', 'layout': 'can', 'repetition': '0', 'updates': '0'}\n",
      "21-06-25 13:19:35 - research.63d398aa85426615 - INFO - Task 1[0] has been started with config:\n",
      " {'id': '63d398aa85426615', 'layout': 'can', 'repetition': '0', 'updates': '0'}\n",
      "../../../batchflow/base.py:182: RuntimeWarning: Batch generation will never stop as n_epochs=None and n_iters=None\n",
      "  'n_epochs=None and n_iters=None', RuntimeWarning)\n",
      "21-06-25 13:20:22 - research.63d398aa85426615 - INFO - Task 1[0] has been finished.\n",
      "21-06-25 13:20:22 - research.63d398aa85426615 - INFO - Task 1[0] has been finished.\n",
      "21-06-25 13:20:22 - research - INFO - Get 1 tasks with 0 configs, remains 0\n",
      "21-06-25 13:20:22 - research - INFO - All workers have finished the work\n",
      "21-06-25 13:20:22 - research - INFO - Worker 0[pid:27987] has stopped.\n"
     ]
    },
    {
     "data": {
      "text/plain": [
       "<batchflow.research.research.Research at 0x7fdf7c8d38d0>"
      ]
     },
     "execution_count": 21,
     "metadata": {},
     "output_type": "execute_result"
    }
   ],
   "source": [
    "research = (Research(domain=domain)\n",
    "            .add_pipeline('train_ppl', train_ppl, variables='train_loss')\n",
    "            .add_pipeline('test_ppl', test_ppl,\n",
    "                          when=TEST_EXECUTE_FREQ, run=True, import_from=E('train_ppl'))\n",
    "            .get_metrics(pipeline=E('test_ppl').pipeline, metrics_var='metrics',\n",
    "                         metrics_name='accuracy', save_to='accuracy',\n",
    "                         when=TEST_EXECUTE_FREQ)\n",
    ")\n",
    "\n",
    "research.run(n_iters=ITERATIONS, dump_results=False, loglevel='info', bar=False)"
   ]
  },
  {
   "cell_type": "code",
   "execution_count": 22,
   "metadata": {},
   "outputs": [
    {
     "data": {
      "text/html": [
       "<div>\n",
       "<style scoped>\n",
       "    .dataframe tbody tr th:only-of-type {\n",
       "        vertical-align: middle;\n",
       "    }\n",
       "\n",
       "    .dataframe tbody tr th {\n",
       "        vertical-align: top;\n",
       "    }\n",
       "\n",
       "    .dataframe thead th {\n",
       "        text-align: right;\n",
       "    }\n",
       "</style>\n",
       "<table border=\"1\" class=\"dataframe\">\n",
       "  <thead>\n",
       "    <tr style=\"text-align: right;\">\n",
       "      <th></th>\n",
       "      <th>id</th>\n",
       "      <th>layout</th>\n",
       "      <th>iteration</th>\n",
       "      <th>train_loss</th>\n",
       "      <th>accuracy</th>\n",
       "    </tr>\n",
       "  </thead>\n",
       "  <tbody>\n",
       "    <tr>\n",
       "      <th>0</th>\n",
       "      <td>ef9a9d3127555510</td>\n",
       "      <td>cna</td>\n",
       "      <td>49</td>\n",
       "      <td>0.193257</td>\n",
       "      <td>NaN</td>\n",
       "    </tr>\n",
       "    <tr>\n",
       "      <th>1</th>\n",
       "      <td>63d398aa85426615</td>\n",
       "      <td>can</td>\n",
       "      <td>49</td>\n",
       "      <td>0.426614</td>\n",
       "      <td>NaN</td>\n",
       "    </tr>\n",
       "  </tbody>\n",
       "</table>\n",
       "</div>"
      ],
      "text/plain": [
       "                 id layout  iteration  train_loss  accuracy\n",
       "0  ef9a9d3127555510    cna         49    0.193257       NaN\n",
       "1  63d398aa85426615    can         49    0.426614       NaN"
      ]
     },
     "execution_count": 22,
     "metadata": {},
     "output_type": "execute_result"
    }
   ],
   "source": [
    "research.results.to_df(pivot=True, iterations=49)"
   ]
  },
  {
   "cell_type": "markdown",
   "metadata": {},
   "source": [
    "### Collecting Test Loss In Research"
   ]
  },
  {
   "cell_type": "markdown",
   "metadata": {},
   "source": [
    "In order to monitor test loss one can use Metrics machinery. We add `gather_metrics` of type `'loss'` and pass current loss and batch size."
   ]
  },
  {
   "cell_type": "code",
   "execution_count": 23,
   "metadata": {},
   "outputs": [],
   "source": [
    "test_template = (Pipeline()\n",
    "                .init_variable('loss')\n",
    "                .init_variable('predictions')\n",
    "                .init_variable('test_loss')\n",
    "                .init_variable('metric_class')\n",
    "                .import_model('conv', C('import_from'))\n",
    "                .to_array(channels='last')\n",
    "                .predict_model('conv', \n",
    "                               images=B.images, labels=B.labels,\n",
    "                               fetches=['loss', 'predictions'],\n",
    "                               save_to=[V('loss'), V('predictions')])\n",
    "                .gather_metrics('class', targets=B('labels'), predictions=V('predictions'), \n",
    "                                fmt='logits', axis=-1, save_to=V('metric_class', mode='a'))\n",
    "                .gather_metrics('loss', loss=V('loss'), batch_len=B.images.shape[0], save_to=V('test_loss', mode='a'))\n",
    "                .run_later(BATCH_SIZE, n_epochs=1, shuffle=False)\n",
    ")\n",
    "\n",
    "test_ppl = test_template << mnist.test"
   ]
  },
  {
   "cell_type": "markdown",
   "metadata": {},
   "source": [
    "We collect test loss in research as before"
   ]
  },
  {
   "cell_type": "code",
   "execution_count": null,
   "metadata": {},
   "outputs": [
    {
     "name": "stderr",
     "output_type": "stream",
     "text": [
      "21-06-25 13:20:23 - research - INFO - Research is starting\n",
      "21-06-25 13:20:23 - research - INFO - Research is starting\n",
      "21-06-25 13:20:23 - research - INFO - Get 1 tasks with 1 configs, remains 1\n",
      "21-06-25 13:20:23 - research - INFO - Get 1 tasks with 1 configs, remains 1\n",
      "21-06-25 13:20:23 - research - INFO - Start workers (parallel=True)\n",
      "21-06-25 13:20:23 - research - INFO - Start workers (parallel=True)\n",
      "21-06-25 13:20:23 - research - INFO - Worker 0[pid:38844] has started.\n",
      "21-06-25 13:20:23 - research - INFO - Worker 0[pid:38844] has started.\n",
      "21-06-25 13:20:23 - research - INFO - Worker 0[pid:38844] have got task 0.\n",
      "21-06-25 13:20:23 - research - INFO - Worker 0[pid:38844] have got task 0.\n",
      "21-06-25 13:20:23 - research.ef9a9d3136707232 - INFO - Task 0[0] has been started with config:\n",
      " {'id': 'ef9a9d3136707232', 'layout': 'cna', 'repetition': '0', 'updates': '0'}\n",
      "21-06-25 13:20:23 - research.ef9a9d3136707232 - INFO - Task 0[0] has been started with config:\n",
      " {'id': 'ef9a9d3136707232', 'layout': 'cna', 'repetition': '0', 'updates': '0'}\n",
      "21-06-25 13:20:23 - research.ef9a9d3136707232 - INFO - Task 0[0] has been started with config:\n",
      " {'id': 'ef9a9d3136707232', 'layout': 'cna', 'repetition': '0', 'updates': '0'}\n",
      "../../../batchflow/base.py:182: RuntimeWarning: Batch generation will never stop as n_epochs=None and n_iters=None\n",
      "  'n_epochs=None and n_iters=None', RuntimeWarning)\n",
      "21-06-25 13:21:13 - research.ef9a9d3136707232 - INFO - Task 0[0] has been finished.\n",
      "21-06-25 13:21:13 - research.ef9a9d3136707232 - INFO - Task 0[0] has been finished.\n",
      "21-06-25 13:21:13 - research.ef9a9d3136707232 - INFO - Task 0[0] has been finished.\n",
      "21-06-25 13:21:14 - research - INFO - Get 1 tasks with 1 configs, remains 0\n",
      "21-06-25 13:21:14 - research - INFO - Get 1 tasks with 1 configs, remains 0\n",
      "21-06-25 13:21:14 - research - INFO - Worker 0[pid:38844] have got task 1.\n",
      "21-06-25 13:21:14 - research - INFO - Worker 0[pid:38844] have got task 1.\n",
      "21-06-25 13:21:14 - research.63d398aa16590771 - INFO - Task 1[0] has been started with config:\n",
      " {'id': '63d398aa16590771', 'layout': 'can', 'repetition': '0', 'updates': '0'}\n",
      "21-06-25 13:21:14 - research.63d398aa16590771 - INFO - Task 1[0] has been started with config:\n",
      " {'id': '63d398aa16590771', 'layout': 'can', 'repetition': '0', 'updates': '0'}\n",
      "21-06-25 13:21:14 - research.63d398aa16590771 - INFO - Task 1[0] has been started with config:\n",
      " {'id': '63d398aa16590771', 'layout': 'can', 'repetition': '0', 'updates': '0'}\n",
      "../../../batchflow/base.py:182: RuntimeWarning: Batch generation will never stop as n_epochs=None and n_iters=None\n",
      "  'n_epochs=None and n_iters=None', RuntimeWarning)\n"
     ]
    }
   ],
   "source": [
    "research = (Research(domain=domain)\n",
    "            .add_pipeline('train_ppl', train_ppl, variables='train_loss')\n",
    "            .add_pipeline('test_ppl', test_ppl,\n",
    "                          when=TEST_EXECUTE_FREQ, run=True, import_from=E('train_ppl'))\n",
    "            .get_metrics(pipeline=E('test_ppl').pipeline, metrics_var='metrics',\n",
    "                         metrics_name='accuracy', save_to='accuracy',\n",
    "                         when=TEST_EXECUTE_FREQ)\n",
    "            .get_metrics(pipeline=E('test_ppl').pipeline, metrics_var='test_loss',\n",
    "                         metrics_name='loss', save_to='test_loss',\n",
    "                         when=TEST_EXECUTE_FREQ)\n",
    ")\n",
    "\n",
    "research.run(n_iters=ITERATIONS, dump_results=False, loglevel='info', bar=False)"
   ]
  },
  {
   "cell_type": "code",
   "execution_count": null,
   "metadata": {},
   "outputs": [],
   "source": [
    "df = research.results.to_df(pivot=True, remove_auxilary=False, concat_config=True)"
   ]
  },
  {
   "cell_type": "code",
   "execution_count": null,
   "metadata": {},
   "outputs": [],
   "source": [
    "# from batchflow.research.utils import plot_results_by_config\n",
    "\n",
    "import numpy as np\n",
    "\n",
    "plot_results_by_config(df, ['train_loss', 'test_loss', 'accuracy'],\n",
    "                       figsize=(20, 15))"
   ]
  }
 ],
 "metadata": {
  "kernelspec": {
   "display_name": "Python 3",
   "language": "python",
   "name": "python3"
  },
  "language_info": {
   "codemirror_mode": {
    "name": "ipython",
    "version": 3
   },
   "file_extension": ".py",
   "mimetype": "text/x-python",
   "name": "python",
   "nbconvert_exporter": "python",
   "pygments_lexer": "ipython3",
   "version": "3.6.10"
  }
 },
 "nbformat": 4,
 "nbformat_minor": 4
}
